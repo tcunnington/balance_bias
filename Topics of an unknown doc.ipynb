{
 "cells": [
  {
   "cell_type": "code",
   "execution_count": 10,
   "metadata": {},
   "outputs": [
    {
     "name": "stdout",
     "output_type": "stream",
     "text": [
      "The autoreload extension is already loaded. To reload it, use:\n",
      "  %reload_ext autoreload\n"
     ]
    }
   ],
   "source": [
    "%load_ext autoreload\n",
    "%autoreload 2\n",
    "\n",
    "from pipeline.lda import LDABuilder\n",
    "from pipeline.preprocessing import Preprocessor\n",
    "\n",
    "from pipeline.utils import *"
   ]
  },
  {
   "cell_type": "code",
   "execution_count": 11,
   "metadata": {},
   "outputs": [
    {
     "name": "stdout",
     "output_type": "stream",
     "text": [
      "load spacy model\n",
      "['tagger', 'sbd']\n",
      "Loading bi-gram model...\n",
      "Done!\n",
      "Loading tri-gram model...\n",
      "Done!\n"
     ]
    }
   ],
   "source": [
    "prep = Preprocessor('all_the_news',  preload_models=True)"
   ]
  },
  {
   "cell_type": "code",
   "execution_count": 12,
   "metadata": {
    "collapsed": true
   },
   "outputs": [],
   "source": [
    "ldab = LDABuilder('all_the_news')"
   ]
  },
  {
   "cell_type": "code",
   "execution_count": 13,
   "metadata": {},
   "outputs": [
    {
     "name": "stdout",
     "output_type": "stream",
     "text": [
      "Loading LDA model (n_topics=50)...\n",
      "Loading LDA model (n_topics=75)...\n",
      "Loading LDA model (n_topics=100)...\n"
     ]
    }
   ],
   "source": [
    "lda50 = ldab.get_lda_model(50, from_scratch=False)\n",
    "lda75 = ldab.get_lda_model(75, from_scratch=False)\n",
    "lda100 = ldab.get_lda_model(100, from_scratch=False)"
   ]
  },
  {
   "cell_type": "code",
   "execution_count": 14,
   "metadata": {},
   "outputs": [],
   "source": [
    "# %%time\n",
    "# from gensim.similarities import MatrixSimilarity\n",
    "# trigram_dictionary = ldab.get_corpus_dict()\n",
    "# bow_corpus = ldab.get_trigram_bow_corpus(trigram_dictionary)\n",
    "# index = MatrixSimilarity(lda75[bow_corpus])\n",
    "# index = similarities.MatrixSimilarity(lda75[trigram_dictionary])\n",
    "# index.save(\"similarity.n75.index\")\n",
    "# sims = index[vec_lda]"
   ]
  },
  {
   "cell_type": "code",
   "execution_count": 8,
   "metadata": {},
   "outputs": [
    {
     "data": {
      "text/plain": [
       "['0.010*\"song\" + 0.008*\"music\" + 0.006*\"album\" + 0.004*\"play\" + 0.004*\"band\" + 0.003*\"win\" + 0.003*\"team\" + 0.003*\"record\" + 0.003*\"game\" + 0.003*\"man\"',\n",
       " '0.039*\"clinton\" + 0.016*\"email\" + 0.010*\"hillary_clinton\" + 0.007*\"fbi\" + 0.007*\"state_department\" + 0.006*\"state\" + 0.006*\"release\" + 0.005*\"secretary\" + 0.005*\"hillary\" + 0.004*\"campaign\"',\n",
       " '0.007*\"film\" + 0.006*\"woman\" + 0.006*\"black\" + 0.005*\"movie\" + 0.004*\"way\" + 0.004*\"think\" + 0.004*\"thing\" + 0.004*\"life\" + 0.004*\"write\" + 0.004*\"play\"',\n",
       " '0.008*\"city\" + 0.006*\"home\" + 0.005*\"live\" + 0.004*\"house\" + 0.004*\"family\" + 0.004*\"child\" + 0.004*\"day\" + 0.004*\"street\" + 0.003*\"look\" + 0.003*\"life\"',\n",
       " '0.014*\"game\" + 0.011*\"team\" + 0.010*\"play\" + 0.009*\"season\" + 0.008*\"player\" + 0.007*\"win\" + 0.004*\"run\" + 0.004*\"start\" + 0.004*\"think\" + 0.004*\"point\"']"
      ]
     },
     "execution_count": 8,
     "metadata": {},
     "output_type": "execute_result"
    }
   ],
   "source": [
    "[lda75.print_topic(t) for t in [8, 11, 12, 17, 23]]"
   ]
  },
  {
   "cell_type": "code",
   "execution_count": 17,
   "metadata": {},
   "outputs": [
    {
     "data": {
      "text/plain": [
       "[(11,\n",
       "  '0.039*\"clinton\" + 0.016*\"email\" + 0.010*\"hillary_clinton\" + 0.007*\"fbi\" + 0.007*\"state_department\" + 0.006*\"state\" + 0.006*\"release\" + 0.005*\"secretary\" + 0.005*\"hillary\" + 0.004*\"campaign\"'),\n",
       " (14,\n",
       "  '0.007*\"report\" + 0.006*\"trump\" + 0.005*\"campaign\" + 0.005*\"investigation\" + 0.004*\"fbi\" + 0.004*\"britain\" + 0.004*\"information\" + 0.004*\"comey\" + 0.004*\"case\" + 0.003*\"official\"'),\n",
       " (21,\n",
       "  '0.023*\"trump\" + 0.008*\"obama\" + 0.007*\"president\" + 0.007*\"think\" + 0.007*\"clinton\" + 0.006*\"campaign\" + 0.005*\"vote\" + 0.005*\"republicans\" + 0.005*\"donald_trump\" + 0.005*\"party\"'),\n",
       " (41,\n",
       "  '0.045*\"trump\" + 0.008*\"mr.\" + 0.008*\"president\" + 0.005*\"country\" + 0.005*\"campaign\" + 0.004*\"business\" + 0.004*\"american\" + 0.004*\"donald_trump\" + 0.003*\"report\" + 0.003*\"think\"'),\n",
       " (51,\n",
       "  '0.030*\"trump\" + 0.016*\"president\" + 0.007*\"comey\" + 0.006*\"white_house\" + 0.006*\"ask\" + 0.004*\"question\" + 0.004*\"think\" + 0.004*\"flynn\" + 0.003*\"day\" + 0.003*\"want\"'),\n",
       " (53,\n",
       "  '0.048*\"trump\" + 0.007*\"russia\" + 0.007*\"campaign\" + 0.007*\"donald_trump\" + 0.006*\"president\" + 0.005*\"election\" + 0.005*\"mr.\" + 0.004*\"state\" + 0.004*\"vote\" + 0.004*\"clinton\"'),\n",
       " (67,\n",
       "  '0.011*\"school\" + 0.008*\"state\" + 0.005*\"program\" + 0.005*\"money\" + 0.005*\"tax\" + 0.005*\"education\" + 0.004*\"student\" + 0.004*\"cost\" + 0.004*\"public\" + 0.004*\"federal\"')]"
      ]
     },
     "execution_count": 17,
     "metadata": {},
     "output_type": "execute_result"
    }
   ],
   "source": [
    "\n",
    "def text_to_topics(text, lda):\n",
    "    parsed_doc = prep.process_doc(text)\n",
    "    bow = trigram_dictionary.doc2bow(parsed_doc)\n",
    "    return lda[bow]\n",
    "\n",
    "[(t[0], lda75.print_topic(t[0])) for t in text_to_topics(election_text, lda75)]"
   ]
  },
  {
   "cell_type": "code",
   "execution_count": null,
   "metadata": {
    "collapsed": true
   },
   "outputs": [],
   "source": [
    "# lda200 = ldab.get_lda_model(200)"
   ]
  },
  {
   "cell_type": "code",
   "execution_count": 5,
   "metadata": {
    "collapsed": true
   },
   "outputs": [],
   "source": [
    "my_text = \"\"\"\n",
    "I just have to get campaign funds and get cozy with congress, Repulicans and Democrats alike. Donald Trump a a bad president.\n",
    "Also we should talk about guns and shootings. The number of gun deaths is completely out of hand.\n",
    "A lot of people say that things are out of hand, or at least less than ideal.\n",
    "Those on Capitol Hill may soon come under pressure by the unions.\n",
    "\"\"\"\n"
   ]
  },
  {
   "cell_type": "code",
   "execution_count": 6,
   "metadata": {
    "collapsed": true
   },
   "outputs": [],
   "source": [
    "article = \"\"\"\n",
    "Senate Democrats, who are divided on abortion policy, are instead turning to health care as a rallying cry for opposition to Brett Kavanaugh, President Trump's Supreme Court nominee.\n",
    "Specifically, they are sounding the alarm that confirming the conservative District Court judge could jeopardize one of the Affordable Care Act's most popular provisions — its protections for people with pre-existing health conditions.\n",
    "\"Democrats believe the No. 1 issue in America is health care, and the ability of people to get good health care at prices they can afford,\" said Senate Minority Leader Chuck Schumer, D-N.Y.\n",
    "The Kavanaugh nomination, he added, \"would put a dagger\" through the heart of that belief.\n",
    "Who Is Brett Kavanaugh, President Trump's Pick For The Supreme Court?\n",
    "Democratic senators spent Tuesday trying to connect the dots between potential threats to health care and Trump's high court pick.\n",
    "\"President Trump as a candidate made it very clear that his priority was to put justices on the court who would correct for the fatal flaw of John Roberts,\" said Sen. Chris Murphy, D-Conn., on the Senate floor Tuesday. Chief Justice Roberts was the decisive fifth vote to uphold the ACA in a key case in 2012. \"[Republicans'] new strategy is to use the court system to invalidate the protections in the law for people with pre-existing conditions,\" Murphy said.\n",
    "Murphy — and many of his Democratic colleagues — are referring to a case filed in Texas in February by 20 Republican state attorneys general. The AGs from these states charge that because the tax bill passed by Congress last year eliminated the tax penalty for not having health insurance, it rendered the entire federal health law void.\n",
    "Their reasoning was that Roberts based his opinion upholding the ACA on Congress' taxing power. Without the tax, the AGs argue, the law should be held unconstitutional.\n",
    "The Trump administration, which might have been expected to defend the ACA because defending federal law is part of what the Justice Department is tasked to do, opted instead, in this case, to follow a different course of action.\n",
    "In a response filed in June, political appointees in the department said eliminating the penalty should not invalidate the entire ACA. But, they argued, it should nullify provisions that prevent insurers from refusing to sell insurance to people with pre-existing conditions or charging them higher premiums.\n",
    "If this argument were to be upheld by a newly reconstituted Supreme Court, the health law would be dealt a serious blow.\n",
    "The lawsuit, however, is only in its earliest stages. And many legal scholars on both sides doubt it will get very far.\n",
    "In an amicus brief filed with the court in June, five liberal and conservative legal experts (who disagreed on previous ACA cases) this time argued that both the Republican attorneys general and the Justice Department are wrong — that eliminating the mandate penalty should have no impact on the rest of the law.\n",
    "Their position is rooted in something called \"congressional intent.\" When a court wants to invalidate a portion of a law, it usually also has to determine whether Congress would have considered other aspects of the law unworkable without it.\n",
    "But that is not a problem in this case, the legal experts argued in their brief.\n",
    "\"Here, Congress itself has essentially eliminated the provision in question and left the rest of a statute standing,\" they wrote. \"In such cases, congressional intent is clear.\"\n",
    "The merits of the lawsuit notwithstanding, the issue works well for Democrats.\n",
    "For one thing, the health law's pre-existing condition protections are among its most popular parts, according to public opinion polls.\n",
    "And unlike abortion, defending the health law is something all Senate Democrats can rally around. That includes some vulnerable senators in states that voted for Trump in 2016, including Sens. Joe Manchin, D-W.Va., Heidi Heitkamp, D-N.D., and Joe Donnelly, D-Ind. None are strong supporters of abortion rights. But all have stood firm against GOP efforts to take apart the Affordable Care Act.\n",
    "Manchin, for example, issued a statement about the nomination that said, \"The Supreme Court will ultimately decide if nearly 800,000 West Virginians with preexisting conditions will lose their health care.\"\n",
    "Manchin's opponent in November is his state's Republican attorney general, Patrick Morrisey, who is one of the officials who filed the suit against the health law.\n",
    "\"\"\""
   ]
  },
  {
   "cell_type": "code",
   "execution_count": 16,
   "metadata": {
    "collapsed": true
   },
   "outputs": [],
   "source": [
    "election_text = \"\"\"\n",
    "Democrats have yearned for a moment of political exoneration ever since Hillary Clinton’s defeat in 2016. They have looked to Russian interference in the campaign, claims of bias in the media and allegations of Republican lawbreaking to explain an upset that few in the party foresaw.\n",
    "\n",
    "Perhaps most of all, Democrats have vented indignation at the F.B.I. and its former director, James B. Comey, for reviving the issue of Hillary Clinton’s private email server in the last days of the race.\n",
    "\n",
    "On Thursday, Clinton supporters won a powerful kind of validation from the unlikeliest source: President Trump’s Department of Justice.\n",
    "\n",
    "The inspector general’s report criticizing Mr. Comey for his flamboyant handling of the Clinton investigation sent an angry thrill through the ranks of Democrats and Mrs. Clinton’s allies. Michael E. Horowitz, an investigator not appointed by Mr. Trump, concluded that Mr. Comey had twice breached the bureau’s traditional discretion: first by holding a July news conference to announce he would not charge Mrs. Clinton with mishandling classified information, and then later sending a letter to Congress disclosing that the agents were scrutinizing new evidence in the matter.\n",
    "\n",
    "[The report is 500 pages. Our experts broke it down.]\n",
    "\n",
    "In many respects, those findings mirrored Democrats’ own assessments of Mr. Comey — save for the omission of certain four-letter words.\n",
    "\n",
    "But if the report appeared to validate their grievances against Mr. Comey, it offered scant relief to Clinton loyalists. For some of them, it intensified the agony of Mr. Trump’s surprise win — cementing Democratic suspicions about the fairness of his election, but leaving them without recourse to address them.\n",
    "\n",
    "Image\n",
    "Hillary Clinton during a news conference following her loss to Donald J. Trump in the 2016 presidential election.CreditDoug Mills/The New York Times\n",
    "“Reading this report clearly makes me sick,” said Donna Brazile, who was chair of the Democratic National Committee during the 2016 general election. “It confirms what we all believed at the time.”\n",
    "\n",
    "The report, Ms. Brazile said, strengthened her view “that 2016 will always be an election where there’s an asterisk.”\n",
    "\n",
    "Randi Weingarten, the president of the American Federation of Teachers and a longtime Clinton ally, said the report showed there had been a “double standard” in the election, whereby the F.B.I. revealed information casting Mrs. Clinton in an unflattering light while concealing investigations into Mr. Trump.\n",
    "\n",
    "“It’s disappointing and infuriating,” Ms. Weingarten said. “There is a reason for these norms of not commenting, knowing full well that comments can sway public opinion.”\n",
    "\n",
    "While Ms. Weingarten called the inspector general’s report a “service to the country,” she said it brought no solace on a personal level. “There’s no sense of vindication for one reason: look who’s in the White House right now,” she said.\n",
    "\n",
    "Image\n",
    "\n",
    "Randi Weingarten, the president of the American Federation of Teachers and a longtime Clinton ally, said a new report about James Comey showed there had been a “double standard” in the election.CreditMaddie McGarvey for The New York Times\n",
    "And Robby Mook, Mrs. Clinton’s former campaign manager, said in an email that the report was concerning for reasons beyond Mr. Comey’s “bad judgment.” It also documented the perception, within the bureau, that Mr. Comey sent his October letter in part because he feared word of the investigation would leak — something that Mr. Mook said happened in other instances, to Mrs. Clinton’s detriment.\n",
    "\n",
    "“There was a steady stream of leaks about the Clinton investigation for months but not a word about the counterintelligence probe into the Trump campaign,” Mr. Mook said. “This, too, gave voters a false impression. I hope this report is a source of introspection for the professionals at the F.B.I.”\n",
    "\n",
    "Mr. Comey’s status as a Democratic bête noire is nearly two years old, dating to his news conference on July 5, 2016, that the inspector general described as “extraordinary and insubordinate.” But it was his letter to Congress nearly two weeks before the 2016 election — termed a “serious error in judgment” by the inspector general — that transformed him, for Democrats, into a starring villain of the presidential campaign.\n",
    "\n",
    "EDITORS’ PICKS\n",
    "\n",
    "These Transgender Recruits Are Ready. The Military Isn’t.\n",
    "\n",
    "Maria Butina, Suspected Secret Agent, Used Sex in Covert Plan, Prosecutors Say\n",
    "\n",
    "The Border Patrol’s Last Line of Defense Is Not at the Border\n",
    "Mrs. Clinton offered only a laconic public reaction Thursday to the inspector general’s report, highlighting on Twitter a finding that Mr. Comey had at times used a personal email account to conduct official business. “But my emails,” she tweeted, invoking a phrase often used by her supporters to express exasperation about what they view as the mistreatment of Mrs. Clinton during the election.\n",
    "\n",
    "\n",
    "IG found that on numerous occasions, COMEY used a personal GMail account to conduct official FBI business, according to source briefed on the report.\n",
    "\n",
    "\n",
    "She has been more expressive about Mr. Comey at other times. Within days of her loss, she named the F.B.I. director as a key culprit: she told donors on a phone call that Mr. Comey’s letter had “stopped our momentum” at the race’s end. At a public event in May 2017, she identified Mr. Comey’s announcement as a turning point: “If the election had been on Oct. 27,” she said, “I would be your president.” (Mr. Comey sent his letter on Oct. 28, 2016.)\n",
    "\n",
    "Mrs. Clinton’s campaign strategists have long been convinced that the Comey letter changed the direction of the race, burying her closing message and helping Mr. Trump reverse the fracturing of his support on the right after the release of the “Access Hollywood” tape. In the absence of a furor like the one instigated by Mr. Comey, the publication of a recording that showed Mr. Trump boasting about grabbing women’s genitalia could well have been the defining event of the campaign.\n",
    "\n",
    "Experts differ on whether public opinion data suggests Mr. Comey’s letter tipped the election. An analysis by the American Association of Public Opinion Research found “at best mixed evidence” to support the claim that Mr. Comey’s letter was decisive. The study found that Mr. Comey’s letter had “an immediate, negative impact” for Mrs. Clinton but questioned whether that effect lasted through Election Day.\n",
    "\n",
    "But there is no question that Mr. Comey’s choices had an effect on the campaign: His summer news conference and his missive to Congress plainly amplified the issue of Mrs. Clinton’s email server and her handling of classified information. Mr. Trump feasted on both events, citing the first in countless denunciations of the Obama administration — which he accused of going easy on his Democratic opponent — and wielding the second as a cudgel in the campaign’s final days.\n",
    "\n",
    "In addition to chiding Mr. Comey for sending that letter, the Justice Department report also concluded that there was no evidence of political bias in the F.B.I.’s treatment of Mrs. Clinton, puncturing Mr. Trump’s claim of favoritism.\n",
    "\n",
    "Steve Elmendorf, a Democratic lobbyist who helped raise money for Mrs. Clinton’s campaign, said the inspector general’s report reinforced Democrats’ view of how the F.B.I. handled the election. He said Mr. Comey’s subsequent clashes with Mr. Trump and firing had complicated Democrats’ judgments of the former bureau director, but said nothing could “forgive the original sin of impacting the election.”\n",
    "\n",
    "\"\"\""
   ]
  },
  {
   "cell_type": "code",
   "execution_count": 30,
   "metadata": {},
   "outputs": [
    {
     "name": "stdout",
     "output_type": "stream",
     "text": [
      "Loading trigram dict...\n"
     ]
    },
    {
     "data": {
      "text/plain": [
       "['0.070*\"trump\" + 0.010*\"donald_trump\" + 0.009*\"president\" + 0.007*\"campaign\" + 0.006*\"think\" + 0.005*\"want\" + 0.005*\"mr.\" + 0.004*\"support\" + 0.004*\"candidate\" + 0.004*\"country\"',\n",
       " '0.011*\"gun\" + 0.005*\"police\" + 0.005*\"man\" + 0.004*\"film\" + 0.004*\"life\" + 0.003*\"shoot\" + 0.003*\"kill\" + 0.003*\"think\" + 0.003*\"smith\" + 0.003*\"death\"',\n",
       " '0.016*\"trump\" + 0.013*\"president\" + 0.006*\"debate\" + 0.006*\"ryan\" + 0.005*\"country\" + 0.004*\"think\" + 0.004*\"house\" + 0.004*\"want\" + 0.004*\"pence\" + 0.003*\"mr.\"']"
      ]
     },
     "execution_count": 30,
     "metadata": {},
     "output_type": "execute_result"
    }
   ],
   "source": [
    "parsed_doc = prep.process_doc(my_text)\n",
    "bow = ldab.trigram_doc_to_bow(parsed_doc)\n",
    "article_lda = lda[bow]\n",
    "\n",
    "[lda.print_topic(t[0]) for t in sorted(article_lda, key=lambda x: -x[1])]\n",
    "# topic_ids = ldab.choose_topics_subset(lda[bow])\n",
    "# topic_ids"
   ]
  },
  {
   "cell_type": "code",
   "execution_count": 29,
   "metadata": {},
   "outputs": [
    {
     "name": "stdout",
     "output_type": "stream",
     "text": [
      "Loading trigram dict...\n"
     ]
    },
    {
     "data": {
      "text/plain": [
       "['0.014*\"law\" + 0.013*\"case\" + 0.011*\"state\" + 0.010*\"court\" + 0.006*\"right\" + 0.005*\"rule\" + 0.005*\"supreme_court\" + 0.005*\"decision\" + 0.005*\"government\" + 0.004*\"gun\"',\n",
       " '0.014*\"house\" + 0.014*\"republicans\" + 0.012*\"senate\" + 0.012*\"state\" + 0.010*\"vote\" + 0.010*\"obamacare\" + 0.009*\"repeal\" + 0.009*\"republican\" + 0.008*\"pass\" + 0.008*\"plan\"',\n",
       " '0.024*\"trump\" + 0.009*\"president\" + 0.006*\"state\" + 0.006*\"administration\" + 0.005*\"law\" + 0.004*\"public\" + 0.004*\"congress\" + 0.004*\"plan\" + 0.004*\"policy\" + 0.004*\"session\"',\n",
       " '0.014*\"trump\" + 0.008*\"vote\" + 0.008*\"clinton\" + 0.006*\"party\" + 0.006*\"campaign\" + 0.006*\"democrats\" + 0.006*\"president\" + 0.005*\"republicans\" + 0.004*\"political\" + 0.004*\"republican\"',\n",
       " '0.022*\"abortion\" + 0.015*\"trump\" + 0.014*\"woman\" + 0.006*\"planned_parenthood\" + 0.005*\"law\" + 0.004*\"president\" + 0.003*\"state\" + 0.003*\"life\" + 0.003*\"pregnancy\" + 0.003*\"week\"']"
      ]
     },
     "execution_count": 29,
     "metadata": {},
     "output_type": "execute_result"
    }
   ],
   "source": [
    "parsed_doc = prep.process_doc(article)\n",
    "bow = ldab.trigram_doc_to_bow(parsed_doc)\n",
    "article_lda = lda[bow]\n",
    "# article_lda = \n",
    "[lda.print_topic(t[0]) for t in sorted(article_lda, key=lambda x: -x[1])]\n",
    "\n",
    "# topic_ids = ldab.choose_topics_subset(lda[bow])\n",
    "# topic_ids"
   ]
  },
  {
   "cell_type": "code",
   "execution_count": 19,
   "metadata": {},
   "outputs": [
    {
     "name": "stdout",
     "output_type": "stream",
     "text": [
      "Loading trigram dict...\n"
     ]
    }
   ],
   "source": [
    "parsed_doc = prep.process_doc(article)\n",
    "bow = ldab.trigram_doc_to_bow(parsed_doc)\n",
    "topics = lda50[bow]"
   ]
  },
  {
   "cell_type": "code",
   "execution_count": 24,
   "metadata": {},
   "outputs": [
    {
     "data": {
      "text/plain": [
       "[(3, 26, 30, 36), (0.47018245, 0.14245617, 0.036073733, 0.34844813)]"
      ]
     },
     "execution_count": 24,
     "metadata": {},
     "output_type": "execute_result"
    }
   ],
   "source": [
    "list(zip(*topics))"
   ]
  },
  {
   "cell_type": "code",
   "execution_count": 21,
   "metadata": {},
   "outputs": [
    {
     "data": {
      "text/plain": [
       "0.9971604831516743"
      ]
     },
     "execution_count": 21,
     "metadata": {},
     "output_type": "execute_result"
    }
   ],
   "source": [
    "sum([x[1] for x in topics])"
   ]
  },
  {
   "cell_type": "code",
   "execution_count": 16,
   "metadata": {},
   "outputs": [
    {
     "data": {
      "text/plain": [
       "[(0,\n",
       "  '0.009*\"police\" + 0.007*\"man\" + 0.005*\"black\" + 0.005*\"day\" + 0.004*\"kill\" + 0.004*\"family\" + 0.004*\"officer\" + 0.004*\"child\" + 0.004*\"death\" + 0.004*\"home\"'),\n",
       " (1,\n",
       "  '0.016*\"trump\" + 0.007*\"woman\" + 0.004*\"report\" + 0.004*\"child\" + 0.004*\"state\" + 0.004*\"family\" + 0.003*\"president\" + 0.003*\"campaign\" + 0.003*\"country\" + 0.003*\"want\"'),\n",
       " (2,\n",
       "  '0.004*\"way\" + 0.004*\"want\" + 0.003*\"city\" + 0.003*\"life\" + 0.003*\"world\" + 0.003*\"animal\" + 0.003*\"trump\" + 0.003*\"family\" + 0.003*\"art\" + 0.002*\"war\"'),\n",
       " (3,\n",
       "  '0.010*\"vote\" + 0.009*\"trump\" + 0.008*\"senate\" + 0.006*\"conservative\" + 0.006*\"president\" + 0.005*\"law\" + 0.005*\"republicans\" + 0.005*\"supreme_court\" + 0.004*\"democrats\" + 0.004*\"right\"'),\n",
       " (4,\n",
       "  '0.010*\"police\" + 0.007*\"attack\" + 0.007*\"isis\" + 0.007*\"gun\" + 0.006*\"report\" + 0.005*\"kill\" + 0.005*\"city\" + 0.005*\"officer\" + 0.004*\"country\" + 0.004*\"accord\"'),\n",
       " (5,\n",
       "  '0.010*\"turkey\" + 0.005*\"country\" + 0.005*\"syria\" + 0.004*\"refugee\" + 0.004*\"erdogan\" + 0.004*\"u._s.\" + 0.004*\"state\" + 0.004*\"trump\" + 0.003*\"report\" + 0.003*\"turkish\"'),\n",
       " (6,\n",
       "  '0.005*\"food\" + 0.004*\"city\" + 0.003*\"home\" + 0.003*\"help\" + 0.003*\"want\" + 0.003*\"way\" + 0.003*\"need\" + 0.003*\"think\" + 0.003*\"day\" + 0.002*\"thing\"'),\n",
       " (7,\n",
       "  '0.008*\"water\" + 0.004*\"yahoo\" + 0.004*\"city\" + 0.004*\"lead\" + 0.004*\"u._s.\" + 0.004*\"official\" + 0.003*\"report\" + 0.003*\"iraq\" + 0.003*\"government\" + 0.003*\"pipeline\"'),\n",
       " (8,\n",
       "  '0.012*\"north_korea\" + 0.005*\"u._s.\" + 0.005*\"china\" + 0.004*\"state\" + 0.003*\"woman\" + 0.003*\"country\" + 0.003*\"south_korea\" + 0.003*\"official\" + 0.003*\"kim\" + 0.003*\"way\"'),\n",
       " (9,\n",
       "  '0.039*\"trump\" + 0.012*\"clinton\" + 0.009*\"president\" + 0.008*\"campaign\" + 0.006*\"donald_trump\" + 0.005*\"mr.\" + 0.005*\"hillary_clinton\" + 0.004*\"think\" + 0.004*\"ask\" + 0.004*\"election\"'),\n",
       " (10,\n",
       "  '0.006*\"play\" + 0.006*\"film\" + 0.005*\"game\" + 0.005*\"season\" + 0.004*\"way\" + 0.004*\"movie\" + 0.004*\"win\" + 0.003*\"team\" + 0.003*\"think\" + 0.003*\"look\"'),\n",
       " (11,\n",
       "  '0.003*\"look\" + 0.003*\"way\" + 0.003*\"life\" + 0.003*\"world\" + 0.003*\"day\" + 0.003*\"human\" + 0.003*\"think\" + 0.003*\"story\" + 0.002*\"kill\" + 0.002*\"scientist\"'),\n",
       " (12,\n",
       "  '0.008*\"black\" + 0.008*\"think\" + 0.007*\"white\" + 0.005*\"way\" + 0.005*\"life\" + 0.004*\"thing\" + 0.004*\"want\" + 0.004*\"feel\" + 0.004*\"man\" + 0.003*\"world\"'),\n",
       " (13,\n",
       "  '0.004*\"family\" + 0.004*\"think\" + 0.004*\"country\" + 0.003*\"man\" + 0.003*\"help\" + 0.003*\"child\" + 0.003*\"question\" + 0.003*\"home\" + 0.003*\"want\" + 0.003*\"report\"'),\n",
       " (14,\n",
       "  '0.006*\"country\" + 0.005*\"trump\" + 0.005*\"president\" + 0.004*\"mexico\" + 0.004*\"think\" + 0.003*\"state\" + 0.003*\"plan\" + 0.003*\"mr.\" + 0.003*\"way\" + 0.003*\"government\"'),\n",
       " (15,\n",
       "  '0.029*\"woman\" + 0.008*\"man\" + 0.005*\"write\" + 0.004*\"case\" + 0.004*\"abortion\" + 0.004*\"state\" + 0.003*\"want\" + 0.003*\"court\" + 0.003*\"child\" + 0.003*\"law\"'),\n",
       " (16,\n",
       "  '0.004*\"u._s.\" + 0.004*\"report\" + 0.003*\"accord\" + 0.003*\"country\" + 0.003*\"woman\" + 0.003*\"man\" + 0.003*\"case\" + 0.003*\"day\" + 0.003*\"help\" + 0.003*\"official\"'),\n",
       " (17,\n",
       "  '0.024*\"school\" + 0.019*\"student\" + 0.007*\"education\" + 0.005*\"child\" + 0.005*\"state\" + 0.005*\"teacher\" + 0.004*\"college\" + 0.004*\"public\" + 0.004*\"university\" + 0.003*\"trump\"'),\n",
       " (18,\n",
       "  '0.006*\"tax\" + 0.006*\"pay\" + 0.005*\"health\" + 0.005*\"child\" + 0.004*\"report\" + 0.004*\"case\" + 0.004*\"country\" + 0.004*\"need\" + 0.003*\"family\" + 0.003*\"want\"'),\n",
       " (19,\n",
       "  '0.017*\"trump\" + 0.007*\"report\" + 0.006*\"russia\" + 0.004*\"mr.\" + 0.004*\"think\" + 0.003*\"official\" + 0.003*\"election\" + 0.003*\"u._s.\" + 0.003*\"president\" + 0.003*\"campaign\"'),\n",
       " (20,\n",
       "  '0.022*\"trump\" + 0.007*\"u._s.\" + 0.007*\"president\" + 0.006*\"country\" + 0.005*\"military\" + 0.004*\"united_states\" + 0.004*\"administration\" + 0.004*\"official\" + 0.004*\"obama\" + 0.003*\"american\"'),\n",
       " (21,\n",
       "  '0.005*\"trump\" + 0.003*\"thing\" + 0.003*\"think\" + 0.003*\"day\" + 0.003*\"look\" + 0.003*\"job\" + 0.003*\"bharara\" + 0.003*\"accord\" + 0.002*\"want\" + 0.002*\"state\"'),\n",
       " (22,\n",
       "  '0.007*\"vote\" + 0.006*\"country\" + 0.006*\"trump\" + 0.005*\"state\" + 0.004*\"eu\" + 0.004*\"party\" + 0.004*\"political\" + 0.004*\"u._s.\" + 0.004*\"policy\" + 0.004*\"voter\"'),\n",
       " (23,\n",
       "  '0.006*\"think\" + 0.004*\"woman\" + 0.003*\"want\" + 0.003*\"thing\" + 0.003*\"day\" + 0.003*\"look\" + 0.003*\"company\" + 0.003*\"trump\" + 0.002*\"business\" + 0.002*\"restaurant\"'),\n",
       " (24,\n",
       "  '0.007*\"china\" + 0.006*\"government\" + 0.006*\"state\" + 0.005*\"attack\" + 0.005*\"country\" + 0.005*\"police\" + 0.004*\"official\" + 0.004*\"report\" + 0.004*\"trump\" + 0.003*\"chinese\"'),\n",
       " (25,\n",
       "  '0.010*\"company\" + 0.006*\"apple\" + 0.005*\"facebook\" + 0.005*\"uber\" + 0.004*\"report\" + 0.003*\"state\" + 0.003*\"user\" + 0.003*\"law\" + 0.003*\"way\" + 0.003*\"technology\"'),\n",
       " (26,\n",
       "  '0.008*\"government\" + 0.006*\"state\" + 0.006*\"law\" + 0.006*\"trump\" + 0.004*\"federal\" + 0.004*\"official\" + 0.004*\"court\" + 0.004*\"department\" + 0.004*\"president\" + 0.004*\"report\"'),\n",
       " (27,\n",
       "  '0.009*\"player\" + 0.007*\"game\" + 0.007*\"team\" + 0.006*\"play\" + 0.006*\"win\" + 0.004*\"day\" + 0.004*\"point\" + 0.004*\"start\" + 0.004*\"league\" + 0.003*\"think\"'),\n",
       " (28,\n",
       "  '0.014*\"company\" + 0.005*\"job\" + 0.004*\"worker\" + 0.004*\"business\" + 0.004*\"big\" + 0.003*\"market\" + 0.003*\"accord\" + 0.003*\"sale\" + 0.003*\"investor\" + 0.003*\"share\"'),\n",
       " (29,\n",
       "  '0.018*\"trump\" + 0.005*\"want\" + 0.005*\"debate\" + 0.005*\"think\" + 0.004*\"man\" + 0.004*\"donald_trump\" + 0.004*\"candidate\" + 0.004*\"president\" + 0.004*\"look\" + 0.003*\"woman\"'),\n",
       " (30,\n",
       "  '0.014*\"case\" + 0.008*\"court\" + 0.005*\"judge\" + 0.005*\"trial\" + 0.005*\"state\" + 0.004*\"lawyer\" + 0.003*\"prosecutor\" + 0.003*\"supreme_court\" + 0.003*\"company\" + 0.003*\"jury\"'),\n",
       " (31,\n",
       "  '0.005*\"water\" + 0.005*\"game\" + 0.003*\"day\" + 0.003*\"area\" + 0.003*\"team\" + 0.003*\"win\" + 0.003*\"leave\" + 0.003*\"home\" + 0.003*\"state\" + 0.003*\"accord\"'),\n",
       " (32,\n",
       "  '0.010*\"university\" + 0.009*\"student\" + 0.005*\"state\" + 0.005*\"case\" + 0.004*\"report\" + 0.004*\"school\" + 0.004*\"college\" + 0.003*\"law\" + 0.003*\"official\" + 0.003*\"issue\"'),\n",
       " (33,\n",
       "  '0.009*\"company\" + 0.004*\"business\" + 0.004*\"board\" + 0.003*\"state\" + 0.003*\"deal\" + 0.003*\"epa\" + 0.003*\"want\" + 0.003*\"report\" + 0.003*\"car\" + 0.003*\"plan\"'),\n",
       " (34,\n",
       "  '0.007*\"facebook\" + 0.005*\"think\" + 0.005*\"music\" + 0.004*\"day\" + 0.004*\"prince\" + 0.004*\"want\" + 0.004*\"trump\" + 0.004*\"thing\" + 0.003*\"report\" + 0.003*\"video\"'),\n",
       " (35,\n",
       "  '0.011*\"trump\" + 0.006*\"think\" + 0.004*\"way\" + 0.004*\"want\" + 0.004*\"thing\" + 0.004*\"life\" + 0.004*\"right\" + 0.003*\"write\" + 0.003*\"country\" + 0.003*\"try\"'),\n",
       " (36,\n",
       "  '0.013*\"state\" + 0.006*\"plan\" + 0.005*\"obamacare\" + 0.005*\"health\" + 0.004*\"law\" + 0.004*\"house\" + 0.004*\"republicans\" + 0.004*\"patient\" + 0.003*\"repeal\" + 0.003*\"drug\"'),\n",
       " (37,\n",
       "  '0.012*\"trump\" + 0.009*\"state\" + 0.008*\"win\" + 0.008*\"party\" + 0.008*\"voter\" + 0.008*\"campaign\" + 0.007*\"clinton\" + 0.007*\"vote\" + 0.006*\"candidate\" + 0.005*\"democrats\"'),\n",
       " (38,\n",
       "  '0.004*\"want\" + 0.004*\"think\" + 0.004*\"israel\" + 0.004*\"need\" + 0.004*\"woman\" + 0.003*\"mr.\" + 0.003*\"report\" + 0.003*\"trump\" + 0.003*\"u._s.\" + 0.003*\"state\"'),\n",
       " (39,\n",
       "  '0.006*\"think\" + 0.006*\"officer\" + 0.004*\"police\" + 0.004*\"arrest\" + 0.004*\"want\" + 0.004*\"video\" + 0.004*\"way\" + 0.004*\"case\" + 0.003*\"scott\" + 0.003*\"charge\"'),\n",
       " (40,\n",
       "  '0.008*\"israel\" + 0.008*\"company\" + 0.005*\"obama\" + 0.005*\"tesla\" + 0.005*\"iran\" + 0.004*\"u._s.\" + 0.004*\"plan\" + 0.003*\"report\" + 0.003*\"state\" + 0.003*\"israeli\"'),\n",
       " (41,\n",
       "  '0.007*\"google\" + 0.006*\"company\" + 0.004*\"app\" + 0.004*\"apple\" + 0.003*\"report\" + 0.003*\"day\" + 0.003*\"user\" + 0.003*\"way\" + 0.003*\"world\" + 0.003*\"phone\"'),\n",
       " (42,\n",
       "  '0.006*\"trump\" + 0.006*\"think\" + 0.005*\"clinton\" + 0.005*\"sanders\" + 0.004*\"want\" + 0.004*\"day\" + 0.003*\"campaign\" + 0.003*\"way\" + 0.003*\"thing\" + 0.003*\"country\"'),\n",
       " (43,\n",
       "  '0.025*\"trump\" + 0.011*\"president\" + 0.005*\"white_house\" + 0.005*\"think\" + 0.004*\"campaign\" + 0.004*\"mr.\" + 0.003*\"state\" + 0.003*\"administration\" + 0.003*\"way\" + 0.003*\"obama\"'),\n",
       " (44,\n",
       "  '0.006*\"leave\" + 0.005*\"migrant\" + 0.005*\"day\" + 0.004*\"britain\" + 0.003*\"way\" + 0.003*\"home\" + 0.003*\"british\" + 0.003*\"want\" + 0.003*\"country\" + 0.003*\"child\"'),\n",
       " (45,\n",
       "  '0.015*\"russia\" + 0.014*\"trump\" + 0.010*\"putin\" + 0.006*\"report\" + 0.006*\"russian\" + 0.005*\"u._s.\" + 0.004*\"flynn\" + 0.004*\"official\" + 0.004*\"president\" + 0.004*\"syria\"'),\n",
       " (46,\n",
       "  '0.006*\"child\" + 0.005*\"woman\" + 0.004*\"day\" + 0.004*\"life\" + 0.004*\"want\" + 0.004*\"think\" + 0.004*\"look\" + 0.003*\"help\" + 0.003*\"way\" + 0.003*\"live\"'),\n",
       " (47,\n",
       "  '0.013*\"trump\" + 0.006*\"u._s.\" + 0.005*\"country\" + 0.003*\"company\" + 0.003*\"state\" + 0.003*\"president\" + 0.003*\"day\" + 0.003*\"accord\" + 0.003*\"government\" + 0.003*\"world\"'),\n",
       " (48,\n",
       "  '0.032*\"trump\" + 0.006*\"company\" + 0.005*\"president\" + 0.005*\"china\" + 0.005*\"business\" + 0.005*\"united_states\" + 0.005*\"u._s.\" + 0.004*\"job\" + 0.004*\"trade\" + 0.004*\"want\"'),\n",
       " (49,\n",
       "  '0.004*\"song\" + 0.004*\"cuba\" + 0.004*\"team\" + 0.004*\"country\" + 0.003*\"play\" + 0.003*\"group\" + 0.003*\"day\" + 0.003*\"way\" + 0.003*\"city\" + 0.003*\"world\"')]"
      ]
     },
     "execution_count": 16,
     "metadata": {},
     "output_type": "execute_result"
    }
   ],
   "source": [
    "sorted(lda50.print_topics(lda50.num_topics), key=lambda x: x[0])"
   ]
  },
  {
   "cell_type": "code",
   "execution_count": null,
   "metadata": {
    "collapsed": true
   },
   "outputs": [],
   "source": []
  }
 ],
 "metadata": {
  "kernelspec": {
   "display_name": "Python 3 (tc3)",
   "language": "python",
   "name": "tc3"
  },
  "language_info": {
   "codemirror_mode": {
    "name": "ipython",
    "version": 3
   },
   "file_extension": ".py",
   "mimetype": "text/x-python",
   "name": "python",
   "nbconvert_exporter": "python",
   "pygments_lexer": "ipython3",
   "version": "3.6.5"
  },
  "varInspector": {
   "cols": {
    "lenName": 16,
    "lenType": 16,
    "lenVar": 40
   },
   "kernels_config": {
    "python": {
     "delete_cmd_postfix": "",
     "delete_cmd_prefix": "del ",
     "library": "var_list.py",
     "varRefreshCmd": "print(var_dic_list())"
    },
    "r": {
     "delete_cmd_postfix": ") ",
     "delete_cmd_prefix": "rm(",
     "library": "var_list.r",
     "varRefreshCmd": "cat(var_dic_list()) "
    }
   },
   "types_to_exclude": [
    "module",
    "function",
    "builtin_function_or_method",
    "instance",
    "_Feature"
   ],
   "window_display": false
  }
 },
 "nbformat": 4,
 "nbformat_minor": 2
}
