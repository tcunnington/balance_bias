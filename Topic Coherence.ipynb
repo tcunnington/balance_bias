{
 "cells": [
  {
   "cell_type": "code",
   "execution_count": 1,
   "metadata": {
    "collapsed": true
   },
   "outputs": [],
   "source": [
    "import matplotlib.pyplot as plt\n",
    "from bokeh.io import show, output_file\n",
    "from bokeh.plotting import figure\n",
    "import numpy as np\n",
    "from gensim.models import CoherenceModel\n",
    "\n",
    "from pipeline.lda import LDABuilder\n",
    "from pipeline.paths import Paths\n",
    "from pipeline.utils import read_doc_by_line"
   ]
  },
  {
   "cell_type": "code",
   "execution_count": 2,
   "metadata": {
    "collapsed": true
   },
   "outputs": [],
   "source": [
    "paths = Paths()\n",
    "text_corpus = [doc.split() for doc in read_doc_by_line(paths.trigram_corpus_filepath)]"
   ]
  },
  {
   "cell_type": "code",
   "execution_count": 3,
   "metadata": {},
   "outputs": [
    {
     "name": "stdout",
     "output_type": "stream",
     "text": [
      "Loading LDA model (n_topics=1000)...\n",
      "Loading trigram dict...\n",
      "Loading bow corpus...\n"
     ]
    }
   ],
   "source": [
    "lda_builder = LDABuilder('sdfg')\n",
    "lda = lda_builder.get_model(n_topics=1000, from_scratch=False)\n",
    "dictionary = lda_builder.get_corpus_dict()\n",
    "bow_corpus = lda_builder.get_trigram_bow_corpus(dictionary)"
   ]
  },
  {
   "cell_type": "code",
   "execution_count": null,
   "metadata": {
    "collapsed": true
   },
   "outputs": [],
   "source": [
    "cm_umass = CoherenceModel(model=lda, corpus=bow_corpus, dictionary=dictionary, coherence='u_mass')"
   ]
  },
  {
   "cell_type": "code",
   "execution_count": null,
   "metadata": {
    "collapsed": true
   },
   "outputs": [],
   "source": [
    "cm_cv    = CoherenceModel(model=lda, texts=text_corpus, dictionary=dictionary, coherence='c_v', processes=6)"
   ]
  },
  {
   "cell_type": "code",
   "execution_count": null,
   "metadata": {
    "collapsed": true
   },
   "outputs": [],
   "source": [
    "cm_uci   = CoherenceModel(model=lda, texts=text_corpus, dictionary=dictionary, coherence='c_uci', processes=6)"
   ]
  },
  {
   "cell_type": "code",
   "execution_count": 6,
   "metadata": {
    "collapsed": true
   },
   "outputs": [],
   "source": [
    "cm_npmi  = CoherenceModel(model=lda, texts=text_corpus, dictionary=dictionary, coherence='c_npmi', processes=3)"
   ]
  },
  {
   "cell_type": "code",
   "execution_count": null,
   "metadata": {},
   "outputs": [],
   "source": [
    "coherence1000 = cm_npmi.get_coherence()"
   ]
  },
  {
   "cell_type": "code",
   "execution_count": null,
   "metadata": {
    "collapsed": true
   },
   "outputs": [],
   "source": [
    "coherence1000"
   ]
  },
  {
   "cell_type": "code",
   "execution_count": null,
   "metadata": {
    "collapsed": true
   },
   "outputs": [],
   "source": [
    "c_models = [cm_umass, cm_cv, cm_uci, cm_npmi]\n",
    "names = [m.coherence for m in c_models]\n",
    "coherences = [m.get_coherence() for m in c_models]"
   ]
  },
  {
   "cell_type": "code",
   "execution_count": null,
   "metadata": {
    "collapsed": true
   },
   "outputs": [],
   "source": [
    "p = figure(x_range=names, plot_height=250, title=\"Coherences for LDA with 100 topics\")\n",
    "p.vbar(x=names, top=[coherences], width=0.8)\n",
    "\n",
    "p.xgrid.grid_line_color = None\n",
    "p.y_range.start = 0\n",
    "\n",
    "show(p)"
   ]
  },
  {
   "cell_type": "markdown",
   "metadata": {},
   "source": [
    "## Compare num topics"
   ]
  },
  {
   "cell_type": "code",
   "execution_count": 4,
   "metadata": {
    "collapsed": true
   },
   "outputs": [],
   "source": [
    "topic_vals = [50, 75, 100, 200, 1000]"
   ]
  },
  {
   "cell_type": "code",
   "execution_count": null,
   "metadata": {},
   "outputs": [],
   "source": [
    "coherences = []\n",
    "\n",
    "for n_topics in topic_vals:\n",
    "    lda = lda_builder.get_model(n_topics=n_topics, from_scratch=False)\n",
    "    cm = CoherenceModel(model=lda, texts=text_corpus, dictionary=dictionary, coherence='c_npmi', processes=7)\n",
    "    coherences.append(cm.get_coherence())"
   ]
  },
  {
   "cell_type": "code",
   "execution_count": 9,
   "metadata": {
    "collapsed": true
   },
   "outputs": [],
   "source": [
    "topic_coh = np.array(list(zip(topic_vals[:4], coherences)))\n",
    "np.save('coherences', topic_coh)"
   ]
  },
  {
   "cell_type": "code",
   "execution_count": 10,
   "metadata": {},
   "outputs": [
    {
     "data": {
      "image/png": "[encoded data removed]",
      "text/plain": [
       "<Figure size 432x288 with 1 Axes>"
      ]
     },
     "metadata": {},
     "output_type": "display_data"
    }
   ],
   "source": [
    "plt.semilogx(topic_vals[:4], coherences)\n",
    "plt.show()"
   ]
  },
  {
   "cell_type": "code",
   "execution_count": null,
   "metadata": {
    "collapsed": true
   },
   "outputs": [],
   "source": []
  }
 ],
 "metadata": {
  "kernelspec": {
   "display_name": "Python 3 (tc3)",
   "language": "python",
   "name": "tc3"
  },
  "language_info": {
   "codemirror_mode": {
    "name": "ipython",
    "version": 3
   },
   "file_extension": ".py",
   "mimetype": "text/x-python",
   "name": "python",
   "nbconvert_exporter": "python",
   "pygments_lexer": "ipython3",
   "version": "3.6.5"
  },
  "varInspector": {
   "cols": {
    "lenName": 16,
    "lenType": 16,
    "lenVar": 40
   },
   "kernels_config": {
    "python": {
     "delete_cmd_postfix": "",
     "delete_cmd_prefix": "del ",
     "library": "var_list.py",
     "varRefreshCmd": "print(var_dic_list())"
    },
    "r": {
     "delete_cmd_postfix": ") ",
     "delete_cmd_prefix": "rm(",
     "library": "var_list.r",
     "varRefreshCmd": "cat(var_dic_list()) "
    }
   },
   "types_to_exclude": [
    "module",
    "function",
    "builtin_function_or_method",
    "instance",
    "_Feature"
   ],
   "window_display": false
  }
 },
 "nbformat": 4,
 "nbformat_minor": 2
}
