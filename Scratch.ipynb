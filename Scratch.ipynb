{
 "cells": [
  {
   "cell_type": "code",
   "execution_count": 2,
   "metadata": {},
   "outputs": [
    {
     "name": "stdout",
     "output_type": "stream",
     "text": [
      "The autoreload extension is already loaded. To reload it, use:\n",
      "  %reload_ext autoreload\n"
     ]
    }
   ],
   "source": [
    "%load_ext autoreload\n",
    "%autoreload 2\n",
    "\n",
    "import os\n",
    "import fnmatch\n",
    "from pipeline.lda import LDABuilder\n",
    "from pipeline.utils import *\n",
    "import numpy as np\n",
    "import pandas as pd"
   ]
  },
  {
   "cell_type": "code",
   "execution_count": 3,
   "metadata": {
    "collapsed": true
   },
   "outputs": [],
   "source": [
    "ldab = LDABuilder('all_the_news')\n",
    "paths = ldab.paths"
   ]
  },
  {
   "cell_type": "code",
   "execution_count": null,
   "metadata": {},
   "outputs": [],
   "source": [
    "dfs = []\n",
    "for fp in [paths.data_file('articles' + str(i) + '.csv') for i in [3,1,2]]:\n",
    "    print(fp)\n",
    "    dfs.append( pd.read_csv(fp))\n",
    "        \n",
    "# dfs"
   ]
  },
  {
   "cell_type": "code",
   "execution_count": null,
   "metadata": {},
   "outputs": [],
   "source": [
    "df = pd.concat(dfs).reset_index(drop=True)\n",
    "df.drop(columns=['Unnamed: 0'], inplace=True)\n",
    "# df['year'].astype(int)\n",
    "# df['month'].astype(int)\n",
    "df.info()"
   ]
  },
  {
   "cell_type": "code",
   "execution_count": 4,
   "metadata": {
    "collapsed": true
   },
   "outputs": [],
   "source": [
    "df2 = pd.read_csv(paths.corpus_meta_data)"
   ]
  },
  {
   "cell_type": "code",
   "execution_count": 16,
   "metadata": {},
   "outputs": [
    {
     "data": {
      "text/plain": [
       "86"
      ]
     },
     "execution_count": 16,
     "metadata": {},
     "output_type": "execute_result"
    }
   ],
   "source": [
    "len(df2[df2.partial_content.isna()])"
   ]
  },
  {
   "cell_type": "code",
   "execution_count": 17,
   "metadata": {},
   "outputs": [
    {
     "data": {
      "text/plain": [
       "57011"
      ]
     },
     "execution_count": 17,
     "metadata": {},
     "output_type": "execute_result"
    }
   ],
   "source": [
    "len(df2[df2.url.isna()])"
   ]
  },
  {
   "cell_type": "code",
   "execution_count": null,
   "metadata": {},
   "outputs": [],
   "source": [
    "for i,parsed_doc in enumerate(read_doc_by_line(paths.trigram_corpus_filepath)):\n",
    "\n",
    "    if i < 5 or (i >200000 and i < 200000+6) or i > len(df) - 7:\n",
    "        print(parsed_doc[:50])\n",
    "        print(df.loc[i].content[:50])"
   ]
  },
  {
   "cell_type": "code",
   "execution_count": null,
   "metadata": {
    "collapsed": true
   },
   "outputs": [],
   "source": [
    "import re\n",
    "def partial_text(text):\n",
    "    text = re.sub(\"[‹»›„‚“‟‘‛”’\\\"❛❜❝❞❮❯〝〞 ]{2,}\", \" \", text)\n",
    "    return prep_whitespace(text)[:500].strip()"
   ]
  },
  {
   "cell_type": "code",
   "execution_count": null,
   "metadata": {},
   "outputs": [],
   "source": [
    "print(df2.loc[90164].content)\n",
    "# partial_text(df.loc[90164].content)"
   ]
  },
  {
   "cell_type": "code",
   "execution_count": null,
   "metadata": {
    "collapsed": true
   },
   "outputs": [],
   "source": [
    "df['partial_content'] = df['content'].map(lambda x: partial_text(x))\n",
    "df.drop(columns=['content'], inplace=True)\n",
    "df.to_csv(paths.corpus_meta_data)\n",
    "df.info()"
   ]
  },
  {
   "cell_type": "code",
   "execution_count": null,
   "metadata": {
    "collapsed": true
   },
   "outputs": [],
   "source": [
    "df.head()"
   ]
  },
  {
   "cell_type": "markdown",
   "metadata": {},
   "source": [
    "Note this is bad"
   ]
  },
  {
   "cell_type": "code",
   "execution_count": null,
   "metadata": {
    "collapsed": true
   },
   "outputs": [],
   "source": [
    "df[df.year.isin([np.nan, np.inf, -np.inf])]"
   ]
  },
  {
   "cell_type": "code",
   "execution_count": null,
   "metadata": {},
   "outputs": [],
   "source": [
    "%%time\n",
    "matrix = ldab.get_corpus_topics_matrix(recalculate=True)"
   ]
  },
  {
   "cell_type": "code",
   "execution_count": null,
   "metadata": {},
   "outputs": [],
   "source": [
    "%%time\n",
    "matrix = ldab.get_corpus_topics_matrix(75, recalculate=True)"
   ]
  },
  {
   "cell_type": "code",
   "execution_count": null,
   "metadata": {},
   "outputs": [],
   "source": [
    "%%time\n",
    "matrix = ldab.get_corpus_topics_matrix(100, recalculate=True)"
   ]
  },
  {
   "cell_type": "code",
   "execution_count": null,
   "metadata": {},
   "outputs": [],
   "source": [
    "from pipeline.preprocessing import Preprocessor\n",
    "prep = Preprocessor('all_the_news', preload_models=True)\n",
    "meta_data = pd.read_csv(ldab.paths.corpus_meta_data)"
   ]
  },
  {
   "cell_type": "code",
   "execution_count": null,
   "metadata": {},
   "outputs": [],
   "source": [
    "from random import *\n",
    "\n",
    "index = randint(0,len(df)-1)\n",
    "text = df.content[index]\n",
    "lda = ldab.get_lda_model(100)\n",
    "print(df.loc[index])\n",
    "print(text[:1500])"
   ]
  },
  {
   "cell_type": "code",
   "execution_count": null,
   "metadata": {},
   "outputs": [],
   "source": [
    "parsed_doc = prep.process_doc(' asdkjf')\n",
    "corpus_dict = ldab.get_corpus_dict()\n",
    "bow = corpus_dict.doc2bow(parsed_doc)\n",
    "doc_topics = lda[bow]\n",
    "topic_vec = ldab.create_topic_vec(lda.num_topics, doc_topics)\n",
    "topic_vec"
   ]
  },
  {
   "cell_type": "code",
   "execution_count": null,
   "metadata": {},
   "outputs": [],
   "source": [
    "n = 2\n",
    "sorted_top = np.argpartition(topic_vec, -n)[-n:][::-1]\n",
    "\n",
    "[print(lda.print_topic(i) + '\\n') for i in sorted_top]\n",
    "1"
   ]
  },
  {
   "cell_type": "code",
   "execution_count": 6,
   "metadata": {
    "collapsed": true
   },
   "outputs": [],
   "source": [
    "from sources import Sources\n",
    "sources = Sources()\n",
    "def append_bias(df):\n",
    "    bias_map = sources.sources_bias_map\n",
    "    bias = df['publication'].map(lambda x: bias_map.get(x, bias_map.get('The ' + x, bias_map.get(x + ' News'))))\n",
    "    df['bias_label'] = bias.map(lambda b: sources.bias_display_names.get(b))\n",
    "    df['bias_score'] = bias.map(lambda b: sources.bias_score.get(b))\n",
    "    return df"
   ]
  },
  {
   "cell_type": "code",
   "execution_count": 15,
   "metadata": {},
   "outputs": [
    {
     "data": {
      "text/html": [
       "<div>\n",
       "<style scoped>\n",
       "    .dataframe tbody tr th:only-of-type {\n",
       "        vertical-align: middle;\n",
       "    }\n",
       "\n",
       "    .dataframe tbody tr th {\n",
       "        vertical-align: top;\n",
       "    }\n",
       "\n",
       "    .dataframe thead th {\n",
       "        text-align: right;\n",
       "    }\n",
       "</style>\n",
       "<table border=\"1\" class=\"dataframe\">\n",
       "  <thead>\n",
       "    <tr style=\"text-align: right;\">\n",
       "      <th></th>\n",
       "      <th>publication</th>\n",
       "      <th>bias_label</th>\n",
       "      <th>bias_score</th>\n",
       "    </tr>\n",
       "  </thead>\n",
       "  <tbody>\n",
       "    <tr>\n",
       "      <th>62788</th>\n",
       "      <td>Breitbart</td>\n",
       "      <td>Far right</td>\n",
       "      <td>3</td>\n",
       "    </tr>\n",
       "    <tr>\n",
       "      <th>90158</th>\n",
       "      <td>Business Insider</td>\n",
       "      <td>Center-left</td>\n",
       "      <td>-1</td>\n",
       "    </tr>\n",
       "    <tr>\n",
       "      <th>36844</th>\n",
       "      <td>Washington Post</td>\n",
       "      <td>Center-left</td>\n",
       "      <td>-1</td>\n",
       "    </tr>\n",
       "    <tr>\n",
       "      <th>80545</th>\n",
       "      <td>CNN</td>\n",
       "      <td>Center-left</td>\n",
       "      <td>-1</td>\n",
       "    </tr>\n",
       "    <tr>\n",
       "      <th>26257</th>\n",
       "      <td>Reuters</td>\n",
       "      <td>Least Biased</td>\n",
       "      <td>0</td>\n",
       "    </tr>\n",
       "    <tr>\n",
       "      <th>108584</th>\n",
       "      <td>Talking Points Memo</td>\n",
       "      <td>Left</td>\n",
       "      <td>-2</td>\n",
       "    </tr>\n",
       "    <tr>\n",
       "      <th>79507</th>\n",
       "      <td>CNN</td>\n",
       "      <td>Center-left</td>\n",
       "      <td>-1</td>\n",
       "    </tr>\n",
       "    <tr>\n",
       "      <th>123781</th>\n",
       "      <td>New York Post</td>\n",
       "      <td>Right</td>\n",
       "      <td>2</td>\n",
       "    </tr>\n",
       "    <tr>\n",
       "      <th>117253</th>\n",
       "      <td>National Review</td>\n",
       "      <td>Right</td>\n",
       "      <td>2</td>\n",
       "    </tr>\n",
       "    <tr>\n",
       "      <th>43238</th>\n",
       "      <td>New York Times</td>\n",
       "      <td>Center-left</td>\n",
       "      <td>-1</td>\n",
       "    </tr>\n",
       "    <tr>\n",
       "      <th>108045</th>\n",
       "      <td>Talking Points Memo</td>\n",
       "      <td>Left</td>\n",
       "      <td>-2</td>\n",
       "    </tr>\n",
       "    <tr>\n",
       "      <th>50593</th>\n",
       "      <td>Breitbart</td>\n",
       "      <td>Far right</td>\n",
       "      <td>3</td>\n",
       "    </tr>\n",
       "    <tr>\n",
       "      <th>68821</th>\n",
       "      <td>Breitbart</td>\n",
       "      <td>Far right</td>\n",
       "      <td>3</td>\n",
       "    </tr>\n",
       "    <tr>\n",
       "      <th>114892</th>\n",
       "      <td>National Review</td>\n",
       "      <td>Right</td>\n",
       "      <td>2</td>\n",
       "    </tr>\n",
       "    <tr>\n",
       "      <th>133370</th>\n",
       "      <td>New York Post</td>\n",
       "      <td>Right</td>\n",
       "      <td>2</td>\n",
       "    </tr>\n",
       "  </tbody>\n",
       "</table>\n",
       "</div>"
      ],
      "text/plain": [
       "                publication    bias_label  bias_score\n",
       "62788             Breitbart     Far right           3\n",
       "90158      Business Insider   Center-left          -1\n",
       "36844       Washington Post   Center-left          -1\n",
       "80545                   CNN   Center-left          -1\n",
       "26257               Reuters  Least Biased           0\n",
       "108584  Talking Points Memo          Left          -2\n",
       "79507                   CNN   Center-left          -1\n",
       "123781        New York Post         Right           2\n",
       "117253      National Review         Right           2\n",
       "43238        New York Times   Center-left          -1\n",
       "108045  Talking Points Memo          Left          -2\n",
       "50593             Breitbart     Far right           3\n",
       "68821             Breitbart     Far right           3\n",
       "114892      National Review         Right           2\n",
       "133370        New York Post         Right           2"
      ]
     },
     "execution_count": 15,
     "metadata": {},
     "output_type": "execute_result"
    }
   ],
   "source": [
    "# df2.head()\n",
    "append_bias(df2[['publication']].sample(15))"
   ]
  },
  {
   "cell_type": "code",
   "execution_count": null,
   "metadata": {
    "collapsed": true
   },
   "outputs": [],
   "source": []
  }
 ],
 "metadata": {
  "kernelspec": {
   "display_name": "Python 3 (tc3)",
   "language": "python",
   "name": "tc3"
  },
  "language_info": {
   "codemirror_mode": {
    "name": "ipython",
    "version": 3
   },
   "file_extension": ".py",
   "mimetype": "text/x-python",
   "name": "python",
   "nbconvert_exporter": "python",
   "pygments_lexer": "ipython3",
   "version": "3.6.5"
  },
  "varInspector": {
   "cols": {
    "lenName": 16,
    "lenType": 16,
    "lenVar": 40
   },
   "kernels_config": {
    "python": {
     "delete_cmd_postfix": "",
     "delete_cmd_prefix": "del ",
     "library": "var_list.py",
     "varRefreshCmd": "print(var_dic_list())"
    },
    "r": {
     "delete_cmd_postfix": ") ",
     "delete_cmd_prefix": "rm(",
     "library": "var_list.r",
     "varRefreshCmd": "cat(var_dic_list()) "
    }
   },
   "types_to_exclude": [
    "module",
    "function",
    "builtin_function_or_method",
    "instance",
    "_Feature"
   ],
   "window_display": false
  }
 },
 "nbformat": 4,
 "nbformat_minor": 2
}
