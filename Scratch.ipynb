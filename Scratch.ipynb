{
 "cells": [
  {
   "cell_type": "code",
   "execution_count": 1,
   "metadata": {},
   "outputs": [],
   "source": [
    "%load_ext autoreload\n",
    "%autoreload 2\n",
    "\n",
    "import os\n",
    "import fnmatch\n",
    "from pipeline.lda import LDABuilder\n",
    "from pipeline.utils import *\n",
    "import numpy as np\n",
    "import pandas as pd"
   ]
  },
  {
   "cell_type": "code",
   "execution_count": 2,
   "metadata": {
    "collapsed": true
   },
   "outputs": [],
   "source": [
    "ldab = LDABuilder('all_the_news')\n",
    "paths = ldab.paths"
   ]
  },
  {
   "cell_type": "code",
   "execution_count": null,
   "metadata": {},
   "outputs": [],
   "source": [
    "dfs = []\n",
    "for fp in [paths.data_file('articles' + str(i) + '.csv') for i in [3,1,2]]:\n",
    "    print(fp)\n",
    "    dfs.append( pd.read_csv(fp))\n",
    "        \n",
    "# dfs"
   ]
  },
  {
   "cell_type": "code",
   "execution_count": null,
   "metadata": {},
   "outputs": [],
   "source": [
    "df = pd.concat(dfs).reset_index(drop=True)\n",
    "df.drop(columns=['Unnamed: 0'], inplace=True)\n",
    "# df['year'].astype(int)\n",
    "# df['month'].astype(int)\n",
    "df.info()"
   ]
  },
  {
   "cell_type": "code",
   "execution_count": null,
   "metadata": {},
   "outputs": [],
   "source": [
    "for i,parsed_doc in enumerate(read_doc_by_line(paths.trigram_corpus_filepath)):\n",
    "\n",
    "    if i < 5 or (i >200000 and i < 200000+6) or i > len(df) - 7:\n",
    "        print(parsed_doc[:50])\n",
    "        print(df.loc[i].content[:50])"
   ]
  },
  {
   "cell_type": "code",
   "execution_count": null,
   "metadata": {},
   "outputs": [],
   "source": [
    "import re\n",
    "def partial_text(text):\n",
    "    text = re.sub(\"['\\\" ]{2,}\", \" \", text)\n",
    "    return prep_whitespace(text)[:500] + '...'"
   ]
  },
  {
   "cell_type": "code",
   "execution_count": null,
   "metadata": {},
   "outputs": [],
   "source": [
    "df['partial_content'] = df['content'].map(lambda x: partial_text(x))\n",
    "df.drop(columns=['content'], inplace=True)\n",
    "df.to_csv(paths.corpus_meta_data)\n",
    "df.info()"
   ]
  },
  {
   "cell_type": "code",
   "execution_count": null,
   "metadata": {},
   "outputs": [],
   "source": [
    "df.head()"
   ]
  },
  {
   "cell_type": "markdown",
   "metadata": {},
   "source": [
    "Note this is bad"
   ]
  },
  {
   "cell_type": "code",
   "execution_count": null,
   "metadata": {},
   "outputs": [],
   "source": [
    "df[df.year.isin([np.nan, np.inf, -np.inf])]"
   ]
  },
  {
   "cell_type": "code",
   "execution_count": 18,
   "metadata": {},
   "outputs": [
    {
     "name": "stdout",
     "output_type": "stream",
     "text": [
      "CPU times: user 4 µs, sys: 0 ns, total: 4 µs\n",
      "Wall time: 11 µs\n",
      "Loading LDA model (n_topics=50)...\n",
      "Loading trigram dict...\n"
     ]
    }
   ],
   "source": [
    "%%time\n",
    "matrix = ldab.get_corpus_topics_matrix(recalculate=True)"
   ]
  },
  {
   "cell_type": "code",
   "execution_count": 19,
   "metadata": {},
   "outputs": [
    {
     "name": "stdout",
     "output_type": "stream",
     "text": [
      "CPU times: user 5 µs, sys: 0 ns, total: 5 µs\n",
      "Wall time: 10 µs\n",
      "Loading LDA model (n_topics=75)...\n",
      "Loading trigram dict...\n"
     ]
    }
   ],
   "source": [
    "%%time\n",
    "matrix = ldab.get_corpus_topics_matrix(75, recalculate=True)"
   ]
  },
  {
   "cell_type": "code",
   "execution_count": null,
   "metadata": {},
   "outputs": [
    {
     "name": "stdout",
     "output_type": "stream",
     "text": [
      "Loading LDA model (n_topics=100)...\n",
      "Loading trigram dict...\n",
      "No topics found, which is strange and should not happen for a real news article.\n",
      "No good article: \n",
      "\n",
      "No topics found, which is strange and should not happen for a real news article.\n",
      "No good article: \n",
      "\n",
      "No topics found, which is strange and should not happen for a real news article.\n",
      "No good article: \n",
      "\n",
      "No topics found, which is strange and should not happen for a real news article.\n",
      "No good article: \n",
      "\n",
      "No topics found, which is strange and should not happen for a real news article.\n",
      "No good article: \n",
      "\n",
      "No topics found, which is strange and should not happen for a real news article.\n",
      "No good article: \n",
      "\n",
      "No topics found, which is strange and should not happen for a real news article.\n",
      "No good article: \n",
      "\n",
      "No topics found, which is strange and should not happen for a real news article.\n",
      "No good article: \n",
      "\n",
      "No topics found, which is strange and should not happen for a real news article.\n",
      "No good article: \n",
      "\n",
      "No topics found, which is strange and should not happen for a real news article.\n",
      "No good article: \n",
      "\n",
      "No topics found, which is strange and should not happen for a real news article.\n",
      "No good article: \n",
      "\n",
      "No topics found, which is strange and should not happen for a real news article.\n",
      "No good article: \n",
      "\n",
      "No topics found, which is strange and should not happen for a real news article.\n",
      "No good article: \n",
      "\n",
      "No topics found, which is strange and should not happen for a real news article.\n",
      "No good article: \n",
      "\n",
      "No topics found, which is strange and should not happen for a real news article.\n",
      "No good article: \n",
      "\n",
      "No topics found, which is strange and should not happen for a real news article.\n",
      "No good article: \n",
      "\n",
      "No topics found, which is strange and should not happen for a real news article.\n",
      "No good article: \n",
      "\n",
      "No topics found, which is strange and should not happen for a real news article.\n",
      "No good article: \n",
      "\n",
      "No topics found, which is strange and should not happen for a real news article.\n",
      "No good article: \n",
      "\n",
      "No topics found, which is strange and should not happen for a real news article.\n",
      "No good article: \n",
      "\n",
      "No topics found, which is strange and should not happen for a real news article.\n",
      "No good article: \n",
      "\n",
      "No topics found, which is strange and should not happen for a real news article.\n",
      "No good article: \n",
      "\n",
      "No topics found, which is strange and should not happen for a real news article.\n",
      "No good article: \n",
      "\n",
      "No topics found, which is strange and should not happen for a real news article.\n",
      "No good article: \n",
      "\n",
      "No topics found, which is strange and should not happen for a real news article.\n",
      "No good article: \n",
      "\n",
      "No topics found, which is strange and should not happen for a real news article.\n",
      "No good article: \n",
      "\n",
      "No topics found, which is strange and should not happen for a real news article.\n",
      "No good article: \n",
      "\n",
      "No topics found, which is strange and should not happen for a real news article.\n",
      "No good article: \n",
      "\n",
      "No topics found, which is strange and should not happen for a real news article.\n",
      "No good article: \n",
      "\n",
      "No topics found, which is strange and should not happen for a real news article.\n",
      "No good article: \n",
      "\n",
      "No topics found, which is strange and should not happen for a real news article.\n",
      "No good article: \n",
      "\n",
      "No topics found, which is strange and should not happen for a real news article.\n",
      "No good article: \n",
      "\n",
      "No topics found, which is strange and should not happen for a real news article.\n",
      "No good article: \n",
      "\n",
      "No topics found, which is strange and should not happen for a real news article.\n",
      "No good article: \n",
      "\n",
      "No topics found, which is strange and should not happen for a real news article.\n",
      "No good article: \n",
      "\n",
      "No topics found, which is strange and should not happen for a real news article.\n",
      "No good article: \n",
      "\n",
      "No topics found, which is strange and should not happen for a real news article.\n",
      "No good article: \n",
      "\n",
      "No topics found, which is strange and should not happen for a real news article.\n",
      "No good article: \n",
      "\n",
      "No topics found, which is strange and should not happen for a real news article.\n",
      "No good article: \n",
      "\n",
      "No topics found, which is strange and should not happen for a real news article.\n",
      "No good article: \n",
      "\n",
      "No topics found, which is strange and should not happen for a real news article.\n",
      "No good article: \n",
      "\n",
      "No topics found, which is strange and should not happen for a real news article.\n",
      "No good article: \n",
      "\n",
      "No topics found, which is strange and should not happen for a real news article.\n",
      "No good article: \n",
      "\n",
      "No topics found, which is strange and should not happen for a real news article.\n",
      "No good article: \n",
      "\n",
      "No topics found, which is strange and should not happen for a real news article.\n",
      "No good article: \n",
      "\n",
      "No topics found, which is strange and should not happen for a real news article.\n",
      "No good article: \n",
      "\n",
      "No topics found, which is strange and should not happen for a real news article.\n",
      "No good article: \n",
      "\n",
      "No topics found, which is strange and should not happen for a real news article.\n",
      "No good article: \n",
      "\n",
      "No topics found, which is strange and should not happen for a real news article.\n",
      "No good article: \n",
      "\n",
      "No topics found, which is strange and should not happen for a real news article.\n",
      "No good article: \n",
      "\n",
      "No topics found, which is strange and should not happen for a real news article.\n",
      "No good article: \n",
      "\n",
      "No topics found, which is strange and should not happen for a real news article.\n",
      "No good article: \n",
      "\n",
      "No topics found, which is strange and should not happen for a real news article.\n",
      "No good article: \n",
      "\n",
      "No topics found, which is strange and should not happen for a real news article.\n",
      "No good article: \n",
      "\n",
      "No topics found, which is strange and should not happen for a real news article.\n",
      "No good article: \n",
      "\n",
      "No topics found, which is strange and should not happen for a real news article.\n",
      "No good article: \n",
      "\n",
      "No topics found, which is strange and should not happen for a real news article.\n",
      "No good article: \n",
      "\n",
      "No topics found, which is strange and should not happen for a real news article.\n",
      "No good article: \n",
      "\n",
      "No topics found, which is strange and should not happen for a real news article.\n",
      "No good article: \n",
      "\n",
      "No topics found, which is strange and should not happen for a real news article.\n",
      "No good article: \n",
      "\n",
      "No topics found, which is strange and should not happen for a real news article.\n",
      "No good article: \n",
      "\n",
      "No topics found, which is strange and should not happen for a real news article.\n",
      "No good article: \n",
      "\n",
      "No topics found, which is strange and should not happen for a real news article.\n",
      "No good article: \n",
      "\n",
      "No topics found, which is strange and should not happen for a real news article.\n",
      "No good article: \n",
      "\n",
      "No topics found, which is strange and should not happen for a real news article.\n",
      "No good article: \n",
      "\n",
      "No topics found, which is strange and should not happen for a real news article.\n",
      "No good article: \n",
      "\n",
      "No topics found, which is strange and should not happen for a real news article.\n",
      "No good article: \n",
      "\n",
      "No topics found, which is strange and should not happen for a real news article.\n",
      "No good article: \n",
      "\n",
      "No topics found, which is strange and should not happen for a real news article.\n",
      "No good article: \n",
      "\n",
      "No topics found, which is strange and should not happen for a real news article.\n",
      "No good article: \n",
      "\n",
      "No topics found, which is strange and should not happen for a real news article.\n",
      "No good article: \n",
      "\n",
      "No topics found, which is strange and should not happen for a real news article.\n",
      "No good article: \n",
      "\n",
      "No topics found, which is strange and should not happen for a real news article.\n",
      "No good article: \n",
      "\n",
      "No topics found, which is strange and should not happen for a real news article.\n",
      "No good article: \n",
      "\n",
      "No topics found, which is strange and should not happen for a real news article.\n",
      "No good article: \n",
      "\n",
      "No topics found, which is strange and should not happen for a real news article.\n",
      "No good article: \n",
      "\n",
      "No topics found, which is strange and should not happen for a real news article.\n",
      "No good article: \n",
      "\n",
      "No topics found, which is strange and should not happen for a real news article.\n",
      "No good article: \n",
      "\n",
      "No topics found, which is strange and should not happen for a real news article.\n",
      "No good article: \n",
      "\n",
      "No topics found, which is strange and should not happen for a real news article.\n",
      "No good article: \n",
      "\n",
      "No topics found, which is strange and should not happen for a real news article.\n",
      "No good article: \n",
      "\n",
      "No topics found, which is strange and should not happen for a real news article.\n",
      "No good article: \n",
      "\n"
     ]
    },
    {
     "name": "stdout",
     "output_type": "stream",
     "text": [
      "No topics found, which is strange and should not happen for a real news article.\n",
      "No good article: \n",
      "\n",
      "No topics found, which is strange and should not happen for a real news article.\n",
      "No good article: \n",
      "\n",
      "No topics found, which is strange and should not happen for a real news article.\n",
      "No good article: \n",
      "\n",
      "No topics found, which is strange and should not happen for a real news article.\n",
      "No good article: \n",
      "\n",
      "No topics found, which is strange and should not happen for a real news article.\n",
      "No good article: \n",
      "\n",
      "No topics found, which is strange and should not happen for a real news article.\n",
      "No good article: \n",
      "\n",
      "No topics found, which is strange and should not happen for a real news article.\n",
      "No good article: \n",
      "\n",
      "No topics found, which is strange and should not happen for a real news article.\n",
      "No good article: \n",
      "\n",
      "No topics found, which is strange and should not happen for a real news article.\n",
      "No good article: \n",
      "\n",
      "No topics found, which is strange and should not happen for a real news article.\n",
      "No good article: \n",
      "\n",
      "No topics found, which is strange and should not happen for a real news article.\n",
      "No good article: \n",
      "\n",
      "No topics found, which is strange and should not happen for a real news article.\n",
      "No good article: \n",
      "\n",
      "No topics found, which is strange and should not happen for a real news article.\n",
      "No good article: \n",
      "\n",
      "No topics found, which is strange and should not happen for a real news article.\n",
      "No good article: \n",
      "\n",
      "No topics found, which is strange and should not happen for a real news article.\n",
      "No good article: \n",
      "\n",
      "No topics found, which is strange and should not happen for a real news article.\n",
      "No good article: \n",
      "\n",
      "No topics found, which is strange and should not happen for a real news article.\n",
      "No good article: \n",
      "\n"
     ]
    }
   ],
   "source": [
    "%%time\n",
    "matrix = ldab.get_corpus_topics_matrix(100, recalculate=True)"
   ]
  },
  {
   "cell_type": "code",
   "execution_count": 23,
   "metadata": {},
   "outputs": [
    {
     "name": "stdout",
     "output_type": "stream",
     "text": [
      "load spacy model\n",
      "['tagger', 'sbd']\n",
      "Loading bi-gram model...\n",
      "Done!\n",
      "Loading tri-gram model...\n",
      "Done!\n"
     ]
    }
   ],
   "source": [
    "from pipeline.preprocessing import Preprocessor\n",
    "prep = Preprocessor('all_the_news', preload_models=True)\n",
    "meta_data = pd.read_csv(ldab.paths.corpus_meta_data)"
   ]
  },
  {
   "cell_type": "code",
   "execution_count": 29,
   "metadata": {},
   "outputs": [
    {
     "name": "stdout",
     "output_type": "stream",
     "text": [
      "Loading LDA model (n_topics=100)...\n",
      "id                                                         72307\n",
      "title          Watch National Geographic’s stunning climate-c...\n",
      "publication                                     Business Insider\n",
      "author                                                       NaN\n",
      "date                                                  2016-10-31\n",
      "year                                                        2016\n",
      "month                                                         10\n",
      "url                                                          NaN\n",
      "content        ’  ’ ’   You have to admit, it doesn’’t sound ...\n",
      "Name: 91680, dtype: object\n",
      "’  ’ ’   You have to admit, it doesn’’t sound like     TV: a National Geographic Channel documentary about climate   change starring Leonardo DiCaprio. Mixing together the   science of our damaged planet and the guy who fought the bear in   the movie ”The Revenant” seems like a bit of an odd choice. ’ ’   But the combination works. DiCaprio steps into the role of   science journalist, interviewing researchers, innovators, and   people living in parts of the world where severe impacts of   climate change are already being felt. The film trades in charts   and jargon for stunning images of climate catastrophes already   underway. ’ ’   ”Before the Flood” is so powerful because it presents climate   change as it a really is: a global threat that links together   people separated by class and geography. ’ ’   The film was directed by the Academy   documentarian   Fisher Stevens (of ”The Cove”). ’ ”   Stevens told Business Insider that he isn’t trying to change the   minds of people who are convinced of the myth that climate change   is part of some strange global hoax. Rather, he wants to offer   children and young people access to science, and give them the   tools to fight to protect the planet. ” ’   ”Before the Flood” will air on the National Geographic Channel at   9 pm ET Sunday, and is available in full on YouTube below. ’ ’ ’\n"
     ]
    }
   ],
   "source": [
    "from random import *\n",
    "\n",
    "index = randint(0,len(df)-1)\n",
    "text = df.content[index]\n",
    "lda = ldab.get_lda_model(100)\n",
    "print(df.loc[index])\n",
    "print(text[:1500])"
   ]
  },
  {
   "cell_type": "code",
   "execution_count": 47,
   "metadata": {},
   "outputs": [
    {
     "name": "stdout",
     "output_type": "stream",
     "text": [
      "Loading trigram dict...\n",
      "No topics found, which is strange and should not happen for a real news article.\n"
     ]
    },
    {
     "data": {
      "text/plain": [
       "array([0., 0., 0., 0., 0., 0., 0., 0., 0., 0., 0., 0., 0., 0., 0., 0., 0.,\n",
       "       0., 0., 0., 0., 0., 0., 0., 0., 0., 0., 0., 0., 0., 0., 0., 0., 0.,\n",
       "       0., 0., 0., 0., 0., 0., 0., 0., 0., 0., 0., 0., 0., 0., 0., 0., 0.,\n",
       "       0., 0., 0., 0., 0., 0., 0., 0., 0., 0., 0., 0., 0., 0., 0., 0., 0.,\n",
       "       0., 0., 0., 0., 0., 0., 0., 0., 0., 0., 0., 0., 0., 0., 0., 0., 0.,\n",
       "       0., 0., 0., 0., 0., 0., 0., 0., 0., 0., 0., 0., 0., 0., 0.])"
      ]
     },
     "execution_count": 47,
     "metadata": {},
     "output_type": "execute_result"
    }
   ],
   "source": [
    "parsed_doc = prep.process_doc(' asdkjf')\n",
    "corpus_dict = ldab.get_corpus_dict()\n",
    "bow = corpus_dict.doc2bow(parsed_doc)\n",
    "doc_topics = lda[bow]\n",
    "topic_vec = ldab.create_topic_vec(lda.num_topics, doc_topics)\n",
    "topic_vec"
   ]
  },
  {
   "cell_type": "code",
   "execution_count": 95,
   "metadata": {},
   "outputs": [
    {
     "name": "stdout",
     "output_type": "stream",
     "text": [
      "0.022*\"trump\" + 0.007*\"u._s.\" + 0.007*\"president\" + 0.006*\"country\" + 0.005*\"military\" + 0.004*\"united_states\" + 0.004*\"administration\" + 0.004*\"official\" + 0.004*\"obama\" + 0.003*\"american\"\n",
      "\n",
      "0.039*\"trump\" + 0.012*\"clinton\" + 0.009*\"president\" + 0.008*\"campaign\" + 0.006*\"donald_trump\" + 0.005*\"mr.\" + 0.005*\"hillary_clinton\" + 0.004*\"think\" + 0.004*\"ask\" + 0.004*\"election\"\n",
      "\n"
     ]
    },
    {
     "data": {
      "text/plain": [
       "1"
      ]
     },
     "execution_count": 95,
     "metadata": {},
     "output_type": "execute_result"
    }
   ],
   "source": [
    "n = 2\n",
    "sorted_top = np.argpartition(topic_vec, -n)[-n:][::-1]\n",
    "\n",
    "[print(lda.print_topic(i) + '\\n') for i in sorted_top]\n",
    "1"
   ]
  },
  {
   "cell_type": "code",
   "execution_count": null,
   "metadata": {
    "collapsed": true
   },
   "outputs": [],
   "source": []
  }
 ],
 "metadata": {
  "kernelspec": {
   "display_name": "Python 3 (tc3)",
   "language": "python",
   "name": "tc3"
  },
  "language_info": {
   "codemirror_mode": {
    "name": "ipython",
    "version": 3
   },
   "file_extension": ".py",
   "mimetype": "text/x-python",
   "name": "python",
   "nbconvert_exporter": "python",
   "pygments_lexer": "ipython3",
   "version": "3.6.5"
  },
  "varInspector": {
   "cols": {
    "lenName": 16,
    "lenType": 16,
    "lenVar": 40
   },
   "kernels_config": {
    "python": {
     "delete_cmd_postfix": "",
     "delete_cmd_prefix": "del ",
     "library": "var_list.py",
     "varRefreshCmd": "print(var_dic_list())"
    },
    "r": {
     "delete_cmd_postfix": ") ",
     "delete_cmd_prefix": "rm(",
     "library": "var_list.r",
     "varRefreshCmd": "cat(var_dic_list()) "
    }
   },
   "types_to_exclude": [
    "module",
    "function",
    "builtin_function_or_method",
    "instance",
    "_Feature"
   ],
   "window_display": false
  }
 },
 "nbformat": 4,
 "nbformat_minor": 2
}
