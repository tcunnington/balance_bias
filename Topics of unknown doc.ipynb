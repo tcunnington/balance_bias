{
 "cells": [
  {
   "cell_type": "code",
   "execution_count": 1,
   "metadata": {
    "collapsed": true
   },
   "outputs": [],
   "source": [
    "%load_ext autoreload\n",
    "%autoreload 2\n",
    "\n",
    "from pipeline.lda import LDABuilder\n",
    "from pipeline.preprocessing import Preprocessor\n",
    "\n",
    "from pipeline.utils import *"
   ]
  },
  {
   "cell_type": "code",
   "execution_count": 2,
   "metadata": {},
   "outputs": [
    {
     "name": "stdout",
     "output_type": "stream",
     "text": [
      "load spacy model\n",
      "['tagger', 'sbd']\n",
      "Loading bi-gram model...\n",
      "Done!\n",
      "Loading tri-gram model...\n",
      "Done!\n"
     ]
    }
   ],
   "source": [
    "prep = Preprocessor('all_the_news',  preload_models=True)"
   ]
  },
  {
   "cell_type": "code",
   "execution_count": 3,
   "metadata": {
    "collapsed": true
   },
   "outputs": [],
   "source": [
    "ldab = LDABuilder('all_the_news')"
   ]
  },
  {
   "cell_type": "code",
   "execution_count": 4,
   "metadata": {},
   "outputs": [
    {
     "name": "stdout",
     "output_type": "stream",
     "text": [
      "Loading LDA model (n_topics=50)...\n",
      "Loading LDA model (n_topics=100)...\n"
     ]
    }
   ],
   "source": [
    "lda50 = ldab.get_lda_model(50, from_scratch=False)\n",
    "lda100 = ldab.get_lda_model(100, from_scratch=False)"
   ]
  },
  {
   "cell_type": "code",
   "execution_count": 13,
   "metadata": {
    "collapsed": true
   },
   "outputs": [],
   "source": [
    "# lda100.print_topics(20)"
   ]
  },
  {
   "cell_type": "code",
   "execution_count": null,
   "metadata": {
    "collapsed": true
   },
   "outputs": [],
   "source": [
    "# lda200 = ldab.get_lda_model(200)"
   ]
  },
  {
   "cell_type": "code",
   "execution_count": 5,
   "metadata": {
    "collapsed": true
   },
   "outputs": [],
   "source": [
    "my_text = \"\"\"\n",
    "I just have to get campaign funds and get cozy with congress, Repulicans and Democrats alike. Donald Trump a a bad president.\n",
    "Also we should talk about guns and shootings. The number of gun deaths is completely out of hand.\n",
    "A lot of people say that things are out of hand, or at least less than ideal.\n",
    "Those on Capitol Hill may soon come under pressure by the unions.\n",
    "\"\"\"\n"
   ]
  },
  {
   "cell_type": "code",
   "execution_count": 6,
   "metadata": {
    "collapsed": true
   },
   "outputs": [],
   "source": [
    "article = \"\"\"\n",
    "Senate Democrats, who are divided on abortion policy, are instead turning to health care as a rallying cry for opposition to Brett Kavanaugh, President Trump's Supreme Court nominee.\n",
    "Specifically, they are sounding the alarm that confirming the conservative District Court judge could jeopardize one of the Affordable Care Act's most popular provisions — its protections for people with pre-existing health conditions.\n",
    "\"Democrats believe the No. 1 issue in America is health care, and the ability of people to get good health care at prices they can afford,\" said Senate Minority Leader Chuck Schumer, D-N.Y.\n",
    "The Kavanaugh nomination, he added, \"would put a dagger\" through the heart of that belief.\n",
    "Who Is Brett Kavanaugh, President Trump's Pick For The Supreme Court?\n",
    "Democratic senators spent Tuesday trying to connect the dots between potential threats to health care and Trump's high court pick.\n",
    "\"President Trump as a candidate made it very clear that his priority was to put justices on the court who would correct for the fatal flaw of John Roberts,\" said Sen. Chris Murphy, D-Conn., on the Senate floor Tuesday. Chief Justice Roberts was the decisive fifth vote to uphold the ACA in a key case in 2012. \"[Republicans'] new strategy is to use the court system to invalidate the protections in the law for people with pre-existing conditions,\" Murphy said.\n",
    "Murphy — and many of his Democratic colleagues — are referring to a case filed in Texas in February by 20 Republican state attorneys general. The AGs from these states charge that because the tax bill passed by Congress last year eliminated the tax penalty for not having health insurance, it rendered the entire federal health law void.\n",
    "Their reasoning was that Roberts based his opinion upholding the ACA on Congress' taxing power. Without the tax, the AGs argue, the law should be held unconstitutional.\n",
    "The Trump administration, which might have been expected to defend the ACA because defending federal law is part of what the Justice Department is tasked to do, opted instead, in this case, to follow a different course of action.\n",
    "In a response filed in June, political appointees in the department said eliminating the penalty should not invalidate the entire ACA. But, they argued, it should nullify provisions that prevent insurers from refusing to sell insurance to people with pre-existing conditions or charging them higher premiums.\n",
    "If this argument were to be upheld by a newly reconstituted Supreme Court, the health law would be dealt a serious blow.\n",
    "The lawsuit, however, is only in its earliest stages. And many legal scholars on both sides doubt it will get very far.\n",
    "In an amicus brief filed with the court in June, five liberal and conservative legal experts (who disagreed on previous ACA cases) this time argued that both the Republican attorneys general and the Justice Department are wrong — that eliminating the mandate penalty should have no impact on the rest of the law.\n",
    "Their position is rooted in something called \"congressional intent.\" When a court wants to invalidate a portion of a law, it usually also has to determine whether Congress would have considered other aspects of the law unworkable without it.\n",
    "But that is not a problem in this case, the legal experts argued in their brief.\n",
    "\"Here, Congress itself has essentially eliminated the provision in question and left the rest of a statute standing,\" they wrote. \"In such cases, congressional intent is clear.\"\n",
    "The merits of the lawsuit notwithstanding, the issue works well for Democrats.\n",
    "For one thing, the health law's pre-existing condition protections are among its most popular parts, according to public opinion polls.\n",
    "And unlike abortion, defending the health law is something all Senate Democrats can rally around. That includes some vulnerable senators in states that voted for Trump in 2016, including Sens. Joe Manchin, D-W.Va., Heidi Heitkamp, D-N.D., and Joe Donnelly, D-Ind. None are strong supporters of abortion rights. But all have stood firm against GOP efforts to take apart the Affordable Care Act.\n",
    "Manchin, for example, issued a statement about the nomination that said, \"The Supreme Court will ultimately decide if nearly 800,000 West Virginians with preexisting conditions will lose their health care.\"\n",
    "Manchin's opponent in November is his state's Republican attorney general, Patrick Morrisey, who is one of the officials who filed the suit against the health law.\n",
    "\"\"\""
   ]
  },
  {
   "cell_type": "code",
   "execution_count": 30,
   "metadata": {},
   "outputs": [
    {
     "name": "stdout",
     "output_type": "stream",
     "text": [
      "Loading trigram dict...\n"
     ]
    },
    {
     "data": {
      "text/plain": [
       "['0.070*\"trump\" + 0.010*\"donald_trump\" + 0.009*\"president\" + 0.007*\"campaign\" + 0.006*\"think\" + 0.005*\"want\" + 0.005*\"mr.\" + 0.004*\"support\" + 0.004*\"candidate\" + 0.004*\"country\"',\n",
       " '0.011*\"gun\" + 0.005*\"police\" + 0.005*\"man\" + 0.004*\"film\" + 0.004*\"life\" + 0.003*\"shoot\" + 0.003*\"kill\" + 0.003*\"think\" + 0.003*\"smith\" + 0.003*\"death\"',\n",
       " '0.016*\"trump\" + 0.013*\"president\" + 0.006*\"debate\" + 0.006*\"ryan\" + 0.005*\"country\" + 0.004*\"think\" + 0.004*\"house\" + 0.004*\"want\" + 0.004*\"pence\" + 0.003*\"mr.\"']"
      ]
     },
     "execution_count": 30,
     "metadata": {},
     "output_type": "execute_result"
    }
   ],
   "source": [
    "parsed_doc = prep.process_doc(my_text)\n",
    "bow = ldab.trigram_doc_to_bow(parsed_doc)\n",
    "article_lda = lda[bow]\n",
    "\n",
    "[lda.print_topic(t[0]) for t in sorted(article_lda, key=lambda x: -x[1])]\n",
    "# topic_ids = ldab.choose_topics_subset(lda[bow])\n",
    "# topic_ids"
   ]
  },
  {
   "cell_type": "code",
   "execution_count": 29,
   "metadata": {},
   "outputs": [
    {
     "name": "stdout",
     "output_type": "stream",
     "text": [
      "Loading trigram dict...\n"
     ]
    },
    {
     "data": {
      "text/plain": [
       "['0.014*\"law\" + 0.013*\"case\" + 0.011*\"state\" + 0.010*\"court\" + 0.006*\"right\" + 0.005*\"rule\" + 0.005*\"supreme_court\" + 0.005*\"decision\" + 0.005*\"government\" + 0.004*\"gun\"',\n",
       " '0.014*\"house\" + 0.014*\"republicans\" + 0.012*\"senate\" + 0.012*\"state\" + 0.010*\"vote\" + 0.010*\"obamacare\" + 0.009*\"repeal\" + 0.009*\"republican\" + 0.008*\"pass\" + 0.008*\"plan\"',\n",
       " '0.024*\"trump\" + 0.009*\"president\" + 0.006*\"state\" + 0.006*\"administration\" + 0.005*\"law\" + 0.004*\"public\" + 0.004*\"congress\" + 0.004*\"plan\" + 0.004*\"policy\" + 0.004*\"session\"',\n",
       " '0.014*\"trump\" + 0.008*\"vote\" + 0.008*\"clinton\" + 0.006*\"party\" + 0.006*\"campaign\" + 0.006*\"democrats\" + 0.006*\"president\" + 0.005*\"republicans\" + 0.004*\"political\" + 0.004*\"republican\"',\n",
       " '0.022*\"abortion\" + 0.015*\"trump\" + 0.014*\"woman\" + 0.006*\"planned_parenthood\" + 0.005*\"law\" + 0.004*\"president\" + 0.003*\"state\" + 0.003*\"life\" + 0.003*\"pregnancy\" + 0.003*\"week\"']"
      ]
     },
     "execution_count": 29,
     "metadata": {},
     "output_type": "execute_result"
    }
   ],
   "source": [
    "parsed_doc = prep.process_doc(article)\n",
    "bow = ldab.trigram_doc_to_bow(parsed_doc)\n",
    "article_lda = lda[bow]\n",
    "# article_lda = \n",
    "[lda.print_topic(t[0]) for t in sorted(article_lda, key=lambda x: -x[1])]\n",
    "\n",
    "# topic_ids = ldab.choose_topics_subset(lda[bow])\n",
    "# topic_ids"
   ]
  },
  {
   "cell_type": "code",
   "execution_count": 19,
   "metadata": {},
   "outputs": [
    {
     "name": "stdout",
     "output_type": "stream",
     "text": [
      "Loading trigram dict...\n"
     ]
    }
   ],
   "source": [
    "parsed_doc = prep.process_doc(article)\n",
    "bow = ldab.trigram_doc_to_bow(parsed_doc)\n",
    "topics = lda50[bow]"
   ]
  },
  {
   "cell_type": "code",
   "execution_count": 24,
   "metadata": {},
   "outputs": [
    {
     "data": {
      "text/plain": [
       "[(3, 26, 30, 36), (0.47018245, 0.14245617, 0.036073733, 0.34844813)]"
      ]
     },
     "execution_count": 24,
     "metadata": {},
     "output_type": "execute_result"
    }
   ],
   "source": [
    "list(zip(*topics))"
   ]
  },
  {
   "cell_type": "code",
   "execution_count": 21,
   "metadata": {},
   "outputs": [
    {
     "data": {
      "text/plain": [
       "0.9971604831516743"
      ]
     },
     "execution_count": 21,
     "metadata": {},
     "output_type": "execute_result"
    }
   ],
   "source": [
    "sum([x[1] for x in topics])"
   ]
  },
  {
   "cell_type": "code",
   "execution_count": 16,
   "metadata": {},
   "outputs": [
    {
     "data": {
      "text/plain": [
       "[(0,\n",
       "  '0.009*\"police\" + 0.007*\"man\" + 0.005*\"black\" + 0.005*\"day\" + 0.004*\"kill\" + 0.004*\"family\" + 0.004*\"officer\" + 0.004*\"child\" + 0.004*\"death\" + 0.004*\"home\"'),\n",
       " (1,\n",
       "  '0.016*\"trump\" + 0.007*\"woman\" + 0.004*\"report\" + 0.004*\"child\" + 0.004*\"state\" + 0.004*\"family\" + 0.003*\"president\" + 0.003*\"campaign\" + 0.003*\"country\" + 0.003*\"want\"'),\n",
       " (2,\n",
       "  '0.004*\"way\" + 0.004*\"want\" + 0.003*\"city\" + 0.003*\"life\" + 0.003*\"world\" + 0.003*\"animal\" + 0.003*\"trump\" + 0.003*\"family\" + 0.003*\"art\" + 0.002*\"war\"'),\n",
       " (3,\n",
       "  '0.010*\"vote\" + 0.009*\"trump\" + 0.008*\"senate\" + 0.006*\"conservative\" + 0.006*\"president\" + 0.005*\"law\" + 0.005*\"republicans\" + 0.005*\"supreme_court\" + 0.004*\"democrats\" + 0.004*\"right\"'),\n",
       " (4,\n",
       "  '0.010*\"police\" + 0.007*\"attack\" + 0.007*\"isis\" + 0.007*\"gun\" + 0.006*\"report\" + 0.005*\"kill\" + 0.005*\"city\" + 0.005*\"officer\" + 0.004*\"country\" + 0.004*\"accord\"'),\n",
       " (5,\n",
       "  '0.010*\"turkey\" + 0.005*\"country\" + 0.005*\"syria\" + 0.004*\"refugee\" + 0.004*\"erdogan\" + 0.004*\"u._s.\" + 0.004*\"state\" + 0.004*\"trump\" + 0.003*\"report\" + 0.003*\"turkish\"'),\n",
       " (6,\n",
       "  '0.005*\"food\" + 0.004*\"city\" + 0.003*\"home\" + 0.003*\"help\" + 0.003*\"want\" + 0.003*\"way\" + 0.003*\"need\" + 0.003*\"think\" + 0.003*\"day\" + 0.002*\"thing\"'),\n",
       " (7,\n",
       "  '0.008*\"water\" + 0.004*\"yahoo\" + 0.004*\"city\" + 0.004*\"lead\" + 0.004*\"u._s.\" + 0.004*\"official\" + 0.003*\"report\" + 0.003*\"iraq\" + 0.003*\"government\" + 0.003*\"pipeline\"'),\n",
       " (8,\n",
       "  '0.012*\"north_korea\" + 0.005*\"u._s.\" + 0.005*\"china\" + 0.004*\"state\" + 0.003*\"woman\" + 0.003*\"country\" + 0.003*\"south_korea\" + 0.003*\"official\" + 0.003*\"kim\" + 0.003*\"way\"'),\n",
       " (9,\n",
       "  '0.039*\"trump\" + 0.012*\"clinton\" + 0.009*\"president\" + 0.008*\"campaign\" + 0.006*\"donald_trump\" + 0.005*\"mr.\" + 0.005*\"hillary_clinton\" + 0.004*\"think\" + 0.004*\"ask\" + 0.004*\"election\"'),\n",
       " (10,\n",
       "  '0.006*\"play\" + 0.006*\"film\" + 0.005*\"game\" + 0.005*\"season\" + 0.004*\"way\" + 0.004*\"movie\" + 0.004*\"win\" + 0.003*\"team\" + 0.003*\"think\" + 0.003*\"look\"'),\n",
       " (11,\n",
       "  '0.003*\"look\" + 0.003*\"way\" + 0.003*\"life\" + 0.003*\"world\" + 0.003*\"day\" + 0.003*\"human\" + 0.003*\"think\" + 0.003*\"story\" + 0.002*\"kill\" + 0.002*\"scientist\"'),\n",
       " (12,\n",
       "  '0.008*\"black\" + 0.008*\"think\" + 0.007*\"white\" + 0.005*\"way\" + 0.005*\"life\" + 0.004*\"thing\" + 0.004*\"want\" + 0.004*\"feel\" + 0.004*\"man\" + 0.003*\"world\"'),\n",
       " (13,\n",
       "  '0.004*\"family\" + 0.004*\"think\" + 0.004*\"country\" + 0.003*\"man\" + 0.003*\"help\" + 0.003*\"child\" + 0.003*\"question\" + 0.003*\"home\" + 0.003*\"want\" + 0.003*\"report\"'),\n",
       " (14,\n",
       "  '0.006*\"country\" + 0.005*\"trump\" + 0.005*\"president\" + 0.004*\"mexico\" + 0.004*\"think\" + 0.003*\"state\" + 0.003*\"plan\" + 0.003*\"mr.\" + 0.003*\"way\" + 0.003*\"government\"'),\n",
       " (15,\n",
       "  '0.029*\"woman\" + 0.008*\"man\" + 0.005*\"write\" + 0.004*\"case\" + 0.004*\"abortion\" + 0.004*\"state\" + 0.003*\"want\" + 0.003*\"court\" + 0.003*\"child\" + 0.003*\"law\"'),\n",
       " (16,\n",
       "  '0.004*\"u._s.\" + 0.004*\"report\" + 0.003*\"accord\" + 0.003*\"country\" + 0.003*\"woman\" + 0.003*\"man\" + 0.003*\"case\" + 0.003*\"day\" + 0.003*\"help\" + 0.003*\"official\"'),\n",
       " (17,\n",
       "  '0.024*\"school\" + 0.019*\"student\" + 0.007*\"education\" + 0.005*\"child\" + 0.005*\"state\" + 0.005*\"teacher\" + 0.004*\"college\" + 0.004*\"public\" + 0.004*\"university\" + 0.003*\"trump\"'),\n",
       " (18,\n",
       "  '0.006*\"tax\" + 0.006*\"pay\" + 0.005*\"health\" + 0.005*\"child\" + 0.004*\"report\" + 0.004*\"case\" + 0.004*\"country\" + 0.004*\"need\" + 0.003*\"family\" + 0.003*\"want\"'),\n",
       " (19,\n",
       "  '0.017*\"trump\" + 0.007*\"report\" + 0.006*\"russia\" + 0.004*\"mr.\" + 0.004*\"think\" + 0.003*\"official\" + 0.003*\"election\" + 0.003*\"u._s.\" + 0.003*\"president\" + 0.003*\"campaign\"'),\n",
       " (20,\n",
       "  '0.022*\"trump\" + 0.007*\"u._s.\" + 0.007*\"president\" + 0.006*\"country\" + 0.005*\"military\" + 0.004*\"united_states\" + 0.004*\"administration\" + 0.004*\"official\" + 0.004*\"obama\" + 0.003*\"american\"'),\n",
       " (21,\n",
       "  '0.005*\"trump\" + 0.003*\"thing\" + 0.003*\"think\" + 0.003*\"day\" + 0.003*\"look\" + 0.003*\"job\" + 0.003*\"bharara\" + 0.003*\"accord\" + 0.002*\"want\" + 0.002*\"state\"'),\n",
       " (22,\n",
       "  '0.007*\"vote\" + 0.006*\"country\" + 0.006*\"trump\" + 0.005*\"state\" + 0.004*\"eu\" + 0.004*\"party\" + 0.004*\"political\" + 0.004*\"u._s.\" + 0.004*\"policy\" + 0.004*\"voter\"'),\n",
       " (23,\n",
       "  '0.006*\"think\" + 0.004*\"woman\" + 0.003*\"want\" + 0.003*\"thing\" + 0.003*\"day\" + 0.003*\"look\" + 0.003*\"company\" + 0.003*\"trump\" + 0.002*\"business\" + 0.002*\"restaurant\"'),\n",
       " (24,\n",
       "  '0.007*\"china\" + 0.006*\"government\" + 0.006*\"state\" + 0.005*\"attack\" + 0.005*\"country\" + 0.005*\"police\" + 0.004*\"official\" + 0.004*\"report\" + 0.004*\"trump\" + 0.003*\"chinese\"'),\n",
       " (25,\n",
       "  '0.010*\"company\" + 0.006*\"apple\" + 0.005*\"facebook\" + 0.005*\"uber\" + 0.004*\"report\" + 0.003*\"state\" + 0.003*\"user\" + 0.003*\"law\" + 0.003*\"way\" + 0.003*\"technology\"'),\n",
       " (26,\n",
       "  '0.008*\"government\" + 0.006*\"state\" + 0.006*\"law\" + 0.006*\"trump\" + 0.004*\"federal\" + 0.004*\"official\" + 0.004*\"court\" + 0.004*\"department\" + 0.004*\"president\" + 0.004*\"report\"'),\n",
       " (27,\n",
       "  '0.009*\"player\" + 0.007*\"game\" + 0.007*\"team\" + 0.006*\"play\" + 0.006*\"win\" + 0.004*\"day\" + 0.004*\"point\" + 0.004*\"start\" + 0.004*\"league\" + 0.003*\"think\"'),\n",
       " (28,\n",
       "  '0.014*\"company\" + 0.005*\"job\" + 0.004*\"worker\" + 0.004*\"business\" + 0.004*\"big\" + 0.003*\"market\" + 0.003*\"accord\" + 0.003*\"sale\" + 0.003*\"investor\" + 0.003*\"share\"'),\n",
       " (29,\n",
       "  '0.018*\"trump\" + 0.005*\"want\" + 0.005*\"debate\" + 0.005*\"think\" + 0.004*\"man\" + 0.004*\"donald_trump\" + 0.004*\"candidate\" + 0.004*\"president\" + 0.004*\"look\" + 0.003*\"woman\"'),\n",
       " (30,\n",
       "  '0.014*\"case\" + 0.008*\"court\" + 0.005*\"judge\" + 0.005*\"trial\" + 0.005*\"state\" + 0.004*\"lawyer\" + 0.003*\"prosecutor\" + 0.003*\"supreme_court\" + 0.003*\"company\" + 0.003*\"jury\"'),\n",
       " (31,\n",
       "  '0.005*\"water\" + 0.005*\"game\" + 0.003*\"day\" + 0.003*\"area\" + 0.003*\"team\" + 0.003*\"win\" + 0.003*\"leave\" + 0.003*\"home\" + 0.003*\"state\" + 0.003*\"accord\"'),\n",
       " (32,\n",
       "  '0.010*\"university\" + 0.009*\"student\" + 0.005*\"state\" + 0.005*\"case\" + 0.004*\"report\" + 0.004*\"school\" + 0.004*\"college\" + 0.003*\"law\" + 0.003*\"official\" + 0.003*\"issue\"'),\n",
       " (33,\n",
       "  '0.009*\"company\" + 0.004*\"business\" + 0.004*\"board\" + 0.003*\"state\" + 0.003*\"deal\" + 0.003*\"epa\" + 0.003*\"want\" + 0.003*\"report\" + 0.003*\"car\" + 0.003*\"plan\"'),\n",
       " (34,\n",
       "  '0.007*\"facebook\" + 0.005*\"think\" + 0.005*\"music\" + 0.004*\"day\" + 0.004*\"prince\" + 0.004*\"want\" + 0.004*\"trump\" + 0.004*\"thing\" + 0.003*\"report\" + 0.003*\"video\"'),\n",
       " (35,\n",
       "  '0.011*\"trump\" + 0.006*\"think\" + 0.004*\"way\" + 0.004*\"want\" + 0.004*\"thing\" + 0.004*\"life\" + 0.004*\"right\" + 0.003*\"write\" + 0.003*\"country\" + 0.003*\"try\"'),\n",
       " (36,\n",
       "  '0.013*\"state\" + 0.006*\"plan\" + 0.005*\"obamacare\" + 0.005*\"health\" + 0.004*\"law\" + 0.004*\"house\" + 0.004*\"republicans\" + 0.004*\"patient\" + 0.003*\"repeal\" + 0.003*\"drug\"'),\n",
       " (37,\n",
       "  '0.012*\"trump\" + 0.009*\"state\" + 0.008*\"win\" + 0.008*\"party\" + 0.008*\"voter\" + 0.008*\"campaign\" + 0.007*\"clinton\" + 0.007*\"vote\" + 0.006*\"candidate\" + 0.005*\"democrats\"'),\n",
       " (38,\n",
       "  '0.004*\"want\" + 0.004*\"think\" + 0.004*\"israel\" + 0.004*\"need\" + 0.004*\"woman\" + 0.003*\"mr.\" + 0.003*\"report\" + 0.003*\"trump\" + 0.003*\"u._s.\" + 0.003*\"state\"'),\n",
       " (39,\n",
       "  '0.006*\"think\" + 0.006*\"officer\" + 0.004*\"police\" + 0.004*\"arrest\" + 0.004*\"want\" + 0.004*\"video\" + 0.004*\"way\" + 0.004*\"case\" + 0.003*\"scott\" + 0.003*\"charge\"'),\n",
       " (40,\n",
       "  '0.008*\"israel\" + 0.008*\"company\" + 0.005*\"obama\" + 0.005*\"tesla\" + 0.005*\"iran\" + 0.004*\"u._s.\" + 0.004*\"plan\" + 0.003*\"report\" + 0.003*\"state\" + 0.003*\"israeli\"'),\n",
       " (41,\n",
       "  '0.007*\"google\" + 0.006*\"company\" + 0.004*\"app\" + 0.004*\"apple\" + 0.003*\"report\" + 0.003*\"day\" + 0.003*\"user\" + 0.003*\"way\" + 0.003*\"world\" + 0.003*\"phone\"'),\n",
       " (42,\n",
       "  '0.006*\"trump\" + 0.006*\"think\" + 0.005*\"clinton\" + 0.005*\"sanders\" + 0.004*\"want\" + 0.004*\"day\" + 0.003*\"campaign\" + 0.003*\"way\" + 0.003*\"thing\" + 0.003*\"country\"'),\n",
       " (43,\n",
       "  '0.025*\"trump\" + 0.011*\"president\" + 0.005*\"white_house\" + 0.005*\"think\" + 0.004*\"campaign\" + 0.004*\"mr.\" + 0.003*\"state\" + 0.003*\"administration\" + 0.003*\"way\" + 0.003*\"obama\"'),\n",
       " (44,\n",
       "  '0.006*\"leave\" + 0.005*\"migrant\" + 0.005*\"day\" + 0.004*\"britain\" + 0.003*\"way\" + 0.003*\"home\" + 0.003*\"british\" + 0.003*\"want\" + 0.003*\"country\" + 0.003*\"child\"'),\n",
       " (45,\n",
       "  '0.015*\"russia\" + 0.014*\"trump\" + 0.010*\"putin\" + 0.006*\"report\" + 0.006*\"russian\" + 0.005*\"u._s.\" + 0.004*\"flynn\" + 0.004*\"official\" + 0.004*\"president\" + 0.004*\"syria\"'),\n",
       " (46,\n",
       "  '0.006*\"child\" + 0.005*\"woman\" + 0.004*\"day\" + 0.004*\"life\" + 0.004*\"want\" + 0.004*\"think\" + 0.004*\"look\" + 0.003*\"help\" + 0.003*\"way\" + 0.003*\"live\"'),\n",
       " (47,\n",
       "  '0.013*\"trump\" + 0.006*\"u._s.\" + 0.005*\"country\" + 0.003*\"company\" + 0.003*\"state\" + 0.003*\"president\" + 0.003*\"day\" + 0.003*\"accord\" + 0.003*\"government\" + 0.003*\"world\"'),\n",
       " (48,\n",
       "  '0.032*\"trump\" + 0.006*\"company\" + 0.005*\"president\" + 0.005*\"china\" + 0.005*\"business\" + 0.005*\"united_states\" + 0.005*\"u._s.\" + 0.004*\"job\" + 0.004*\"trade\" + 0.004*\"want\"'),\n",
       " (49,\n",
       "  '0.004*\"song\" + 0.004*\"cuba\" + 0.004*\"team\" + 0.004*\"country\" + 0.003*\"play\" + 0.003*\"group\" + 0.003*\"day\" + 0.003*\"way\" + 0.003*\"city\" + 0.003*\"world\"')]"
      ]
     },
     "execution_count": 16,
     "metadata": {},
     "output_type": "execute_result"
    }
   ],
   "source": [
    "sorted(lda50.print_topics(lda50.num_topics), key=lambda x: x[0])"
   ]
  },
  {
   "cell_type": "code",
   "execution_count": null,
   "metadata": {
    "collapsed": true
   },
   "outputs": [],
   "source": []
  }
 ],
 "metadata": {
  "kernelspec": {
   "display_name": "Python 3 (tc3)",
   "language": "python",
   "name": "tc3"
  },
  "language_info": {
   "codemirror_mode": {
    "name": "ipython",
    "version": 3
   },
   "file_extension": ".py",
   "mimetype": "text/x-python",
   "name": "python",
   "nbconvert_exporter": "python",
   "pygments_lexer": "ipython3",
   "version": "3.6.5"
  },
  "varInspector": {
   "cols": {
    "lenName": 16,
    "lenType": 16,
    "lenVar": 40
   },
   "kernels_config": {
    "python": {
     "delete_cmd_postfix": "",
     "delete_cmd_prefix": "del ",
     "library": "var_list.py",
     "varRefreshCmd": "print(var_dic_list())"
    },
    "r": {
     "delete_cmd_postfix": ") ",
     "delete_cmd_prefix": "rm(",
     "library": "var_list.r",
     "varRefreshCmd": "cat(var_dic_list()) "
    }
   },
   "types_to_exclude": [
    "module",
    "function",
    "builtin_function_or_method",
    "instance",
    "_Feature"
   ],
   "window_display": false
  }
 },
 "nbformat": 4,
 "nbformat_minor": 2
}
