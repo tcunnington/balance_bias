{
 "cells": [
  {
   "cell_type": "code",
   "execution_count": 18,
   "metadata": {},
   "outputs": [
    {
     "name": "stdout",
     "output_type": "stream",
     "text": [
      "The autoreload extension is already loaded. To reload it, use:\n",
      "  %reload_ext autoreload\n"
     ]
    }
   ],
   "source": [
    "%load_ext autoreload\n",
    "%autoreload 2\n",
    "\n",
    "from pipeline.lda import *\n",
    "from pipeline.preprocessing import Preprocessor\n",
    "\n",
    "from pipeline.utils import *"
   ]
  },
  {
   "cell_type": "code",
   "execution_count": 5,
   "metadata": {},
   "outputs": [
    {
     "name": "stdout",
     "output_type": "stream",
     "text": [
      "load spacy model\n",
      "Loading bi-gram model...\n",
      "Done!\n",
      "Loading tri-gram model...\n",
      "Done!\n"
     ]
    }
   ],
   "source": [
    "prep = preprocessor = Preprocessor('all_the_news',  preload_models=True)"
   ]
  },
  {
   "cell_type": "code",
   "execution_count": 3,
   "metadata": {},
   "outputs": [
    {
     "name": "stdout",
     "output_type": "stream",
     "text": [
      "segment sentences, write\n",
      "Wrote 882 items to the new txt file 'pipeline/intermediate/all_the_news/unigram_sentences_all.txt'.\n"
     ]
    }
   ],
   "source": [
    "preprocessor.write_unigram_sentences()"
   ]
  },
  {
   "cell_type": "code",
   "execution_count": null,
   "metadata": {
    "collapsed": true
   },
   "outputs": [],
   "source": [
    "lda = get_lda_model(100, from_scratch=False)"
   ]
  },
  {
   "cell_type": "code",
   "execution_count": 16,
   "metadata": {
    "collapsed": true
   },
   "outputs": [],
   "source": [
    "article = \"\"\"\n",
    "I just have to get campaign funds and get cozy with congress, Repulicans and Democrats alike. Donald Trump a a bad president.\n",
    "Also we should talk about guns and shootings. The number of gun deaths is completely out of hand.\n",
    "A lot of people say that things are out of hand, or at least less than ideal.\n",
    "Those on Capitol Hill may soon come under pressure by the unions.\n",
    "\"\"\"\n"
   ]
  },
  {
   "cell_type": "code",
   "execution_count": 17,
   "metadata": {},
   "outputs": [
    {
     "name": "stderr",
     "output_type": "stream",
     "text": [
      "/Users/Taylor/anaconda2/envs/py3/lib/python3.6/site-packages/gensim/models/phrases.py:494: UserWarning: For a faster implementation, use the gensim.models.phrases.Phraser class\n",
      "  warnings.warn(\"For a faster implementation, use the gensim.models.phrases.Phraser class\")\n"
     ]
    },
    {
     "data": {
      "text/plain": [
       "['-PRON-',\n",
       " 'campaign',\n",
       " 'fund',\n",
       " 'cozy',\n",
       " 'congress',\n",
       " 'repulicans',\n",
       " 'democrats',\n",
       " 'alike',\n",
       " 'donald_trump',\n",
       " 'bad',\n",
       " 'president',\n",
       " '-PRON-',\n",
       " 'talk_about',\n",
       " 'gun',\n",
       " 'shooting',\n",
       " 'number',\n",
       " 'gun',\n",
       " 'death',\n",
       " 'completely',\n",
       " 'hand',\n",
       " 'lot',\n",
       " 'people',\n",
       " 'thing',\n",
       " 'hand',\n",
       " 'ideal',\n",
       " 'capitol',\n",
       " 'hill',\n",
       " 'soon',\n",
       " 'come_under_pressure',\n",
       " 'union']"
      ]
     },
     "execution_count": 17,
     "metadata": {},
     "output_type": "execute_result"
    }
   ],
   "source": [
    "parsed_doc = preprocessor.process_doc(article)\n",
    "parsed_doc"
   ]
  },
  {
   "cell_type": "code",
   "execution_count": 9,
   "metadata": {},
   "outputs": [
    {
     "data": {
      "text/plain": [
       "[(129, 1),\n",
       " (136, 1),\n",
       " (560, 1),\n",
       " (639, 1),\n",
       " (644, 1),\n",
       " (760, 2),\n",
       " (913, 1),\n",
       " (970, 2),\n",
       " (1067, 1),\n",
       " (1145, 1),\n",
       " (1962, 1),\n",
       " (5372, 1),\n",
       " (18817, 1),\n",
       " (21548, 1),\n",
       " (23491, 1),\n",
       " (44340, 1)]"
      ]
     },
     "execution_count": 9,
     "metadata": {},
     "output_type": "execute_result"
    }
   ],
   "source": [
    "bow = trigram_doc_to_bow(parsed_doc)\n",
    "bow"
   ]
  },
  {
   "cell_type": "code",
   "execution_count": 6,
   "metadata": {},
   "outputs": [
    {
     "data": {
      "text/plain": [
       "[(58, 0.89000005)]"
      ]
     },
     "execution_count": 6,
     "metadata": {},
     "output_type": "execute_result"
    }
   ],
   "source": [
    "lda[bow]"
   ]
  },
  {
   "cell_type": "code",
   "execution_count": 7,
   "metadata": {},
   "outputs": [
    {
     "name": "stdout",
     "output_type": "stream",
     "text": [
      "hi there\n",
      "-PRON- name be taylor and one day -PRON- shall be president\n",
      "-PRON- just have to get campaign fund and get cozy with congress repulicans and democrats alike\n",
      "donald trump a a bad president\n",
      "also -PRON- should talk about gun and shooting\n",
      "the number of gun death be completely out of hand\n"
     ]
    }
   ],
   "source": [
    "for sent in preprocessor.nlp(article).sents:\n",
    "    print( ' '.join(lemmatize_clean(sent)))"
   ]
  },
  {
   "cell_type": "code",
   "execution_count": 17,
   "metadata": {},
   "outputs": [],
   "source": [
    "# for x in add_newline(preprocessor.lemmatized_sentence_corpus()):\n",
    "#     print(x)"
   ]
  },
  {
   "cell_type": "code",
   "execution_count": 27,
   "metadata": {},
   "outputs": [],
   "source": [
    "article = \"\"\"\n",
    "Senate Democrats, who are divided on abortion policy, are instead turning to health care as a rallying cry for opposition to Brett Kavanaugh, President Trump's Supreme Court nominee.\n",
    "Specifically, they are sounding the alarm that confirming the conservative District Court judge could jeopardize one of the Affordable Care Act's most popular provisions — its protections for people with pre-existing health conditions.\n",
    "\"Democrats believe the No. 1 issue in America is health care, and the ability of people to get good health care at prices they can afford,\" said Senate Minority Leader Chuck Schumer, D-N.Y.\n",
    "The Kavanaugh nomination, he added, \"would put a dagger\" through the heart of that belief.\n",
    "Who Is Brett Kavanaugh, President Trump's Pick For The Supreme Court?\n",
    "Democratic senators spent Tuesday trying to connect the dots between potential threats to health care and Trump's high court pick.\n",
    "\"President Trump as a candidate made it very clear that his priority was to put justices on the court who would correct for the fatal flaw of John Roberts,\" said Sen. Chris Murphy, D-Conn., on the Senate floor Tuesday. Chief Justice Roberts was the decisive fifth vote to uphold the ACA in a key case in 2012. \"[Republicans'] new strategy is to use the court system to invalidate the protections in the law for people with pre-existing conditions,\" Murphy said.\n",
    "Murphy — and many of his Democratic colleagues — are referring to a case filed in Texas in February by 20 Republican state attorneys general. The AGs from these states charge that because the tax bill passed by Congress last year eliminated the tax penalty for not having health insurance, it rendered the entire federal health law void.\n",
    "Their reasoning was that Roberts based his opinion upholding the ACA on Congress' taxing power. Without the tax, the AGs argue, the law should be held unconstitutional.\n",
    "The Trump administration, which might have been expected to defend the ACA because defending federal law is part of what the Justice Department is tasked to do, opted instead, in this case, to follow a different course of action.\n",
    "In a response filed in June, political appointees in the department said eliminating the penalty should not invalidate the entire ACA. But, they argued, it should nullify provisions that prevent insurers from refusing to sell insurance to people with pre-existing conditions or charging them higher premiums.\n",
    "If this argument were to be upheld by a newly reconstituted Supreme Court, the health law would be dealt a serious blow.\n",
    "The lawsuit, however, is only in its earliest stages. And many legal scholars on both sides doubt it will get very far.\n",
    "In an amicus brief filed with the court in June, five liberal and conservative legal experts (who disagreed on previous ACA cases) this time argued that both the Republican attorneys general and the Justice Department are wrong — that eliminating the mandate penalty should have no impact on the rest of the law.\n",
    "Their position is rooted in something called \"congressional intent.\" When a court wants to invalidate a portion of a law, it usually also has to determine whether Congress would have considered other aspects of the law unworkable without it.\n",
    "But that is not a problem in this case, the legal experts argued in their brief.\n",
    "\"Here, Congress itself has essentially eliminated the provision in question and left the rest of a statute standing,\" they wrote. \"In such cases, congressional intent is clear.\"\n",
    "The merits of the lawsuit notwithstanding, the issue works well for Democrats.\n",
    "For one thing, the health law's pre-existing condition protections are among its most popular parts, according to public opinion polls.\n",
    "And unlike abortion, defending the health law is something all Senate Democrats can rally around. That includes some vulnerable senators in states that voted for Trump in 2016, including Sens. Joe Manchin, D-W.Va., Heidi Heitkamp, D-N.D., and Joe Donnelly, D-Ind. None are strong supporters of abortion rights. But all have stood firm against GOP efforts to take apart the Affordable Care Act.\n",
    "Manchin, for example, issued a statement about the nomination that said, \"The Supreme Court will ultimately decide if nearly 800,000 West Virginians with preexisting conditions will lose their health care.\"\n",
    "Manchin's opponent in November is his state's Republican attorney general, Patrick Morrisey, who is one of the officials who filed the suit against the health law.\n",
    "\"\"\""
   ]
  },
  {
   "cell_type": "code",
   "execution_count": 30,
   "metadata": {},
   "outputs": [
    {
     "name": "stdout",
     "output_type": "stream",
     "text": [
      "147 ms ± 11.3 ms per loop (mean ± std. dev. of 7 runs, 10 loops each)\n"
     ]
    }
   ],
   "source": [
    "%timeit phraser_prep(article)"
   ]
  },
  {
   "cell_type": "code",
   "execution_count": 31,
   "metadata": {},
   "outputs": [
    {
     "name": "stderr",
     "output_type": "stream",
     "text": [
      "/Users/Taylor/anaconda2/envs/py3/lib/python3.6/site-packages/gensim/models/phrases.py:494: UserWarning: For a faster implementation, use the gensim.models.phrases.Phraser class\n",
      "  warnings.warn(\"For a faster implementation, use the gensim.models.phrases.Phraser class\")\n"
     ]
    },
    {
     "name": "stdout",
     "output_type": "stream",
     "text": [
      "682 ms ± 95.4 ms per loop (mean ± std. dev. of 7 runs, 1 loop each)\n"
     ]
    }
   ],
   "source": [
    "%timeit preprocessor.process_doc(article)"
   ]
  },
  {
   "cell_type": "code",
   "execution_count": null,
   "metadata": {
    "collapsed": true
   },
   "outputs": [],
   "source": []
  }
 ],
 "metadata": {
  "kernelspec": {
   "display_name": "Python 3",
   "language": "python",
   "name": "python3"
  },
  "language_info": {
   "codemirror_mode": {
    "name": "ipython",
    "version": 3
   },
   "file_extension": ".py",
   "mimetype": "text/x-python",
   "name": "python",
   "nbconvert_exporter": "python",
   "pygments_lexer": "ipython3",
   "version": "3.6.5"
  },
  "varInspector": {
   "cols": {
    "lenName": 16,
    "lenType": 16,
    "lenVar": 40
   },
   "kernels_config": {
    "python": {
     "delete_cmd_postfix": "",
     "delete_cmd_prefix": "del ",
     "library": "var_list.py",
     "varRefreshCmd": "print(var_dic_list())"
    },
    "r": {
     "delete_cmd_postfix": ") ",
     "delete_cmd_prefix": "rm(",
     "library": "var_list.r",
     "varRefreshCmd": "cat(var_dic_list()) "
    }
   },
   "types_to_exclude": [
    "module",
    "function",
    "builtin_function_or_method",
    "instance",
    "_Feature"
   ],
   "window_display": false
  }
 },
 "nbformat": 4,
 "nbformat_minor": 2
}
