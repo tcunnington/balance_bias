{
 "cells": [
  {
   "cell_type": "code",
   "execution_count": 1,
   "metadata": {
    "collapsed": true
   },
   "outputs": [],
   "source": [
    "from pipeline.lda import *\n",
    "from pipeline.preprocessing import Preprocessor"
   ]
  },
  {
   "cell_type": "code",
   "execution_count": 2,
   "metadata": {},
   "outputs": [
    {
     "name": "stdout",
     "output_type": "stream",
     "text": [
      "load spacy model\n",
      "Loading LDA model from pipeline/intermediate/all_the_news/lda.n100.model\n"
     ]
    }
   ],
   "source": [
    "preprocessor = Preprocessor('all_the_news')\n",
    "lda = get_lda_model(100, from_scratch=False)"
   ]
  },
  {
   "cell_type": "code",
   "execution_count": 3,
   "metadata": {
    "collapsed": true
   },
   "outputs": [],
   "source": [
    "article = 'Hi there my name is Taylor and one day I shall be president. I just have to get campaign funds and get cozy with congress, Repulicans and Democrats alike.'"
   ]
  },
  {
   "cell_type": "code",
   "execution_count": 59,
   "metadata": {},
   "outputs": [
    {
     "name": "stdout",
     "output_type": "stream",
     "text": [
      "Getting bi-gram model..\n",
      "Done!\n",
      "Getting tri-gram model\n",
      "Done!\n"
     ]
    },
    {
     "name": "stderr",
     "output_type": "stream",
     "text": [
      "/opt/conda/envs/tc3/lib/python3.6/site-packages/gensim/models/phrases.py:494: UserWarning: For a faster implementation, use the gensim.models.phrases.Phraser class\n",
      "  warnings.warn(\"For a faster implementation, use the gensim.models.phrases.Phraser class\")\n"
     ]
    },
    {
     "data": {
      "text/plain": [
       "['hi',\n",
       " '-PRON-',\n",
       " 'taylor',\n",
       " 'day',\n",
       " '-PRON-',\n",
       " 'shall',\n",
       " 'president',\n",
       " '-PRON-',\n",
       " 'campaign',\n",
       " 'fund',\n",
       " 'cozy',\n",
       " 'congress',\n",
       " 'repulicans',\n",
       " 'democrats',\n",
       " 'alike',\n",
       " 'president',\n",
       " 'trump',\n",
       " 'suck',\n",
       " 'let_-PRON-',\n",
       " 'talk_about',\n",
       " 'gun_violence',\n",
       " 'shooting',\n",
       " 'common',\n",
       " 'especially',\n",
       " 'school',\n",
       " 'gun',\n",
       " '-PRON-',\n",
       " 'dunno',\n",
       " 'gun',\n",
       " 'whack']"
      ]
     },
     "execution_count": 59,
     "metadata": {},
     "output_type": "execute_result"
    }
   ],
   "source": [
    "parsed_doc = preprocessor.process_doc(article)\n",
    "parsed_doc"
   ]
  },
  {
   "cell_type": "code",
   "execution_count": 5,
   "metadata": {},
   "outputs": [
    {
     "data": {
      "text/plain": [
       "[(129, 1),\n",
       " (560, 1),\n",
       " (639, 1),\n",
       " (970, 1),\n",
       " (18817, 1),\n",
       " (21548, 1),\n",
       " (23491, 1),\n",
       " (44340, 1)]"
      ]
     },
     "execution_count": 5,
     "metadata": {},
     "output_type": "execute_result"
    }
   ],
   "source": [
    "bow = trigram_doc_to_bow(parsed_doc)\n",
    "bow"
   ]
  },
  {
   "cell_type": "code",
   "execution_count": 6,
   "metadata": {},
   "outputs": [
    {
     "data": {
      "text/plain": [
       "[(58, 0.89000005)]"
      ]
     },
     "execution_count": 6,
     "metadata": {},
     "output_type": "execute_result"
    }
   ],
   "source": [
    "lda[bow]"
   ]
  },
  {
   "cell_type": "code",
   "execution_count": null,
   "metadata": {
    "collapsed": true
   },
   "outputs": [],
   "source": []
  }
 ],
 "metadata": {
  "kernelspec": {
   "display_name": "Python 3 (tc3)",
   "language": "python",
   "name": "tc3"
  },
  "language_info": {
   "codemirror_mode": {
    "name": "ipython",
    "version": 3
   },
   "file_extension": ".py",
   "mimetype": "text/x-python",
   "name": "python",
   "nbconvert_exporter": "python",
   "pygments_lexer": "ipython3",
   "version": "3.6.5"
  },
  "varInspector": {
   "cols": {
    "lenName": 16,
    "lenType": 16,
    "lenVar": 40
   },
   "kernels_config": {
    "python": {
     "delete_cmd_postfix": "",
     "delete_cmd_prefix": "del ",
     "library": "var_list.py",
     "varRefreshCmd": "print(var_dic_list())"
    },
    "r": {
     "delete_cmd_postfix": ") ",
     "delete_cmd_prefix": "rm(",
     "library": "var_list.r",
     "varRefreshCmd": "cat(var_dic_list()) "
    }
   },
   "types_to_exclude": [
    "module",
    "function",
    "builtin_function_or_method",
    "instance",
    "_Feature"
   ],
   "window_display": false
  }
 },
 "nbformat": 4,
 "nbformat_minor": 2
}
