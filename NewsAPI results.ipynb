{
 "cells": [
  {
   "cell_type": "code",
   "execution_count": 1,
   "metadata": {
    "collapsed": true
   },
   "outputs": [],
   "source": [
    "%load_ext autoreload\n",
    "%autoreload 2"
   ]
  },
  {
   "cell_type": "code",
   "execution_count": 2,
   "metadata": {
    "collapsed": true
   },
   "outputs": [],
   "source": [
    "import os\n",
    "import requests\n",
    "import pandas as pd\n",
    "from article_scraper import ArticleScraper\n",
    "from newspaper.article import ArticleException\n",
    "from pipeline.lda import LDABuilder\n",
    "from pipeline.lda_similarity import LDASimilarity\n",
    "from pipeline.preprocessing import Preprocessor\n",
    "\n",
    "from dotenv import load_dotenv, find_dotenv\n",
    "load_dotenv(find_dotenv())\n",
    "\n",
    "flatten = lambda l: [item for sublist in l for item in sublist]"
   ]
  },
  {
   "cell_type": "code",
   "execution_count": 35,
   "metadata": {},
   "outputs": [
    {
     "name": "stdout",
     "output_type": "stream",
     "text": [
      "Loading trigram dict...\n",
      "Loading LDA model (n_topics=1000)...\n",
      "Loading index...\n",
      "load spacy model\n",
      "Loading bi-gram model...\n",
      "Done!\n",
      "Loading tri-gram model...\n",
      "Done!\n"
     ]
    }
   ],
   "source": [
    "n_topics = 1000\n",
    "lda_builder = LDABuilder()\n",
    "trigram_dictionary = lda_builder.get_corpus_dict(from_scratch=False)\n",
    "similarity_model = LDASimilarity(lda_builder, n_topics, trigram_dictionary)\n",
    "lda = similarity_model.model\n",
    "prep = Preprocessor(preload_models=True)"
   ]
  },
  {
   "cell_type": "code",
   "execution_count": 5,
   "metadata": {
    "collapsed": true
   },
   "outputs": [],
   "source": [
    "# url = 'https://www.nytimes.com/2017/02/16/us/politics/neil-gorsuch-supreme-court-senate-hearing.html'\n",
    "url = 'https://www.nytimes.com/2018/09/12/climate/pruitt-coal-consulting.html'\n",
    "try:\n",
    "    title, text = ArticleScraper.scrape(url)\n",
    "    parsed_doc = prep.process_doc(title + ' ' + text)\n",
    "except ArticleException as e:\n",
    "    # If the download for some reason fails (ex. 404) we need to show an error msg and redirect to main\n",
    "    print('SCRAPING FAILED!')\n",
    "#     return redirect(url_for('.index', scraping_error=True)) # TODO pass this without adding to url params (ugly)"
   ]
  },
  {
   "cell_type": "code",
   "execution_count": 6,
   "metadata": {},
   "outputs": [
    {
     "data": {
      "text/plain": [
       "[(353, 0.12589951),\n",
       " (368, 0.097925633),\n",
       " (388, 0.054451562),\n",
       " (412, 0.082356423),\n",
       " (609, 0.15325566),\n",
       " (785, 0.062666863),\n",
       " (861, 0.10649794)]"
      ]
     },
     "execution_count": 6,
     "metadata": {},
     "output_type": "execute_result"
    }
   ],
   "source": [
    "bow = trigram_dictionary.doc2bow(parsed_doc)\n",
    "doc_topics = similarity_model.model.get_document_topics(bow, minimum_probability=0.05)\n",
    "doc_topics"
   ]
  },
  {
   "cell_type": "code",
   "execution_count": 7,
   "metadata": {},
   "outputs": [
    {
     "data": {
      "text/plain": [
       "(142482,)"
      ]
     },
     "execution_count": 7,
     "metadata": {},
     "output_type": "execute_result"
    }
   ],
   "source": [
    "# similarity to all other articles\n",
    "sims = similarity_model.similarity_index[doc_topics]\n",
    "sims.shape"
   ]
  },
  {
   "cell_type": "code",
   "execution_count": 8,
   "metadata": {},
   "outputs": [
    {
     "data": {
      "text/plain": [
       "[{'id': 353,\n",
       "  'p': 0.12589951,\n",
       "  'words': [('document', 0.043323945),\n",
       "   ('government', 0.026519662),\n",
       "   ('information', 0.022614015),\n",
       "   ('report', 0.020168744),\n",
       "   ('agency', 0.012710739)]},\n",
       " {'id': 368,\n",
       "  'p': 0.097925633,\n",
       "  'words': [('money', 0.067638882),\n",
       "   ('pay', 0.066051938),\n",
       "   ('million', 0.019178221),\n",
       "   ('spend', 0.015551433),\n",
       "   ('fund', 0.011786493)]},\n",
       " {'id': 388,\n",
       "  'p': 0.054451562,\n",
       "  'words': [('committee', 0.038875617),\n",
       "   ('report', 0.030800708),\n",
       "   ('intelligence', 0.020262659),\n",
       "   ('surveillance', 0.018971667),\n",
       "   ('claim', 0.017765481)]},\n",
       " {'id': 412,\n",
       "  'p': 0.082356423,\n",
       "  'words': [('office', 0.061038882),\n",
       "   ('ethic', 0.03857825),\n",
       "   ('conflict', 0.036110982),\n",
       "   ('transparency', 0.016583975),\n",
       "   ('public', 0.016452176)]},\n",
       " {'id': 609,\n",
       "  'p': 0.15325566,\n",
       "  'words': [('agency', 0.1179639),\n",
       "   ('epa', 0.090001889),\n",
       "   ('environmental', 0.036948301),\n",
       "   ('pruitt', 0.029954851),\n",
       "   ('environmental_protection_agency', 0.021240372)]},\n",
       " {'id': 785,\n",
       "  'p': 0.062666863,\n",
       "  'words': [('constitution', 0.040197186),\n",
       "   ('right', 0.026724948),\n",
       "   ('law', 0.019939337),\n",
       "   ('conservative', 0.011450302),\n",
       "   ('scalia', 0.010898186)]},\n",
       " {'id': 861,\n",
       "  'p': 0.10649794,\n",
       "  'words': [('mr.', 0.55028915),\n",
       "   ('trump', 0.0077916868),\n",
       "   ('president', 0.0037393644),\n",
       "   ('node', 0.0031850275),\n",
       "   ('attack', 0.0030384946)]}]"
      ]
     },
     "execution_count": 8,
     "metadata": {},
     "output_type": "execute_result"
    }
   ],
   "source": [
    "topics = [{'id': tid, 'p':p, 'words': similarity_model.model.show_topic(tid, 5)} for tid,p in doc_topics] # TODO\n",
    "topics"
   ]
  },
  {
   "cell_type": "code",
   "execution_count": 126,
   "metadata": {},
   "outputs": [],
   "source": [
    "topics = lda.get_document_topics(bow, minimum_probability=0.02, \n",
    "                                 minimum_phi_value=0.0001, \n",
    "                                 per_word_topics=False)"
   ]
  },
  {
   "cell_type": "code",
   "execution_count": 150,
   "metadata": {},
   "outputs": [
    {
     "data": {
      "text/plain": [
       "(100000,)"
      ]
     },
     "execution_count": 150,
     "metadata": {},
     "output_type": "execute_result"
    }
   ],
   "source": [
    "# set([t for t,p in topics])\n",
    "# set(word_topics[0][1])\n",
    "# [sum([p for t,p  in ww[1]]) for ww in phi_relevance]\n",
    "# phi_relevance[0]\n",
    "# from collections import defaultdict, Counter\n",
    "# word_doc_prob = defaultdict(float)\n",
    "\n",
    "# topics_i_care_about = [x[0] for x in topics]\n",
    "# topics_i_care_about\n",
    "\n",
    "# highest = np.argsort(lda.expElogbeta[topics_i_care_about].sum(axis=0))[-50:] # goes [topic][word] # gives the prob of each word per topic\n",
    "np.sort(lda.expElogbeta.sum(axis=0)).shape\n",
    "# [lda.id2word[a] for a in highest]"
   ]
  },
  {
   "cell_type": "code",
   "execution_count": 137,
   "metadata": {},
   "outputs": [
    {
     "data": {
      "text/plain": [
       "[('accord', 2), ('agency', 2), ('government', 3), ('official', 3)]"
      ]
     },
     "execution_count": 137,
     "metadata": {},
     "output_type": "execute_result"
    }
   ],
   "source": [
    "# terms = sorted(flatten([lda.show_topic(t) for t in topics_i_care_about]), key=lambda x: x[0])\n",
    "# [(w,c) for w,c in Counter(list(zip(*terms))[0]).items() if c > 1]"
   ]
  },
  {
   "cell_type": "markdown",
   "metadata": {},
   "source": [
    "I can either take just the top m words from the top 1-2 topics and call it a day... or I can calculate each words probability and take the top n"
   ]
  },
  {
   "cell_type": "code",
   "execution_count": 141,
   "metadata": {},
   "outputs": [
    {
     "data": {
      "text/plain": [
       "(1000, 100000)"
      ]
     },
     "execution_count": 141,
     "metadata": {},
     "output_type": "execute_result"
    }
   ],
   "source": [
    "# lda.show_topic(top2topics[0])#, n_words_per_topic, formatted=True)\n",
    "# lda.inference()\n",
    "lda.get_topics().shape"
   ]
  },
  {
   "cell_type": "code",
   "execution_count": 9,
   "metadata": {},
   "outputs": [
    {
     "data": {
      "text/plain": [
       "['agency',\n",
       " 'epa',\n",
       " 'environmental',\n",
       " 'pruitt',\n",
       " 'environmental_protection_agency',\n",
       " 'document',\n",
       " 'government',\n",
       " 'information',\n",
       " 'report',\n",
       " 'agency']"
      ]
     },
     "execution_count": 9,
     "metadata": {},
     "output_type": "execute_result"
    }
   ],
   "source": [
    "# By top topics - total # is n_topics * n_words_per_topic\n",
    "n_topics = 2\n",
    "n_words_per_topic = 5\n",
    "\n",
    "top2topics = [tid for tid,p in sorted(doc_topics, key=lambda item: -item[1])[:n_topics]]\n",
    "words = []\n",
    "[words.extend(similarity_model.model.show_topic(tid, n_words_per_topic)) for tid in top2topics]\n",
    "top_topic_words = [w for w,p in words]\n",
    "top_topic_words"
   ]
  },
  {
   "cell_type": "code",
   "execution_count": 163,
   "metadata": {},
   "outputs": [
    {
     "data": {
      "text/plain": [
       "['pruitt',\n",
       " 'epa',\n",
       " 'environmental_protection_agency',\n",
       " 'node',\n",
       " 'mr.',\n",
       " 'environmental',\n",
       " 'ethic',\n",
       " 'agency',\n",
       " 'document',\n",
       " 'transparency',\n",
       " 'environment',\n",
       " 'money',\n",
       " 'conflict',\n",
       " 'pay',\n",
       " 'information',\n",
       " 'investigation',\n",
       " 'dollar',\n",
       " 'fund',\n",
       " 'office',\n",
       " 'agency']"
      ]
     },
     "execution_count": 163,
     "metadata": {},
     "output_type": "execute_result"
    }
   ],
   "source": [
    "# by joint probability, P(topic,word)\n",
    "n_words_per_topic = 6 # should be >= to overall # of top words in case there is just one topic, however unlikely\n",
    "n_top_words = 20\n",
    "\n",
    "words_joint_proba = [[(w,wp*p/lda.expElogbeta[:,w].sum()) for w,wp, in similarity_model.model.get_topic_terms(tid, n_words_per_topic)] for tid,p in doc_topics]\n",
    "words = sorted(flatten(words_joint_proba), key=lambda x: -x[1])\n",
    "top_jp_words = [lda.id2word[w] for w,p in words]\n",
    "top_jp_words[:n_top_words]"
   ]
  },
  {
   "cell_type": "code",
   "execution_count": 11,
   "metadata": {},
   "outputs": [
    {
     "data": {
      "text/plain": [
       "['agency',\n",
       " 'epa',\n",
       " 'environmental',\n",
       " 'document',\n",
       " 'pruitt',\n",
       " 'government',\n",
       " 'environmental_protection_agency',\n",
       " 'information',\n",
       " 'report',\n",
       " 'agency']"
      ]
     },
     "execution_count": 11,
     "metadata": {},
     "output_type": "execute_result"
    }
   ],
   "source": [
    "# mixture of the two approaches\n",
    "n_topics = 2\n",
    "n_words_per_topic = 5\n",
    "\n",
    "top2topics = sorted(doc_topics, key=lambda item: -item[1])[:n_topics]\n",
    "words_joint_proba = [[(w,wp*p) for w,wp, in similarity_model.model.show_topic(tid, n_words_per_topic)] for tid,p in top2topics]\n",
    "words = sorted(flatten(words_joint_proba), key=lambda x: -x[1])\n",
    "[w for w,p in words]"
   ]
  },
  {
   "cell_type": "markdown",
   "metadata": {},
   "source": [
    "Need to prioritize more specific words like `supreme_court` and `gorsuch` over generic politics words like `senate` and `vote`"
   ]
  },
  {
   "cell_type": "code",
   "execution_count": 12,
   "metadata": {},
   "outputs": [],
   "source": [
    "def filter_by_title(words):\n",
    "    t = set(parsed_doc[:50])\n",
    "    bools = [w.replace('_', ' ') in t for w in words]\n",
    "    return list(pd.Series(words)[bools])\n",
    "\n",
    "def build_query(words):\n",
    "    return ' '.join(['\"' + w.replace('_', ' ') + '\"' if '_' in w else w for w in words])\n",
    "\n",
    "def resolve_source_id(source_name):\n",
    "    x = source_name.lower().split()\n",
    "#     if x[0] == 'the':\n",
    "#         x = x[1:]\n",
    "\n",
    "    return '-'.join(x)\n",
    "\n",
    "def get_sources_by_bias(bias, sources_filter):\n",
    "    if not isinstance(bias, list):\n",
    "        bias = [bias]\n",
    "        \n",
    "    sources = flatten([[resolve_source_id(name) for name in bias_sources_map[b]] for b in bias])\n",
    "    return ','.join(filter(lambda x: x in sources_filter, sources)) # filter and concat\n",
    "\n",
    "bias_sources_map = {\n",
    "    'hyper-left':    ['Occupy Democrats','Daily Kos'],\n",
    "    'left':          ['MSNBC','Buzzfeed','The Atlantic','Vox','The Huffington Post','Talking Points Memo'],\n",
    "    'center-left':   ['The Guardian UK', 'Politico','The Washington Post','The New York Times','CNN', 'Business Insider'],\n",
    "    'center':        ['Reuters','Associated Press', 'NPR'],\n",
    "    'center-right':  ['The Wall Street Journal','The Hill'],\n",
    "    'right':         ['National Review', 'New York Post','The Weekly Standard','Examiner', 'Washington Examiner'],\n",
    "    'hyper-right':   ['Fox News','Breitbart News','The American Conservative'],\n",
    "}"
   ]
  },
  {
   "cell_type": "code",
   "execution_count": 13,
   "metadata": {
    "collapsed": true
   },
   "outputs": [],
   "source": [
    "BASE_URL = 'https://newsapi.org/'\n",
    "EVERYTHING_ENDPOINT = '/v2/everything'\n",
    "SOURCES_ENDPOINT = '/v2/sources'\n",
    "\n",
    "key_params = {\n",
    "    'apiKey': os.getenv('NEWS_API_KEY'),\n",
    "}\n",
    "date_params = {\n",
    "#     'from': '2018-08-12',\n",
    "#     'to': '2018-08-18'\n",
    "}"
   ]
  },
  {
   "cell_type": "code",
   "execution_count": 14,
   "metadata": {},
   "outputs": [
    {
     "name": "stdout",
     "output_type": "stream",
     "text": [
      "Only some of our sources are represented in the API:\n"
     ]
    },
    {
     "data": {
      "text/plain": [
       "{'center': 'reuters,associated-press',\n",
       " 'center-left': 'the-guardian-uk,politico,the-washington-post,the-new-york-times,cnn,business-insider',\n",
       " 'center-right': 'the-wall-street-journal,the-hill',\n",
       " 'hyper-left': '',\n",
       " 'hyper-right': 'fox-news,breitbart-news,the-american-conservative',\n",
       " 'left': 'msnbc,buzzfeed,the-huffington-post',\n",
       " 'right': 'national-review'}"
      ]
     },
     "execution_count": 14,
     "metadata": {},
     "output_type": "execute_result"
    }
   ],
   "source": [
    "sources = requests.get(BASE_URL + SOURCES_ENDPOINT, key_params).json()['sources']\n",
    "true_sources = [s['id'] for s in sources]\n",
    "my_sources = [resolve_source_id(s) for s in flatten(bias_sources_map.values())]\n",
    "\n",
    "print('Only some of our sources are represented in the API:')\n",
    "{key:get_sources_by_bias(key, set(true_sources)) for key in bias_sources_map.keys()}"
   ]
  },
  {
   "cell_type": "code",
   "execution_count": 15,
   "metadata": {},
   "outputs": [],
   "source": [
    "\n",
    "other_params = {\n",
    "    'q': build_query(filter_by_title(top_topic_words)),\n",
    "    'sources': get_sources_by_bias(['center'], set(true_sources)),#get_sources_by_bias(['left','center-left']),\n",
    "    'language': 'en',\n",
    "#     'pageSize': page_size,\n",
    "#     'page': 1,\n",
    "}\n",
    "\n",
    "url = BASE_URL + EVERYTHING_ENDPOINT"
   ]
  },
  {
   "cell_type": "code",
   "execution_count": 16,
   "metadata": {},
   "outputs": [
    {
     "name": "stdout",
     "output_type": "stream",
     "text": [
      "agency pruitt agency\n"
     ]
    },
    {
     "data": {
      "text/plain": [
       "11"
      ]
     },
     "execution_count": 16,
     "metadata": {},
     "output_type": "execute_result"
    }
   ],
   "source": [
    "params = {**date_params, **other_params, **key_params}\n",
    "print(params['q'])\n",
    "response = requests.get(url, params)\n",
    "json_resp = response.json()\n",
    "json_resp['totalResults']"
   ]
  },
  {
   "cell_type": "code",
   "execution_count": 17,
   "metadata": {
    "scrolled": false
   },
   "outputs": [
    {
     "data": {
      "text/plain": [
       "[\"Environmental agency's top watchdog retiring after Pruitt probes\",\n",
       " 'New U.S. data shows EPA expanded biofuel waiver program for 2017',\n",
       " 'FEMA chief under scrutiny over government car use as storm approaches U.S.: Politico',\n",
       " 'EPA may release new data on small refinery biofuel waivers: sources',\n",
       " 'UPDATE 2-EPA details broad expansion of biofuel waiver program',\n",
       " \"EPA watchdog faults agency for Pruitt's 24-7 security costs\",\n",
       " \"EPA's top watchdog quits amid probes of agency's leadership\",\n",
       " 'Ousted EPA head Pruitt denies getting improper gifts, income',\n",
       " 'FEMA head denies intentionally misusing federal vehicles',\n",
       " \"DHS secretary: FEMA chief misused cars, but won't lose job\",\n",
       " 'The Latest: Primary runoff for Oklahoma AG too close to call']"
      ]
     },
     "execution_count": 17,
     "metadata": {},
     "output_type": "execute_result"
    }
   ],
   "source": [
    "[a['title'] for a in json_resp['articles']]"
   ]
  },
  {
   "cell_type": "code",
   "execution_count": 18,
   "metadata": {},
   "outputs": [
    {
     "data": {
      "text/plain": [
       "['(Reuters) - The U.S. Environmental Protection Agency’s top internal watchdog will retire next month to take a job outside the federal government, the agency said on Tuesday, after overseeing a slew of probes centered around the Trump administration’s former E...',\n",
       " 'NEW YORK (Reuters) - The U.S. Environmental Protection Agency (EPA) gave 29 waivers exempting small oil refineries from a requirement to blend biofuels into gasoline and diesel last year, higher than in previous years, according to agency data released on Thu...',\n",
       " 'WASHINGTON (Reuters) - The head of the U.S. Federal Emergency Management Agency is under investigation over his use of government vehicles, Politico reported on Thursday, as a massive hurricane approached the U.S. Southeast coast. The Department of Homeland S...',\n",
       " 'NEW YORK (Reuters) - The U.S. Environmental Protection Agency (EPA) may release new data on Thursday related to its program to exempt small refineries from annual biofuels blending requirements, according to four sources familiar with the plans. EPA Acting Ad...',\n",
       " 'NEW YORK (Reuters) - The U.S. Environmental Protection Agency (EPA) published new data detailing how it drastically expanded a biofuels waiver program for oil refiners since President Donald Trump’s administration took office, responding to pressure from the ...']"
      ]
     },
     "execution_count": 18,
     "metadata": {},
     "output_type": "execute_result"
    }
   ],
   "source": [
    "[a['content'].split('…')[0] + '...' for a in json_resp['articles'][:5]]"
   ]
  },
  {
   "cell_type": "code",
   "execution_count": 19,
   "metadata": {},
   "outputs": [
    {
     "data": {
      "text/html": [
       "<div>\n",
       "<style scoped>\n",
       "    .dataframe tbody tr th:only-of-type {\n",
       "        vertical-align: middle;\n",
       "    }\n",
       "\n",
       "    .dataframe tbody tr th {\n",
       "        vertical-align: top;\n",
       "    }\n",
       "\n",
       "    .dataframe thead th {\n",
       "        text-align: right;\n",
       "    }\n",
       "</style>\n",
       "<table border=\"1\" class=\"dataframe\">\n",
       "  <thead>\n",
       "    <tr style=\"text-align: right;\">\n",
       "      <th></th>\n",
       "      <th>author</th>\n",
       "      <th>content</th>\n",
       "      <th>description</th>\n",
       "      <th>publishedAt</th>\n",
       "      <th>source</th>\n",
       "      <th>title</th>\n",
       "      <th>url</th>\n",
       "      <th>urlToImage</th>\n",
       "    </tr>\n",
       "  </thead>\n",
       "  <tbody>\n",
       "    <tr>\n",
       "      <th>0</th>\n",
       "      <td>Nichola Groom</td>\n",
       "      <td>(Reuters) - The U.S. Environmental Protection ...</td>\n",
       "      <td>The U.S. Environmental Protection Agency's top...</td>\n",
       "      <td>2018-09-18T20:05:59Z</td>\n",
       "      <td>{'id': 'reuters', 'name': 'Reuters'}</td>\n",
       "      <td>Environmental agency's top watchdog retiring a...</td>\n",
       "      <td>https://www.reuters.com/article/us-usa-epa-ins...</td>\n",
       "      <td>https://s4.reutersmedia.net/resources/r/?m=02&amp;...</td>\n",
       "    </tr>\n",
       "    <tr>\n",
       "      <th>1</th>\n",
       "      <td>Reuters Editorial</td>\n",
       "      <td>NEW YORK (Reuters) - The U.S. Environmental Pr...</td>\n",
       "      <td>The U.S. Environmental Protection Agency (EPA)...</td>\n",
       "      <td>2018-09-20T17:23:06Z</td>\n",
       "      <td>{'id': 'reuters', 'name': 'Reuters'}</td>\n",
       "      <td>New U.S. data shows EPA expanded biofuel waive...</td>\n",
       "      <td>https://www.reuters.com/article/us-usa-epa-bio...</td>\n",
       "      <td>https://s4.reutersmedia.net/resources/r/?m=02&amp;...</td>\n",
       "    </tr>\n",
       "    <tr>\n",
       "      <th>2</th>\n",
       "      <td>Reuters Editorial</td>\n",
       "      <td>WASHINGTON (Reuters) - The head of the U.S. Fe...</td>\n",
       "      <td>The head of the U.S. Federal Emergency Managem...</td>\n",
       "      <td>2018-09-13T12:00:33Z</td>\n",
       "      <td>{'id': 'reuters', 'name': 'Reuters'}</td>\n",
       "      <td>FEMA chief under scrutiny over government car ...</td>\n",
       "      <td>https://www.reuters.com/article/us-storm-flore...</td>\n",
       "      <td>https://s4.reutersmedia.net/resources/r/?m=02&amp;...</td>\n",
       "    </tr>\n",
       "    <tr>\n",
       "      <th>3</th>\n",
       "      <td>Reuters Editorial</td>\n",
       "      <td>NEW YORK (Reuters) - The U.S. Environmental Pr...</td>\n",
       "      <td>The U.S. Environmental Protection Agency (EPA)...</td>\n",
       "      <td>2018-09-20T15:48:43Z</td>\n",
       "      <td>{'id': 'reuters', 'name': 'Reuters'}</td>\n",
       "      <td>EPA may release new data on small refinery bio...</td>\n",
       "      <td>https://www.reuters.com/article/us-usa-epa-bio...</td>\n",
       "      <td>https://s1.reutersmedia.net/resources/r/?m=02&amp;...</td>\n",
       "    </tr>\n",
       "    <tr>\n",
       "      <th>4</th>\n",
       "      <td>Chris Prentice</td>\n",
       "      <td>NEW YORK (Reuters) - The U.S. Environmental Pr...</td>\n",
       "      <td>The U.S. Environmental Protection Agency (EPA)...</td>\n",
       "      <td>2018-09-20T18:34:38Z</td>\n",
       "      <td>{'id': 'reuters', 'name': 'Reuters'}</td>\n",
       "      <td>UPDATE 2-EPA details broad expansion of biofue...</td>\n",
       "      <td>https://www.reuters.com/article/us-usa-epa-bio...</td>\n",
       "      <td>https://s4.reutersmedia.net/resources/r/?m=02&amp;...</td>\n",
       "    </tr>\n",
       "  </tbody>\n",
       "</table>\n",
       "</div>"
      ],
      "text/plain": [
       "              author                                            content  \\\n",
       "0      Nichola Groom  (Reuters) - The U.S. Environmental Protection ...   \n",
       "1  Reuters Editorial  NEW YORK (Reuters) - The U.S. Environmental Pr...   \n",
       "2  Reuters Editorial  WASHINGTON (Reuters) - The head of the U.S. Fe...   \n",
       "3  Reuters Editorial  NEW YORK (Reuters) - The U.S. Environmental Pr...   \n",
       "4     Chris Prentice  NEW YORK (Reuters) - The U.S. Environmental Pr...   \n",
       "\n",
       "                                         description           publishedAt  \\\n",
       "0  The U.S. Environmental Protection Agency's top...  2018-09-18T20:05:59Z   \n",
       "1  The U.S. Environmental Protection Agency (EPA)...  2018-09-20T17:23:06Z   \n",
       "2  The head of the U.S. Federal Emergency Managem...  2018-09-13T12:00:33Z   \n",
       "3  The U.S. Environmental Protection Agency (EPA)...  2018-09-20T15:48:43Z   \n",
       "4  The U.S. Environmental Protection Agency (EPA)...  2018-09-20T18:34:38Z   \n",
       "\n",
       "                                 source  \\\n",
       "0  {'id': 'reuters', 'name': 'Reuters'}   \n",
       "1  {'id': 'reuters', 'name': 'Reuters'}   \n",
       "2  {'id': 'reuters', 'name': 'Reuters'}   \n",
       "3  {'id': 'reuters', 'name': 'Reuters'}   \n",
       "4  {'id': 'reuters', 'name': 'Reuters'}   \n",
       "\n",
       "                                               title  \\\n",
       "0  Environmental agency's top watchdog retiring a...   \n",
       "1  New U.S. data shows EPA expanded biofuel waive...   \n",
       "2  FEMA chief under scrutiny over government car ...   \n",
       "3  EPA may release new data on small refinery bio...   \n",
       "4  UPDATE 2-EPA details broad expansion of biofue...   \n",
       "\n",
       "                                                 url  \\\n",
       "0  https://www.reuters.com/article/us-usa-epa-ins...   \n",
       "1  https://www.reuters.com/article/us-usa-epa-bio...   \n",
       "2  https://www.reuters.com/article/us-storm-flore...   \n",
       "3  https://www.reuters.com/article/us-usa-epa-bio...   \n",
       "4  https://www.reuters.com/article/us-usa-epa-bio...   \n",
       "\n",
       "                                          urlToImage  \n",
       "0  https://s4.reutersmedia.net/resources/r/?m=02&...  \n",
       "1  https://s4.reutersmedia.net/resources/r/?m=02&...  \n",
       "2  https://s4.reutersmedia.net/resources/r/?m=02&...  \n",
       "3  https://s1.reutersmedia.net/resources/r/?m=02&...  \n",
       "4  https://s4.reutersmedia.net/resources/r/?m=02&...  "
      ]
     },
     "execution_count": 19,
     "metadata": {},
     "output_type": "execute_result"
    }
   ],
   "source": [
    "pd.DataFrame(json_resp['articles']).head()"
   ]
  },
  {
   "cell_type": "markdown",
   "metadata": {},
   "source": [
    "Sources.."
   ]
  },
  {
   "cell_type": "code",
   "execution_count": 20,
   "metadata": {},
   "outputs": [
    {
     "name": "stdout",
     "output_type": "stream",
     "text": [
      "in both\n"
     ]
    },
    {
     "data": {
      "text/plain": [
       "{'associated-press',\n",
       " 'breitbart-news',\n",
       " 'business-insider',\n",
       " 'buzzfeed',\n",
       " 'cnn',\n",
       " 'fox-news',\n",
       " 'msnbc',\n",
       " 'national-review',\n",
       " 'politico',\n",
       " 'reuters',\n",
       " 'the-american-conservative',\n",
       " 'the-guardian-uk',\n",
       " 'the-hill',\n",
       " 'the-huffington-post',\n",
       " 'the-new-york-times',\n",
       " 'the-wall-street-journal',\n",
       " 'the-washington-post'}"
      ]
     },
     "execution_count": 20,
     "metadata": {},
     "output_type": "execute_result"
    }
   ],
   "source": [
    "def intersection(lst1, lst2): \n",
    "    return set(lst1).intersection(lst2) \n",
    "\n",
    "print('in both')\n",
    "intersection(true_sources,my_sources)"
   ]
  },
  {
   "cell_type": "code",
   "execution_count": 21,
   "metadata": {},
   "outputs": [
    {
     "name": "stdout",
     "output_type": "stream",
     "text": [
      "only in my sources\n"
     ]
    },
    {
     "data": {
      "text/plain": [
       "{'daily-kos',\n",
       " 'examiner',\n",
       " 'new-york-post',\n",
       " 'npr',\n",
       " 'occupy-democrats',\n",
       " 'talking-points-memo',\n",
       " 'the-atlantic',\n",
       " 'the-weekly-standard',\n",
       " 'vox',\n",
       " 'washington-examiner'}"
      ]
     },
     "execution_count": 21,
     "metadata": {},
     "output_type": "execute_result"
    }
   ],
   "source": [
    "print('only in my sources')\n",
    "set(my_sources) - set(true_sources)"
   ]
  },
  {
   "cell_type": "markdown",
   "metadata": {
    "collapsed": true
   },
   "source": [
    "## Now test against the new NewsApi class"
   ]
  },
  {
   "cell_type": "code",
   "execution_count": 22,
   "metadata": {
    "collapsed": true
   },
   "outputs": [],
   "source": [
    "from news_api import NewsAPI"
   ]
  },
  {
   "cell_type": "code",
   "execution_count": 23,
   "metadata": {
    "collapsed": true
   },
   "outputs": [],
   "source": [
    "news_api = NewsAPI(similarity_model.model)\n",
    "doc_topics = similarity_model.model.get_document_topics(bow, minimum_probability=0.05)"
   ]
  },
  {
   "cell_type": "code",
   "execution_count": 24,
   "metadata": {},
   "outputs": [
    {
     "name": "stdout",
     "output_type": "stream",
     "text": [
      "epa pruitt agency document\n",
      "epa pruitt agency\n",
      "17 {'q': 'epa pruitt', 'sources': 'the-guardian-uk,politico,the-washington-post,the-new-york-times,cnn,business-insider', 'language': 'en', 'apiKey': '2a1a1f11c4a64049a9f7ba286a976d07'}\n"
     ]
    }
   ],
   "source": [
    "rdf = news_api.query(doc_topics, [resolve_source_id(s) for s in bias_sources_map['center-left']], parsed_doc)"
   ]
  },
  {
   "cell_type": "code",
   "execution_count": 25,
   "metadata": {
    "collapsed": true
   },
   "outputs": [],
   "source": [
    "import spacy\n",
    "nlp = spacy.load('en')"
   ]
  },
  {
   "cell_type": "code",
   "execution_count": 26,
   "metadata": {},
   "outputs": [
    {
     "name": "stdout",
     "output_type": "stream",
     "text": [
      "mr NOUN NN ROOT\n",
      ". PUNCT . punct\n",
      "agency NOUN NN compound\n",
      "pruitt NOUN NNS compound\n",
      "agency NOUN NN compound\n",
      "public ADJ JJ ROOT\n"
     ]
    }
   ],
   "source": [
    "n = nlp('mr. agency pruitt agency public')\n",
    "\n",
    "for token in n:\n",
    "    print(token.text, token.pos_, token.tag_, token.dep_)"
   ]
  },
  {
   "cell_type": "code",
   "execution_count": 27,
   "metadata": {},
   "outputs": [
    {
     "data": {
      "text/plain": [
       "['Scott Pruitt wasted millions at EPA on security detail, report says',\n",
       " \"EPA lacked justification, authority for Pruitt's 24/7 security detail, watchdog finds - Washington Post\",\n",
       " 'Pruitt faced mounting financial pressures as EPA chief, new documents show - Washington Post',\n",
       " 'With a shrinking EPA, Trump delivers on his promise to cut government - Washington Post',\n",
       " \"Watchdog: EPA hasn't justified Pruitt's security spending\"]"
      ]
     },
     "execution_count": 27,
     "metadata": {},
     "output_type": "execute_result"
    }
   ],
   "source": [
    "[t for t in rdf.title.head()]"
   ]
  },
  {
   "cell_type": "code",
   "execution_count": 33,
   "metadata": {},
   "outputs": [
    {
     "data": {
      "text/plain": [
       "[('mr.', 0.058592934),\n",
       " ('agency', 0.017974241),\n",
       " ('epa', 0.01371365),\n",
       " ('money', 0.0065978765),\n",
       " ('pay', 0.0064430768),\n",
       " ('environmental', 0.005629838),\n",
       " ('document', 0.005258665),\n",
       " ('pruitt', 0.0045642415),\n",
       " ('office', 0.0044843247),\n",
       " ('environmental_protection_agency', 0.0032364102),\n",
       " ('government', 0.0032189593),\n",
       " ('environment', 0.002932119),\n",
       " ('ethic', 0.0028342165),\n",
       " ('information', 0.0027448914),\n",
       " ('conflict', 0.0026529545),\n",
       " ('report', 0.0024480843),\n",
       " ('million', 0.0018707514),\n",
       " ('agency', 0.0015428308),\n",
       " ('spend', 0.0015169741),\n",
       " ('investigation', 0.0014671239),\n",
       " ('transparency', 0.0012183699),\n",
       " ('public', 0.0012086871),\n",
       " ('fund', 0.0011497206),\n",
       " ('dollar', 0.0010978124),\n",
       " ('government', 0.0010851874),\n",
       " ('trump', 0.00082963251),\n",
       " ('president', 0.00039815492),\n",
       " ('node', 0.00033913099),\n",
       " ('attack', 0.00032352866),\n",
       " ('want', 0.00022593714)]"
      ]
     },
     "execution_count": 33,
     "metadata": {},
     "output_type": "execute_result"
    }
   ],
   "source": [
    "top_topic_words = news_api._topic_words_joint(doc_topics)\n",
    "# top_topic_words = news_api._topic_words_top(doc_topics)\n",
    "news_api._topic_words_joint(doc_topics, include_prob=True)"
   ]
  },
  {
   "cell_type": "code",
   "execution_count": 29,
   "metadata": {},
   "outputs": [],
   "source": [
    "# list(news_api._filter_query(top_topic_words, parsed_doc))"
   ]
  },
  {
   "cell_type": "code",
   "execution_count": 30,
   "metadata": {},
   "outputs": [],
   "source": [
    "# set(parsed_doc[:50])"
   ]
  },
  {
   "cell_type": "code",
   "execution_count": 31,
   "metadata": {},
   "outputs": [],
   "source": [
    "# [token.lemma_ for token in nlp(title) if not (token.is_punct or token.is_space)]"
   ]
  },
  {
   "cell_type": "code",
   "execution_count": 32,
   "metadata": {},
   "outputs": [
    {
     "data": {
      "text/plain": [
       "[(0.15237069,\n",
       "  [('agency', 0.1179639),\n",
       "   ('epa', 0.090001889),\n",
       "   ('environmental', 0.036948301),\n",
       "   ('pruitt', 0.029954851),\n",
       "   ('environmental_protection_agency', 0.021240372),\n",
       "   ('environment', 0.019243326)]),\n",
       " (0.12138011,\n",
       "  [('document', 0.043323945),\n",
       "   ('government', 0.026519662),\n",
       "   ('information', 0.022614015),\n",
       "   ('report', 0.020168744),\n",
       "   ('agency', 0.012710739),\n",
       "   ('investigation', 0.012087021)]),\n",
       " (0.10647663,\n",
       "  [('mr.', 0.55028915),\n",
       "   ('trump', 0.0077916868),\n",
       "   ('president', 0.0037393644),\n",
       "   ('node', 0.0031850275),\n",
       "   ('attack', 0.0030384946),\n",
       "   ('want', 0.0021219412)]),\n",
       " (0.097545616,\n",
       "  [('money', 0.067638882),\n",
       "   ('pay', 0.066051938),\n",
       "   ('million', 0.019178221),\n",
       "   ('spend', 0.015551433),\n",
       "   ('fund', 0.011786493),\n",
       "   ('dollar', 0.01125435)]),\n",
       " (0.073466696,\n",
       "  [('office', 0.061038882),\n",
       "   ('ethic', 0.03857825),\n",
       "   ('conflict', 0.036110982),\n",
       "   ('transparency', 0.016583975),\n",
       "   ('public', 0.016452176),\n",
       "   ('government', 0.014771148)])]"
      ]
     },
     "execution_count": 32,
     "metadata": {},
     "output_type": "execute_result"
    }
   ],
   "source": [
    "doc_topics = similarity_model.model.get_document_topics(bow, minimum_probability=0.07)\n",
    "sorted([(p, news_api.lda.show_topic(tid, 6)) for tid, p in doc_topics], key=lambda x: -x[0])"
   ]
  },
  {
   "cell_type": "code",
   "execution_count": null,
   "metadata": {
    "collapsed": true
   },
   "outputs": [],
   "source": []
  }
 ],
 "metadata": {
  "hide_input": false,
  "kernelspec": {
   "display_name": "Python 3",
   "language": "python",
   "name": "python3"
  },
  "language_info": {
   "codemirror_mode": {
    "name": "ipython",
    "version": 3
   },
   "file_extension": ".py",
   "mimetype": "text/x-python",
   "name": "python",
   "nbconvert_exporter": "python",
   "pygments_lexer": "ipython3",
   "version": "3.6.5"
  }
 },
 "nbformat": 4,
 "nbformat_minor": 2
}
