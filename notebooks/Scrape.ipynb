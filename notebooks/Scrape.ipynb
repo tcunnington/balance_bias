{
 "cells": [
  {
   "cell_type": "code",
   "execution_count": 60,
   "metadata": {
    "collapsed": true
   },
   "outputs": [],
   "source": [
    "import newspaper\n",
    "from newspaper import Article\n",
    "from newspaper import fulltext # for use with scrapy\n",
    "\n",
    "from bs4 import BeautifulSoup"
   ]
  },
  {
   "cell_type": "code",
   "execution_count": 61,
   "metadata": {
    "collapsed": true
   },
   "outputs": [],
   "source": [
    "import requests\n",
    "import json\n",
    "import math"
   ]
  },
  {
   "cell_type": "markdown",
   "metadata": {},
   "source": [
    "## Get list of URLs for a given source, in a given date range"
   ]
  },
  {
   "cell_type": "code",
   "execution_count": 62,
   "metadata": {
    "collapsed": true
   },
   "outputs": [],
   "source": [
    "base_url = 'https://newsapi.org/'\n",
    "key_params = {\n",
    "    'apiKey': '0db63d897c9844629bc477ab2639e451',\n",
    "}"
   ]
  },
  {
   "cell_type": "markdown",
   "metadata": {},
   "source": [
    "### Top headlines"
   ]
  },
  {
   "cell_type": "code",
   "execution_count": 63,
   "metadata": {},
   "outputs": [
    {
     "name": "stdout",
     "output_type": "stream",
     "text": [
      "{\n",
      "  \"status\": \"ok\",\n",
      "  \"totalResults\": 10,\n",
      "  \"articles\": [\n",
      "    {\n",
      "      \"source\": {\n",
      "        \"id\": \"the-hill\",\n",
      "        \"name\": \"The Hill\"\n",
      "      },\n",
      "      \"author\": \"Mike Lillis and Max Greenwood\",\n",
      "      \"title\": \"Barbara Lee announces bid for Democratic Caucus chair\",\n",
      "      \"description\": \"Rep. Barbara Lee (D-Calif.) on Monday jumped into the race to replace outgoing Rep.\",\n",
      "      \"url\": \"http://thehill.com/homenews/house/398361-barbara-lee-announces-bid-for-democratic-caucus-chair\",\n",
      "      \"urlToImage\": \"http://thehill.com/sites/default/files/blogs/leebarbara_getty.jpg\",\n",
      "      \"publishedAt\": \"2018-07-23T16:02:19Z\"\n",
      "    },\n",
      "    {\n",
      "      \"source\": {\n",
      "        \"id\": \"the-hill\",\n",
      "        \"name\": \"The Hill\"\n",
      "      },\n",
      "      \"author\": \"Emily Birnbaum\",\n",
      "      \"title\": \"Trump: Obama didn't warn about Russia before election because 'it is all a big hoax'\",\n",
      "      \"description\": \"President Trump on Sunday blamed his predecessor for the response to Russian election interference in 2016, which he appeared to call \\\"a big hoax.\\\"\",\n",
      "      \"url\": \"http://thehill.com/business-a-lobbying/398285-trump-obama-didnt-warn-about-russia-before-election-because-its-a-hoax\",\n",
      "      \"urlToImage\": \"http://thehill.com/sites/default/files/blogs/obamaputin.jpg\",\n",
      "      \"publishedAt\": \"2018-07-23T15:00:39Z\"\n",
      "    },\n",
      "    {\n",
      "      \"source\": {\n",
      "        \"id\": \"the-hill\",\n",
      "        \"name\": \"The Hill\"\n",
      "      },\n",
      "      \"author\": \"Justin Wise\",\n",
      "      \"title\": \"Rand Paul to ask Trump to eliminate Brennan's security clearance\",\n",
      "      \"description\": \"Sen. Rand Paul (R-Ky.) said he will meet President Trump on Monday\\u00a0and ask the president to revoke former CIA Director John Brennan's security clearance.\",\n",
      "      \"url\": \"http://thehill.com/policy/international/398339-rand-paul-to-ask-trump-to-eliminate-brennans-security-clearance\",\n",
      "      \"urlToImage\": \"http://thehill.com/sites/default/files/brennanjohn_06142018.jpg\",\n",
      "      \"publishedAt\": \"2018-07-23T14:53:05Z\"\n",
      "    },\n",
      "    {\n",
      "      \"source\": {\n",
      "        \"id\": \"the-hill\",\n",
      "        \"name\": \"The Hill\"\n",
      "      },\n",
      "      \"author\": \"Max Greenwood\",\n",
      "      \"title\": \"Trump hits Russia probe, Amazon in tweet barrage\",\n",
      "      \"description\": \"President Trump launched a barrage of tweets on Monday morning, taking aim at a series of familiar targets ranging from the news media to Amazon to the special counsel investigation into Russian meddling in the 2016 election.\",\n",
      "      \"url\": \"http://thehill.com/homenews/administration/398337-trump-hits-russia-probe-amazon-in-barrage-of-tweets\",\n",
      "      \"urlToImage\": \"http://thehill.com/sites/default/files/trump3_071718getty.jpg\",\n",
      "      \"publishedAt\": \"2018-07-23T14:52:11Z\"\n",
      "    },\n",
      "    {\n",
      "      \"source\": {\n",
      "        \"id\": \"the-hill\",\n",
      "        \"name\": \"The Hill\"\n",
      "      },\n",
      "      \"author\": \"Emily Birnbaum\",\n",
      "      \"title\": \"Sarah Sanders: Mueller probe a \\u2018hoax and a waste of time\\u2019\",\n",
      "      \"description\": \"White House press secretary Sarah Sanders on Monday called special counsel Robert Mueller's ongoing investigation into possible ties between President Trump's campaign and Russia \\\"a hoax and a waste of time.\\\"\",\n",
      "      \"url\": \"http://thehill.com/homenews/administration/398317-sarah-sanders-mueller-probe-is-a-hoax-and-a-waste-of-time\",\n",
      "      \"urlToImage\": \"http://thehill.com/sites/default/files/sanderssarah_getty_061818_0.jpg\",\n",
      "      \"publishedAt\": \"2018-07-23T13:36:20Z\"\n",
      "    },\n",
      "    {\n",
      "      \"source\": {\n",
      "        \"id\": \"the-hill\",\n",
      "        \"name\": \"The Hill\"\n",
      "      },\n",
      "      \"author\": \"Reid Wilson\",\n",
      "      \"title\": \"Dems get set for 2020 starting gun\",\n",
      "      \"description\": \"The dozens of Democrats considering running for president in 2020 are pondering how, and when, to formally declare their candidacies.\",\n",
      "      \"url\": \"http://thehill.com/homenews/campaign/398102-dems-get-set-for-2020-starting-gun\",\n",
      "      \"urlToImage\": \"http://thehill.com/sites/default/files/prezkickoffannouncements_071918hillillustration.jpg\",\n",
      "      \"publishedAt\": \"2018-07-23T10:00:01Z\"\n",
      "    },\n",
      "    {\n",
      "      \"source\": {\n",
      "        \"id\": \"the-hill\",\n",
      "        \"name\": \"The Hill\"\n",
      "      },\n",
      "      \"author\": \"Juan Williams, opinion contributor\",\n",
      "      \"title\": \"Juan Williams: Dems can beat Trump with the white working class\",\n",
      "      \"description\": \"OPINION: Potential candidates, including Joe Biden, could outflank Trump in the battle for blue-collar support.\",\n",
      "      \"url\": \"http://thehill.com/opinion/campaign/398191-juan-williams-dems-can-beat-trump-with-the-white-working-class\",\n",
      "      \"urlToImage\": \"http://thehill.com/sites/default/files/bidenjoe_010318gn2_lead.jpg\",\n",
      "      \"publishedAt\": \"2018-07-23T10:00:01Z\"\n",
      "    },\n",
      "    {\n",
      "      \"source\": {\n",
      "        \"id\": \"the-hill\",\n",
      "        \"name\": \"The Hill\"\n",
      "      },\n",
      "      \"author\": \"Brandon Conradis\",\n",
      "      \"title\": \"Trump warns Iran's Rouhani: Threaten us 'and you will suffer'\",\n",
      "      \"description\": \"President Trump on Sunday night warned that if Iran continued with its threats the country \\\"would suffer consequences the likes of which few throughout history have ever suffered before.\\\"\",\n",
      "      \"url\": \"http://thehill.com/homenews/administration/398298-trump-warns-irans-rouhani-threaten-us-and-you-will-suffer\",\n",
      "      \"urlToImage\": \"http://thehill.com/sites/default/files/trump3_071718getty.jpg\",\n",
      "      \"publishedAt\": \"2018-07-23T03:59:37Z\"\n",
      "    },\n",
      "    {\n",
      "      \"source\": {\n",
      "        \"id\": \"the-hill\",\n",
      "        \"name\": \"The Hill\"\n",
      "      },\n",
      "      \"author\": \"Naomi Jagoda\",\n",
      "      \"title\": \"Putin summit puts spotlight back on Trump's tax returns\",\n",
      "      \"description\": \"President Trump\\u2019s tax returns are back in the spotlight after his private one-on-one meeting with Russian President Vladimir Putin.\",\n",
      "      \"url\": \"http://thehill.com/homenews/administration/398147-putin-summit-puts-spotlight-back-on-trump-tax-returns\",\n",
      "      \"urlToImage\": \"http://thehill.com/sites/default/files/trumpdonald_putinvladimir_071618getty_0.jpg\",\n",
      "      \"publishedAt\": \"2018-07-22T21:57:01Z\"\n",
      "    },\n",
      "    {\n",
      "      \"source\": {\n",
      "        \"id\": \"the-hill\",\n",
      "        \"name\": \"The Hill\"\n",
      "      },\n",
      "      \"author\": \"Lydia Wheeler\",\n",
      "      \"title\": \"Trump ramps up scrutiny of legal immigrants\",\n",
      "      \"description\": \"The Trump administration is stepping up efforts to curb legal immigration, taking a series of actions in recent weeks that could lead to deportation for people already granted citizenship.\",\n",
      "      \"url\": \"http://thehill.com/homenews/administration/398116-trump-ramps-up-scrutiny-of-legal-immigrants\",\n",
      "      \"urlToImage\": \"http://thehill.com/sites/default/files/blogs/citizenship.immigration.services.jpg\",\n",
      "      \"publishedAt\": \"2018-07-22T15:19:24Z\"\n",
      "    }\n",
      "  ]\n",
      "}\n"
     ]
    }
   ],
   "source": [
    "url = ('https://newsapi.org/v2/top-headlines?'\n",
    "#        'country=us&'\n",
    "       'sources=the-hill&'\n",
    "#       'category=general&' # business entertainment general health science sports technology \n",
    "       'apiKey=0db63d897c9844629bc477ab2639e451')\n",
    "response = requests.get(url)\n",
    "\n",
    "print(json.dumps(response.json(), indent=2))"
   ]
  },
  {
   "cell_type": "markdown",
   "metadata": {},
   "source": [
    "### Sources"
   ]
  },
  {
   "cell_type": "code",
   "execution_count": 8,
   "metadata": {
    "collapsed": true
   },
   "outputs": [],
   "source": [
    "import itertools as itr\n",
    "\n",
    "# all_the_news sources\n",
    "# existing_sources = {\n",
    "#     'left':          ['The Atlantic','Buzzfeed','Vox',],\n",
    "#     'center_left':   ['The Guardian','Washington Post','New York Times','CNN',],\n",
    "#     'center':        ['NPR','Reuters'],\n",
    "#     'center_right':  ['Wall Street Journal','The Hill'],\n",
    "#     'right':         ['National Review','New York Post',],\n",
    "#     'hyper_right':   ['Fox News','Breitbart'],\n",
    "# }\n",
    "\n",
    "sources = {\n",
    "#     'hyper_left':    ['Occupy Democrats','Daily Kos'],\n",
    "    'left':          ['MSNBC','Buzzfeed'], #['The Atlantic','Vox'],\n",
    "    'center_left':   ['Politico','The Washington Post','The New York Times','CNN',],\n",
    "    'center':        ['Reuters','Associated Press'], # ['NPR']\n",
    "    'center_right':  ['The Wall Street Journal','The Hill'],\n",
    "    'right':         ['National Review'], #['New York Post','The Weekly Standard','Examiner'],\n",
    "    'hyper_right':   ['Fox News','Breitbart News','The American Conservative'],\n",
    "}\n",
    "\n",
    "sources_list = list(itr.chain(*sources.values()))\n",
    "# NPR isn't that important - have plenty of centrist docs\n",
    "# MUST look into 'The Atlantic','Vox','New York Post','The Weekly Standard','Examiner','Occupy Democrats','Daily Kos'\n",
    "# or find replacements\n",
    "# get centrist stuff started first"
   ]
  },
  {
   "cell_type": "code",
   "execution_count": 39,
   "metadata": {},
   "outputs": [
    {
     "name": "stdout",
     "output_type": "stream",
     "text": [
      "200\n",
      "[('abc-news', 'ABC News'), ('al-jazeera-english', 'Al Jazeera English'), ('ars-technica', 'Ars Technica'), ('associated-press', 'Associated Press'), ('axios', 'Axios'), ('bleacher-report', 'Bleacher Report'), ('bloomberg', 'Bloomberg'), ('breitbart-news', 'Breitbart News'), ('business-insider', 'Business Insider'), ('buzzfeed', 'Buzzfeed'), ('cbs-news', 'CBS News'), ('cnbc', 'CNBC'), ('cnn', 'CNN'), ('crypto-coins-news', 'Crypto Coins News'), ('engadget', 'Engadget'), ('entertainment-weekly', 'Entertainment Weekly'), ('espn', 'ESPN'), ('espn-cric-info', 'ESPN Cric Info'), ('fortune', 'Fortune'), ('fox-news', 'Fox News'), ('fox-sports', 'Fox Sports'), ('google-news', 'Google News'), ('hacker-news', 'Hacker News'), ('ign', 'IGN'), ('mashable', 'Mashable'), ('medical-news-today', 'Medical News Today'), ('msnbc', 'MSNBC'), ('mtv-news', 'MTV News'), ('national-geographic', 'National Geographic'), ('national-review', 'National Review'), ('nbc-news', 'NBC News'), ('new-scientist', 'New Scientist'), ('newsweek', 'Newsweek'), ('new-york-magazine', 'New York Magazine'), ('next-big-future', 'Next Big Future'), ('nfl-news', 'NFL News'), ('nhl-news', 'NHL News'), ('politico', 'Politico'), ('polygon', 'Polygon'), ('recode', 'Recode'), ('reddit-r-all', 'Reddit /r/all'), ('reuters', 'Reuters'), ('techcrunch', 'TechCrunch'), ('techradar', 'TechRadar'), ('the-american-conservative', 'The American Conservative'), ('the-hill', 'The Hill'), ('the-huffington-post', 'The Huffington Post'), ('the-new-york-times', 'The New York Times'), ('the-next-web', 'The Next Web'), ('the-verge', 'The Verge'), ('the-wall-street-journal', 'The Wall Street Journal'), ('the-washington-post', 'The Washington Post'), ('the-washington-times', 'The Washington Times'), ('time', 'Time'), ('usa-today', 'USA Today'), ('vice-news', 'Vice News'), ('wired', 'Wired')]\n"
     ]
    }
   ],
   "source": [
    "endpoint = '/v2/sources'\n",
    "url = base_url + endpoint\n",
    "\n",
    "params = {\n",
    "    'country':'us',\n",
    "    'language':'en',\n",
    "#     'category': 'general',\n",
    "}\n",
    "\n",
    "response = requests.get(url, {**params, **key_params})\n",
    "\n",
    "print(response.status_code)\n",
    "# print(json.dumps(response.json(), indent=2))\n",
    "print([(s['id'],s['name']) for s in response.json()['sources']])\n",
    "\n",
    "\n",
    "# print([(s['id'],s['name']) for s in response.json()['sources']] if s['name'] in sources)"
   ]
  },
  {
   "cell_type": "code",
   "execution_count": 10,
   "metadata": {},
   "outputs": [
    {
     "name": "stdout",
     "output_type": "stream",
     "text": [
      "14\n",
      "0 {'id': 'associated-press', 'name': 'Associated Press', 'description': 'The AP delivers in-depth coverage on the international, politics, lifestyle, business, and entertainment news.', 'url': 'https://apnews.com/', 'category': 'general', 'language': 'en', 'country': 'us'}\n",
      "1 {'id': 'breitbart-news', 'name': 'Breitbart News', 'description': 'Syndicated news and opinion website providing continuously updated headlines to top news and analysis sources.', 'url': 'http://www.breitbart.com', 'category': 'general', 'language': 'en', 'country': 'us'}\n",
      "2 {'id': 'buzzfeed', 'name': 'Buzzfeed', 'description': 'BuzzFeed is a cross-platform, global network for news and entertainment that generates seven billion views each month.', 'url': 'https://www.buzzfeed.com', 'category': 'entertainment', 'language': 'en', 'country': 'us'}\n",
      "3 {'id': 'cnn', 'name': 'CNN', 'description': 'View the latest news and breaking news today for U.S., world, weather, entertainment, politics and health at CNN', 'url': 'http://us.cnn.com', 'category': 'general', 'language': 'en', 'country': 'us'}\n",
      "4 {'id': 'fox-news', 'name': 'Fox News', 'description': 'Breaking News, Latest News and Current News from FOXNews.com. Breaking news and video. Latest Current News: U.S., World, Entertainment, Health, Business, Technology, Politics, Sports.', 'url': 'http://www.foxnews.com', 'category': 'general', 'language': 'en', 'country': 'us'}\n",
      "5 {'id': 'msnbc', 'name': 'MSNBC', 'description': 'Breaking news and in-depth analysis of the headlines, as well as commentary and informed perspectives from The Rachel Maddow Show, Morning Joe & more.', 'url': 'http://www.msnbc.com', 'category': 'general', 'language': 'en', 'country': 'us'}\n",
      "6 {'id': 'national-review', 'name': 'National Review', 'description': 'National Review: Conservative News, Opinion, Politics, Policy, & Current Events.', 'url': 'https://www.nationalreview.com/', 'category': 'general', 'language': 'en', 'country': 'us'}\n",
      "7 {'id': 'politico', 'name': 'Politico', 'description': 'Political news about Congress, the White House, campaigns, lobbyists and issues.', 'url': 'https://www.politico.com', 'category': 'general', 'language': 'en', 'country': 'us'}\n",
      "8 {'id': 'reuters', 'name': 'Reuters', 'description': 'Reuters.com brings you the latest news from around the world, covering breaking news in business, politics, entertainment, technology, video and pictures.', 'url': 'http://www.reuters.com', 'category': 'general', 'language': 'en', 'country': 'us'}\n",
      "9 {'id': 'the-american-conservative', 'name': 'The American Conservative', 'description': 'Realism and reform. A new voice for a new generation of conservatives.', 'url': 'http://www.theamericanconservative.com/', 'category': 'general', 'language': 'en', 'country': 'us'}\n",
      "10 {'id': 'the-hill', 'name': 'The Hill', 'description': 'The Hill is a top US political website, read by the White House and more lawmakers than any other site -- vital for policy, politics and election campaigns.', 'url': 'http://thehill.com', 'category': 'general', 'language': 'en', 'country': 'us'}\n",
      "11 {'id': 'the-new-york-times', 'name': 'The New York Times', 'description': 'The New York Times: Find breaking news, multimedia, reviews & opinion on Washington, business, sports, movies, travel, books, jobs, education, real estate, cars & more at nytimes.com.', 'url': 'http://www.nytimes.com', 'category': 'general', 'language': 'en', 'country': 'us'}\n",
      "12 {'id': 'the-wall-street-journal', 'name': 'The Wall Street Journal', 'description': 'WSJ online coverage of breaking news and current headlines from the US and around the world. Top stories, photos, videos, detailed analysis and in-depth reporting.', 'url': 'http://www.wsj.com', 'category': 'business', 'language': 'en', 'country': 'us'}\n",
      "13 {'id': 'the-washington-post', 'name': 'The Washington Post', 'description': 'Breaking news and analysis on politics, business, world national news, entertainment more. In-depth DC, Virginia, Maryland news coverage including traffic, weather, crime, education, restaurant reviews and more.', 'url': 'https://www.washingtonpost.com', 'category': 'general', 'language': 'en', 'country': 'us'}\n"
     ]
    }
   ],
   "source": [
    "print(len(sources_list))\n",
    "my_sources = [s for s in response.json()['sources'] if s['name'] in sources_list]\n",
    "\n",
    "for i,s in enumerate(my_sources):\n",
    "    print(i,s)"
   ]
  },
  {
   "cell_type": "markdown",
   "metadata": {},
   "source": [
    "### Everything endpoint"
   ]
  },
  {
   "cell_type": "code",
   "execution_count": 1,
   "metadata": {
    "collapsed": true
   },
   "outputs": [],
   "source": [
    "import requests\n",
    "import json\n",
    "import time\n",
    "import math\n",
    "import itertools as itr\n",
    "from ediblepickle import checkpoint\n",
    "\n",
    "import pandas as pd"
   ]
  },
  {
   "cell_type": "code",
   "execution_count": 56,
   "metadata": {
    "collapsed": true
   },
   "outputs": [],
   "source": [
    "base_url = 'https://newsapi.org/'\n",
    "key_params = {\n",
    "    'apiKey': '0db63d897c9844629bc477ab2639e451',\n",
    "}\n",
    "\n",
    "endpoint = 'v2/everything'\n",
    "url = base_url + endpoint\n",
    "\n",
    "def get_article_data(source, date_range):\n",
    "    date_params = {\n",
    "        'from': date_range[0], \n",
    "        'to': date_range[1], \n",
    "    }\n",
    "\n",
    "    page_size = 100\n",
    "    page = 1\n",
    "    max_page = (10000 / page_size)\n",
    "    n_pages = None\n",
    "\n",
    "    articles = []\n",
    "\n",
    "    while n_pages is None or page < n_pages + 1:\n",
    "        other_params = {\n",
    "            'sources': source['id'],\n",
    "            'language': 'en',\n",
    "            'pageSize': page_size,\n",
    "            'page': page,\n",
    "        }\n",
    "\n",
    "        print('Page: ', page)\n",
    "        params = {**date_params, **other_params, **key_params}\n",
    "\n",
    "        response = requests.get(url, params)\n",
    "#         print(response.url)\n",
    "        json_resp = response.json()\n",
    "        \n",
    "        if json_resp['status'] == 'ok':\n",
    "\n",
    "            if n_pages is None:\n",
    "                total_results = json_resp['totalResults']\n",
    "                print(total_results)\n",
    "                n_pages = math.ceil(total_results / page_size)\n",
    "                print(n_pages)\n",
    "\n",
    "                if max_page < n_pages:\n",
    "                    print('Unable to retrieve all articles from {source} in range ({from}-{to}). Getting first 10k.'\n",
    "                          .format(source=source, **date_params))\n",
    "\n",
    "        page += 1\n",
    "\n",
    "        articles.extend(json_resp['articles'])\n",
    "\n",
    "    return articles\n",
    "\n",
    "\n",
    "def preload_urls(source, date_range):\n",
    "    time.sleep(0.01)  # TODO neeeedeD?\n",
    "    articles = get_article_data(source, date_range)\n",
    "    pd.DataFrame(articles).to_csv('articles.csv', index=False)"
   ]
  },
  {
   "cell_type": "code",
   "execution_count": 57,
   "metadata": {},
   "outputs": [
    {
     "name": "stdout",
     "output_type": "stream",
     "text": [
      "Page:  1\n",
      "4484\n",
      "45\n",
      "Page:  2\n",
      "Page:  3\n",
      "Page:  4\n",
      "Page:  5\n",
      "Page:  6\n",
      "Page:  7\n",
      "Page:  8\n",
      "Page:  9\n",
      "Page:  10\n",
      "Page:  11\n",
      "Page:  12\n",
      "Page:  13\n",
      "Page:  14\n",
      "Page:  15\n",
      "Page:  16\n",
      "Page:  17\n",
      "Page:  18\n",
      "Page:  19\n",
      "Page:  20\n",
      "Page:  21\n",
      "Page:  22\n",
      "Page:  23\n",
      "Page:  24\n",
      "Page:  25\n",
      "Page:  26\n",
      "Page:  27\n",
      "Page:  28\n",
      "Page:  29\n",
      "Page:  30\n",
      "Page:  31\n",
      "Page:  32\n",
      "Page:  33\n",
      "Page:  34\n",
      "Page:  35\n",
      "Page:  36\n",
      "Page:  37\n",
      "Page:  38\n",
      "Page:  39\n",
      "Page:  40\n",
      "Page:  41\n",
      "Page:  42\n",
      "Page:  43\n",
      "Page:  44\n",
      "Page:  45\n"
     ]
    }
   ],
   "source": [
    "preload_urls(my_sources[2], ('2018-06-01','2018-07-18'))"
   ]
  },
  {
   "cell_type": "code",
   "execution_count": 58,
   "metadata": {
    "collapsed": true
   },
   "outputs": [],
   "source": [
    "articles_df = pd.read_csv('articles.csv')"
   ]
  },
  {
   "cell_type": "code",
   "execution_count": 42,
   "metadata": {},
   "outputs": [
    {
     "name": "stdout",
     "output_type": "stream",
     "text": [
      "{'status': 'ok', 'sources': [{'id': 'abc-news', 'name': 'ABC News', 'description': 'Your trusted source for breaking news, analysis, exclusive interviews, headlines, and videos at ABCNews.com.', 'url': 'http://abcnews.go.com', 'category': 'general', 'language': 'en', 'country': 'us'}, {'id': 'al-jazeera-english', 'name': 'Al Jazeera English', 'description': 'News, analysis from the Middle East and worldwide, multimedia and interactives, opinions, documentaries, podcasts, long reads and broadcast schedule.', 'url': 'http://www.aljazeera.com', 'category': 'general', 'language': 'en', 'country': 'us'}, {'id': 'ars-technica', 'name': 'Ars Technica', 'description': \"The PC enthusiast's resource. Power users and the tools they love, without computing religion.\", 'url': 'http://arstechnica.com', 'category': 'technology', 'language': 'en', 'country': 'us'}, {'id': 'associated-press', 'name': 'Associated Press', 'description': 'The AP delivers in-depth coverage on the international, politics, lifestyle, business, and entertainment news.', 'url': 'https://apnews.com/', 'category': 'general', 'language': 'en', 'country': 'us'}, {'id': 'axios', 'name': 'Axios', 'description': 'Axios are a new media company delivering vital, trustworthy news and analysis in the most efficient, illuminating and shareable ways possible.', 'url': 'https://www.axios.com', 'category': 'general', 'language': 'en', 'country': 'us'}, {'id': 'bleacher-report', 'name': 'Bleacher Report', 'description': 'Sports journalists and bloggers covering NFL, MLB, NBA, NHL, MMA, college football and basketball, NASCAR, fantasy sports and more. News, photos, mock drafts, game scores, player profiles and more!', 'url': 'http://www.bleacherreport.com', 'category': 'sports', 'language': 'en', 'country': 'us'}, {'id': 'bloomberg', 'name': 'Bloomberg', 'description': 'Bloomberg delivers business and markets news, data, analysis, and video to the world, featuring stories from Businessweek and Bloomberg News.', 'url': 'http://www.bloomberg.com', 'category': 'business', 'language': 'en', 'country': 'us'}, {'id': 'breitbart-news', 'name': 'Breitbart News', 'description': 'Syndicated news and opinion website providing continuously updated headlines to top news and analysis sources.', 'url': 'http://www.breitbart.com', 'category': 'general', 'language': 'en', 'country': 'us'}, {'id': 'business-insider', 'name': 'Business Insider', 'description': 'Business Insider is a fast-growing business site with deep financial, media, tech, and other industry verticals. Launched in 2007, the site is now the largest business news site on the web.', 'url': 'http://www.businessinsider.com', 'category': 'business', 'language': 'en', 'country': 'us'}, {'id': 'buzzfeed', 'name': 'Buzzfeed', 'description': 'BuzzFeed is a cross-platform, global network for news and entertainment that generates seven billion views each month.', 'url': 'https://www.buzzfeed.com', 'category': 'entertainment', 'language': 'en', 'country': 'us'}, {'id': 'cbs-news', 'name': 'CBS News', 'description': 'CBS News: dedicated to providing the best in journalism under standards it pioneered at the dawn of radio and television and continue in the digital age.', 'url': 'http://www.cbsnews.com', 'category': 'general', 'language': 'en', 'country': 'us'}, {'id': 'cnbc', 'name': 'CNBC', 'description': 'Get latest business news on stock markets, financial & earnings on CNBC. View world markets streaming charts & video; check stock tickers and quotes.', 'url': 'http://www.cnbc.com', 'category': 'business', 'language': 'en', 'country': 'us'}, {'id': 'cnn', 'name': 'CNN', 'description': 'View the latest news and breaking news today for U.S., world, weather, entertainment, politics and health at CNN', 'url': 'http://us.cnn.com', 'category': 'general', 'language': 'en', 'country': 'us'}, {'id': 'crypto-coins-news', 'name': 'Crypto Coins News', 'description': 'Providing breaking cryptocurrency news - focusing on Bitcoin, Ethereum, ICOs, blockchain technology, and smart contracts.', 'url': 'https://www.ccn.com', 'category': 'technology', 'language': 'en', 'country': 'us'}, {'id': 'engadget', 'name': 'Engadget', 'description': 'Engadget is a web magazine with obsessive daily coverage of everything new in gadgets and consumer electronics.', 'url': 'https://www.engadget.com', 'category': 'technology', 'language': 'en', 'country': 'us'}, {'id': 'entertainment-weekly', 'name': 'Entertainment Weekly', 'description': 'Online version of the print magazine includes entertainment news, interviews, reviews of music, film, TV and books, and a special area for magazine subscribers.', 'url': 'http://www.ew.com', 'category': 'entertainment', 'language': 'en', 'country': 'us'}, {'id': 'espn', 'name': 'ESPN', 'description': 'ESPN has up-to-the-minute sports news coverage, scores, highlights and commentary for NFL, MLB, NBA, College Football, NCAA Basketball and more.', 'url': 'http://espn.go.com', 'category': 'sports', 'language': 'en', 'country': 'us'}, {'id': 'espn-cric-info', 'name': 'ESPN Cric Info', 'description': 'ESPN Cricinfo provides the most comprehensive cricket coverage available including live ball-by-ball commentary, news, unparalleled statistics, quality editorial comment and analysis.', 'url': 'http://www.espncricinfo.com/', 'category': 'sports', 'language': 'en', 'country': 'us'}, {'id': 'fortune', 'name': 'Fortune', 'description': 'Fortune 500 Daily and Breaking Business News', 'url': 'http://fortune.com', 'category': 'business', 'language': 'en', 'country': 'us'}, {'id': 'fox-news', 'name': 'Fox News', 'description': 'Breaking News, Latest News and Current News from FOXNews.com. Breaking news and video. Latest Current News: U.S., World, Entertainment, Health, Business, Technology, Politics, Sports.', 'url': 'http://www.foxnews.com', 'category': 'general', 'language': 'en', 'country': 'us'}, {'id': 'fox-sports', 'name': 'Fox Sports', 'description': 'Find live scores, player and team news, videos, rumors, stats, standings, schedules and fantasy games on FOX Sports.', 'url': 'http://www.foxsports.com', 'category': 'sports', 'language': 'en', 'country': 'us'}, {'id': 'google-news', 'name': 'Google News', 'description': 'Comprehensive, up-to-date news coverage, aggregated from sources all over the world by Google News.', 'url': 'https://news.google.com', 'category': 'general', 'language': 'en', 'country': 'us'}, {'id': 'hacker-news', 'name': 'Hacker News', 'description': 'Hacker News is a social news website focusing on computer science and entrepreneurship. It is run by Paul Graham\\'s investment fund and startup incubator, Y Combinator. In general, content that can be submitted is defined as \"anything that gratifies one\\'s intellectual curiosity\".', 'url': 'https://news.ycombinator.com', 'category': 'technology', 'language': 'en', 'country': 'us'}, {'id': 'ign', 'name': 'IGN', 'description': 'IGN is your site for Xbox One, PS4, PC, Wii-U, Xbox 360, PS3, Wii, 3DS, PS Vita and iPhone games with expert reviews, news, previews, trailers, cheat codes, wiki guides and walkthroughs.', 'url': 'http://www.ign.com', 'category': 'entertainment', 'language': 'en', 'country': 'us'}, {'id': 'mashable', 'name': 'Mashable', 'description': 'Mashable is a global, multi-platform media and entertainment company.', 'url': 'http://mashable.com', 'category': 'entertainment', 'language': 'en', 'country': 'us'}, {'id': 'medical-news-today', 'name': 'Medical News Today', 'description': 'Medical news and health news headlines posted throughout the day, every day.', 'url': 'http://www.medicalnewstoday.com', 'category': 'health', 'language': 'en', 'country': 'us'}, {'id': 'msnbc', 'name': 'MSNBC', 'description': 'Breaking news and in-depth analysis of the headlines, as well as commentary and informed perspectives from The Rachel Maddow Show, Morning Joe & more.', 'url': 'http://www.msnbc.com', 'category': 'general', 'language': 'en', 'country': 'us'}, {'id': 'mtv-news', 'name': 'MTV News', 'description': \"The ultimate news source for music, celebrity, entertainment, movies, and current events on the web. It's pop culture on steroids.\", 'url': 'http://www.mtv.com/news', 'category': 'entertainment', 'language': 'en', 'country': 'us'}, {'id': 'national-geographic', 'name': 'National Geographic', 'description': 'Reporting our world daily: original nature and science news from National Geographic.', 'url': 'http://news.nationalgeographic.com', 'category': 'science', 'language': 'en', 'country': 'us'}, {'id': 'national-review', 'name': 'National Review', 'description': 'National Review: Conservative News, Opinion, Politics, Policy, & Current Events.', 'url': 'https://www.nationalreview.com/', 'category': 'general', 'language': 'en', 'country': 'us'}, {'id': 'nbc-news', 'name': 'NBC News', 'description': 'Breaking news, videos, and the latest top stories in world news, business, politics, health and pop culture.', 'url': 'http://www.nbcnews.com', 'category': 'general', 'language': 'en', 'country': 'us'}, {'id': 'new-scientist', 'name': 'New Scientist', 'description': 'Breaking science and technology news from around the world. Exclusive stories and expert analysis on space, technology, health, physics, life and Earth.', 'url': 'https://www.newscientist.com/section/news', 'category': 'science', 'language': 'en', 'country': 'us'}, {'id': 'newsweek', 'name': 'Newsweek', 'description': 'Newsweek provides in-depth analysis, news and opinion about international issues, technology, business, culture and politics.', 'url': 'http://www.newsweek.com', 'category': 'general', 'language': 'en', 'country': 'us'}, {'id': 'new-york-magazine', 'name': 'New York Magazine', 'description': 'NYMAG and New York magazine cover the new, the undiscovered, the next in politics, culture, food, fashion, and behavior nationally, through a New York lens.', 'url': 'http://nymag.com', 'category': 'general', 'language': 'en', 'country': 'us'}, {'id': 'next-big-future', 'name': 'Next Big Future', 'descri"
     ]
    },
    {
     "data": {
      "text/html": [
       "<b>limit_output extension: Maximum message size of 10000 exceeded with 16911 characters</b>"
      ]
     },
     "metadata": {},
     "output_type": "display_data"
    }
   ],
   "source": [
    "response = requests.get(url, {'from': '2017-06-01',\n",
    "                              'to': '2017-07-18', \n",
    "                              'sources': 'fox-news', \n",
    "                              'language': 'en', \n",
    "                              'pageSize': 10, \n",
    "#                               'page': 1, \n",
    "                              'apiKey': '0db63d897c9844629bc477ab2639e451'})\n",
    "# requests.get('https://newsapi.org/v2/everything?q=apple&from=2018-07-18&to=2018-07-18&sortBy=popularity&apiKey=0db63d897c9844629bc477ab2639e451')\n",
    "json_resp = response.json()\n",
    "print(json_resp)"
   ]
  },
  {
   "cell_type": "markdown",
   "metadata": {},
   "source": [
    "## Newspaper scraping library"
   ]
  },
  {
   "cell_type": "markdown",
   "metadata": {},
   "source": [
    "### Find categories"
   ]
  },
  {
   "cell_type": "code",
   "execution_count": 92,
   "metadata": {},
   "outputs": [
    {
     "name": "stdout",
     "output_type": "stream",
     "text": [
      "http://www.cnn.com/election/2018/key-races\n",
      "http://www.cnn.com/2017/03/04/vr/how-to-watch-vr\n",
      "https://www.cnn.com/travel/article/giant-avocado-australia/index.html\n",
      "https://www.cnn.com/travel/article/amsterdam-bridge-hotels/index.html\n",
      "https://www.cnn.com/travel/article/huangguoshu-waterfalls-guizhou-china/index.html\n",
      "https://www.cnn.com/travel/article/worlds-best-ancient-cities/index.html\n",
      "https://www.cnn.com/travel/article/evolve-back-coorg-india/index.html\n",
      "http://www.cnn.com/travel/article/cheesemonger-invitational-brooklyn-new-york/index.html\n",
      "http://www.cnn.com/travel/article/dubai-vertical-farm-emirates-catering/index.html\n",
      "http://www.cnn.com/travel/article/london-restaurants-great-views/index.html\n"
     ]
    }
   ],
   "source": [
    "cnn_paper = newspaper.build('http://www.cnn.com')\n",
    "\n",
    "for article in cnn_paper.articles[:10]:\n",
    "    print(article.url)"
   ]
  },
  {
   "cell_type": "code",
   "execution_count": 88,
   "metadata": {},
   "outputs": [
    {
     "name": "stdout",
     "output_type": "stream",
     "text": [
      "http://cnn.com\n",
      "http://cnn.com/travel\n",
      "http://tours.cnn.com\n",
      "http://cnn.com/accessibility\n",
      "http://money.cnn.com\n",
      "http://cnn.com/election\n",
      "http://cnn.com/politics\n",
      "http://cnn.com/vr\n",
      "http://cnn.com/more\n",
      "http://cnn.com/health\n",
      "http://cnn.com/opinions\n",
      "http://cnn.com/entertainment\n",
      "http://cnn.com/europe\n",
      "http://cnn.com/americas\n",
      "http://cnn.com/asia\n",
      "http://cnn.com/africa\n",
      "http://cnn.com/us\n",
      "http://cnn.com/world\n",
      "http://cnn.com/middle-east\n",
      "http://cnn.it\n",
      "http://cnn.com/videos\n",
      "http://cnn.com/uk\n",
      "http://cnn.com/style\n",
      "http://cnn.com/australia\n",
      "http://collection.cnn.com\n",
      "http://cnn.com/transcripts\n"
     ]
    }
   ],
   "source": [
    "for category in cnn_paper.category_urls():\n",
    "    print(category)"
   ]
  },
  {
   "cell_type": "code",
   "execution_count": 100,
   "metadata": {},
   "outputs": [
    {
     "data": {
      "text/plain": [
       "[]"
      ]
     },
     "execution_count": 100,
     "metadata": {},
     "output_type": "execute_result"
    }
   ],
   "source": [
    "newspaper.build('http://cnn.com/us',language='en').articles"
   ]
  },
  {
   "cell_type": "markdown",
   "metadata": {},
   "source": [
    "### Get text from URL"
   ]
  },
  {
   "cell_type": "code",
   "execution_count": 112,
   "metadata": {
    "collapsed": true
   },
   "outputs": [],
   "source": [
    "# html = requests.get(url).text\n",
    "# text = fulltext(html)\n",
    "# print(text)"
   ]
  },
  {
   "cell_type": "code",
   "execution_count": 115,
   "metadata": {
    "collapsed": true
   },
   "outputs": [],
   "source": [
    "soup = BeautifulSoup(requests.get(url).text, 'lxml')"
   ]
  },
  {
   "cell_type": "code",
   "execution_count": 109,
   "metadata": {
    "collapsed": true
   },
   "outputs": [],
   "source": [
    "url = urls[5]\n",
    "# url = cnn_paper.articles[10].url\n",
    "article = Article(url)\n",
    "article.download()\n",
    "# article.html"
   ]
  },
  {
   "cell_type": "code",
   "execution_count": 110,
   "metadata": {},
   "outputs": [
    {
     "name": "stdout",
     "output_type": "stream",
     "text": [
      "Ruth Ben-Ghiat is a frequent contributor to CNN Opinion, and professor of history and Italian studies at New York University. Follow her on Twitter: @ruthbenghiat. The opinions expressed in this commentary are solely those of the author; view more opinion articles on CNN.\n",
      "\n",
      "Anyone who needs confirmation of the secret of a strongman -- that he's a weak man, in constant need of ego affirmation -- need only look at images of the Helsinki \"summit\" between American President Donald Trump and Russian President Vladimir Putin, which revealed the insecurities of both men underneath the façade of power, and Trump's submissiveness to Putin in particular.\n",
      "\n",
      "Ruth Ben-Ghiat\n",
      "\n",
      "Here is a selection of those images captured by photo journalists. Of course, they don't convey every moment of the meeting, but they are consistent with what we saw on air during their appearances together. There are many other such similar images -- each seemingly more awkward than the last -- in which the subjects tell more of a story than they may have wanted through physical cues.\n",
      "\n",
      "The meeting in Helsinki between two men expert in the art of spectacle intended to intimidate the world, proclaiming that Trump's reorientation of America away from liberal democracy is in line with the intentions of his counterpart Putin.\n",
      "\n",
      "The images tell another story: one that gives credence to the belief that Trump's allegiance to Putin goes way beyond ideology. We still don't know the actual reason the summit was held, nor do we know -- yet - the nature of the hold Putin has over Trump. Yet photographs suggest that this was no meeting of equals but an encounter between a supplicant (Trump) and a master (Putin), starting with Putin arriving late to their public encounter, setting it about 45 minutes back.\n",
      "\n",
      "At the same time, Putin, who is used to absolute control, had some discomfort at having their relationship scrutinized by the world's press. He indicated this with small gestures that told a story when captured by photographers.\n",
      "\n",
      "Read More\n"
     ]
    }
   ],
   "source": [
    "article.parse()\n",
    "print(article.text)"
   ]
  },
  {
   "cell_type": "code",
   "execution_count": 176,
   "metadata": {},
   "outputs": [
    {
     "name": "stdout",
     "output_type": "stream",
     "text": [
      "Trump and Putin: the pictures tell the story\n",
      "['Ruth Ben-Ghiat']\n",
      "2018-07-18 00:00:00\n",
      "https://cdn.cnn.com/cnnnext/dam/assets/180717133121-05-trump-putin-summit-0716-opinion-super-tease.jpg\n",
      "[]\n"
     ]
    }
   ],
   "source": [
    "print(article.title)\n",
    "print(article.authors)\n",
    "print(article.publish_date)\n",
    "print(article.top_image)\n",
    "print(article.movies)"
   ]
  },
  {
   "cell_type": "code",
   "execution_count": 72,
   "metadata": {
    "collapsed": true
   },
   "outputs": [],
   "source": [
    "article.nlp()"
   ]
  },
  {
   "cell_type": "code",
   "execution_count": 73,
   "metadata": {},
   "outputs": [
    {
     "name": "stdout",
     "output_type": "stream",
     "text": [
      "['wage', 'national', 'obamacare', 'leave', 'drones', 'minimum', 'law', 'laws', 'pot', 'guns', 'family', 'states', 'state']\n",
      "× New Year, new laws: Obamacare, pot, guns and dronesBy Leigh Ann CaldwellWASHINGTON (CNN) — Not everyone subscribes to a New Year’s resolution, but Americans will be required to follow new laws in 2014.\n",
      "Oregon: Family leave in Oregon has been expanded to allow eligible employees two weeks of paid leave to handle the death of a family member.\n",
      "Minimum wage and former felon employmentWorkers in 13 states and four cities will see increases to the minimum wage.\n",
      "New Jersey residents voted to raise the state’s minimum wage by $1 to $8.25 per hour.\n",
      "California is also raising its minimum wage to $9 per hour, but workers must wait until July to see the addition.\n"
     ]
    }
   ],
   "source": [
    "print(article.keywords)\n",
    "print(article.summary)"
   ]
  },
  {
   "cell_type": "code",
   "execution_count": 178,
   "metadata": {},
   "outputs": [
    {
     "data": {
      "text/plain": [
       "NoneType"
      ]
     },
     "execution_count": 178,
     "metadata": {},
     "output_type": "execute_result"
    }
   ],
   "source": [
    "type(article.download_exception_msg)"
   ]
  },
  {
   "cell_type": "code",
   "execution_count": null,
   "metadata": {
    "collapsed": true
   },
   "outputs": [],
   "source": [
    "article."
   ]
  }
 ],
 "metadata": {
  "kernelspec": {
   "display_name": "Python 3 (scrape)",
   "language": "python",
   "name": "scrape"
  },
  "language_info": {
   "codemirror_mode": {
    "name": "ipython",
    "version": 3
   },
   "file_extension": ".py",
   "mimetype": "text/x-python",
   "name": "python",
   "nbconvert_exporter": "python",
   "pygments_lexer": "ipython3",
   "version": "3.6.6"
  },
  "varInspector": {
   "cols": {
    "lenName": 16,
    "lenType": 16,
    "lenVar": 40
   },
   "kernels_config": {
    "python": {
     "delete_cmd_postfix": "",
     "delete_cmd_prefix": "del ",
     "library": "var_list.py",
     "varRefreshCmd": "print(var_dic_list())"
    },
    "r": {
     "delete_cmd_postfix": ") ",
     "delete_cmd_prefix": "rm(",
     "library": "var_list.r",
     "varRefreshCmd": "cat(var_dic_list()) "
    }
   },
   "types_to_exclude": [
    "module",
    "function",
    "builtin_function_or_method",
    "instance",
    "_Feature"
   ],
   "window_display": false
  }
 },
 "nbformat": 4,
 "nbformat_minor": 2
}
