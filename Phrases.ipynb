{
 "cells": [
  {
   "cell_type": "code",
   "execution_count": 1,
   "metadata": {
    "collapsed": true
   },
   "outputs": [],
   "source": [
    "import os\n",
    "import spacy\n",
    "import codecs\n",
    "from spacy import tokenizer\n",
    "import pandas as pd\n",
    "from pipeline.utils import *\n",
    "import re"
   ]
  },
  {
   "cell_type": "code",
   "execution_count": 2,
   "metadata": {
    "collapsed": true
   },
   "outputs": [],
   "source": [
    "from gensim.models import Phrases\n",
    "from gensim.models.word2vec import LineSentence"
   ]
  },
  {
   "cell_type": "code",
   "execution_count": 3,
   "metadata": {},
   "outputs": [
    {
     "name": "stdout",
     "output_type": "stream",
     "text": [
      "\n",
      "    \u001b[93mInfo about spaCy\u001b[0m\n",
      "\n",
      "    spaCy version      2.0.11         \n",
      "    Location           /opt/conda/envs/tc3/lib/python3.6/site-packages/spacy\n",
      "    Platform           Linux-3.13.0-149-generic-x86_64-with-debian-jessie-sid\n",
      "    Python version     3.6.5          \n",
      "    Models             en_core_web_lg, en_core_web_md, en_core_web_sm, en\n",
      "\n"
     ]
    }
   ],
   "source": [
    "nlp = spacy.load('en', disable=['ner'])\n",
    "spacy.info()"
   ]
  },
  {
   "cell_type": "code",
   "execution_count": 4,
   "metadata": {
    "collapsed": true
   },
   "outputs": [],
   "source": [
    "# import csv\n",
    "# with codecs.open(os.path.join('data','all_the_news','articles1.csv')) as f:\n",
    "#     spamreader = csv.reader(f, delimiter=',', quotechar='\"')\n",
    "#     for row in spamreader:\n",
    "#         print(', '.join(row))"
   ]
  },
  {
   "cell_type": "code",
   "execution_count": 5,
   "metadata": {},
   "outputs": [
    {
     "data": {
      "text/html": [
       "<div>\n",
       "<style scoped>\n",
       "    .dataframe tbody tr th:only-of-type {\n",
       "        vertical-align: middle;\n",
       "    }\n",
       "\n",
       "    .dataframe tbody tr th {\n",
       "        vertical-align: top;\n",
       "    }\n",
       "\n",
       "    .dataframe thead th {\n",
       "        text-align: right;\n",
       "    }\n",
       "</style>\n",
       "<table border=\"1\" class=\"dataframe\">\n",
       "  <thead>\n",
       "    <tr style=\"text-align: right;\">\n",
       "      <th></th>\n",
       "      <th>Unnamed: 0</th>\n",
       "      <th>id</th>\n",
       "      <th>title</th>\n",
       "      <th>publication</th>\n",
       "      <th>author</th>\n",
       "      <th>date</th>\n",
       "      <th>year</th>\n",
       "      <th>month</th>\n",
       "      <th>url</th>\n",
       "      <th>content</th>\n",
       "    </tr>\n",
       "  </thead>\n",
       "  <tbody>\n",
       "    <tr>\n",
       "      <th>0</th>\n",
       "      <td>0</td>\n",
       "      <td>17283</td>\n",
       "      <td>House Republicans Fret About Winning Their Hea...</td>\n",
       "      <td>New York Times</td>\n",
       "      <td>Carl Hulse</td>\n",
       "      <td>2016-12-31</td>\n",
       "      <td>2016.0</td>\n",
       "      <td>12.0</td>\n",
       "      <td>NaN</td>\n",
       "      <td>WASHINGTON  —   Congressional Republicans have...</td>\n",
       "    </tr>\n",
       "    <tr>\n",
       "      <th>1</th>\n",
       "      <td>1</td>\n",
       "      <td>17284</td>\n",
       "      <td>Rift Between Officers and Residents as Killing...</td>\n",
       "      <td>New York Times</td>\n",
       "      <td>Benjamin Mueller and Al Baker</td>\n",
       "      <td>2017-06-19</td>\n",
       "      <td>2017.0</td>\n",
       "      <td>6.0</td>\n",
       "      <td>NaN</td>\n",
       "      <td>After the bullet shells get counted, the blood...</td>\n",
       "    </tr>\n",
       "    <tr>\n",
       "      <th>2</th>\n",
       "      <td>2</td>\n",
       "      <td>17285</td>\n",
       "      <td>Tyrus Wong, ‘Bambi’ Artist Thwarted by Racial ...</td>\n",
       "      <td>New York Times</td>\n",
       "      <td>Margalit Fox</td>\n",
       "      <td>2017-01-06</td>\n",
       "      <td>2017.0</td>\n",
       "      <td>1.0</td>\n",
       "      <td>NaN</td>\n",
       "      <td>When Walt Disney’s “Bambi” opened in 1942, cri...</td>\n",
       "    </tr>\n",
       "    <tr>\n",
       "      <th>3</th>\n",
       "      <td>3</td>\n",
       "      <td>17286</td>\n",
       "      <td>Among Deaths in 2016, a Heavy Toll in Pop Musi...</td>\n",
       "      <td>New York Times</td>\n",
       "      <td>William McDonald</td>\n",
       "      <td>2017-04-10</td>\n",
       "      <td>2017.0</td>\n",
       "      <td>4.0</td>\n",
       "      <td>NaN</td>\n",
       "      <td>Death may be the great equalizer, but it isn’t...</td>\n",
       "    </tr>\n",
       "    <tr>\n",
       "      <th>4</th>\n",
       "      <td>4</td>\n",
       "      <td>17287</td>\n",
       "      <td>Kim Jong-un Says North Korea Is Preparing to T...</td>\n",
       "      <td>New York Times</td>\n",
       "      <td>Choe Sang-Hun</td>\n",
       "      <td>2017-01-02</td>\n",
       "      <td>2017.0</td>\n",
       "      <td>1.0</td>\n",
       "      <td>NaN</td>\n",
       "      <td>SEOUL, South Korea  —   North Korea’s leader, ...</td>\n",
       "    </tr>\n",
       "  </tbody>\n",
       "</table>\n",
       "</div>"
      ],
      "text/plain": [
       "   Unnamed: 0     id                                              title  \\\n",
       "0           0  17283  House Republicans Fret About Winning Their Hea...   \n",
       "1           1  17284  Rift Between Officers and Residents as Killing...   \n",
       "2           2  17285  Tyrus Wong, ‘Bambi’ Artist Thwarted by Racial ...   \n",
       "3           3  17286  Among Deaths in 2016, a Heavy Toll in Pop Musi...   \n",
       "4           4  17287  Kim Jong-un Says North Korea Is Preparing to T...   \n",
       "\n",
       "      publication                         author        date    year  month  \\\n",
       "0  New York Times                     Carl Hulse  2016-12-31  2016.0   12.0   \n",
       "1  New York Times  Benjamin Mueller and Al Baker  2017-06-19  2017.0    6.0   \n",
       "2  New York Times                   Margalit Fox  2017-01-06  2017.0    1.0   \n",
       "3  New York Times               William McDonald  2017-04-10  2017.0    4.0   \n",
       "4  New York Times                  Choe Sang-Hun  2017-01-02  2017.0    1.0   \n",
       "\n",
       "   url                                            content  \n",
       "0  NaN  WASHINGTON  —   Congressional Republicans have...  \n",
       "1  NaN  After the bullet shells get counted, the blood...  \n",
       "2  NaN  When Walt Disney’s “Bambi” opened in 1942, cri...  \n",
       "3  NaN  Death may be the great equalizer, but it isn’t...  \n",
       "4  NaN  SEOUL, South Korea  —   North Korea’s leader, ...  "
      ]
     },
     "execution_count": 5,
     "metadata": {},
     "output_type": "execute_result"
    }
   ],
   "source": [
    "news = pd.read_csv(os.path.join('pipeline','data','all_the_news','articles1.csv'))\n",
    "news.head()"
   ]
  },
  {
   "cell_type": "code",
   "execution_count": 14,
   "metadata": {
    "collapsed": true
   },
   "outputs": [],
   "source": [
    "# texts = news.head(2)['content']\n",
    "def prep(text):\n",
    "#     text.replace('\\\\n', '\\n')\n",
    "    return re.sub('\\s+', ' ', text)\n",
    "\n",
    "texts = news.head(1000)['content'].map(prep)\n",
    "# for doc in nlp.pipe(texts, batch_size=50):\n",
    "#     print(type(doc), dir(doc))\n",
    "#     break\n",
    "        #     [print(token.text, token.pos_, token.is_alpha, token.is_stop, token.is_space) for token in sent]"
   ]
  },
  {
   "cell_type": "code",
   "execution_count": 20,
   "metadata": {
    "collapsed": true
   },
   "outputs": [],
   "source": [
    "with codecs.open(\"tmp/sample.txt\",\"w+\") as f:\n",
    "    \n",
    "    for doc in nlp.pipe(texts, batch_size=100, n_threads=4):\n",
    "        lines = ''\n",
    "\n",
    "        for sent in doc.sents:\n",
    "            s = ' '.join([token.lemma_ for token in sent if not (token.is_punct or token.is_space)])\n",
    "            if(len(s.replace(' ',''))!=0): # Dunno wtf is going on here. Looks like shitty data\n",
    "                f.write(s)\n"
   ]
  },
  {
   "cell_type": "code",
   "execution_count": 23,
   "metadata": {
    "collapsed": true
   },
   "outputs": [],
   "source": [
    "linesent = LineSentence('tmp/sample.txt')\n",
    "# bg_model = Phrases(linesent)"
   ]
  },
  {
   "cell_type": "markdown",
   "metadata": {},
   "source": [
    "Phrase"
   ]
  },
  {
   "cell_type": "code",
   "execution_count": 24,
   "metadata": {
    "collapsed": true
   },
   "outputs": [],
   "source": [
    "common_terms = [\"of\", \"with\", \"without\", \"and\", \"or\", \"the\", \"a\"]\n",
    "phrases = Phrases(linesent, common_terms=common_terms)"
   ]
  },
  {
   "cell_type": "code",
   "execution_count": 30,
   "metadata": {},
   "outputs": [
    {
     "name": "stderr",
     "output_type": "stream",
     "text": [
      "/opt/conda/envs/tc3/lib/python3.6/site-packages/gensim/models/phrases.py:494: UserWarning: For a faster implementation, use the gensim.models.phrases.Phraser class\n",
      "  warnings.warn(\"For a faster implementation, use the gensim.models.phrases.Phraser class\")\n"
     ]
    }
   ],
   "source": [
    "bigram_sent = phrases[linesent]"
   ]
  },
  {
   "cell_type": "code",
   "execution_count": 36,
   "metadata": {},
   "outputs": [
    {
     "name": "stderr",
     "output_type": "stream",
     "text": [
      "/opt/conda/envs/tc3/lib/python3.6/site-packages/gensim/models/phrases.py:494: UserWarning: For a faster implementation, use the gensim.models.phrases.Phraser class\n",
      "  warnings.warn(\"For a faster implementation, use the gensim.models.phrases.Phraser class\")\n"
     ]
    },
    {
     "name": "stdout",
     "output_type": "stream",
     "text": [
      "washington congressional_republicans have a new fear when -PRON- come to -PRON- health_care lawsuit_against the obama_administration -PRON- may winthe incoming_trump administration could choose to no_longer defend the executive_branch against the suit which challenge the administration ’s authority to spend billion_of_dollar on health_insurance subsidy for and americans hand house_republicans a big victory on issuebut a sudden loss of the dispute subsidy could conceivably because the health_care program to implode leave million of people without access_to health_insurance before republican have prepare a replacementthat could lead to chaos in the insurance_market and spur a political backlash just as republicans gain full control of the governmentto stave off that outcome republicans could find -PRON- in the awkward position of appropriate huge sum to temporarily prop up the obama health_care law anger conservative voter who have be demand an end to the law for yearin another twist donald_j. trump_’s administration worry_about preserve executive_branch prerogative could choose to fight -PRON- republican ally in the house on some central question in the disputeeager to avoid an ugly political pileup republicans on_capitol hill and the trump_transition team be game out how to handle the lawsuit which after_the_election have be put in limbo until at_least late february by the united_states court_of_appeals for the district_of_columbia circuit-PRON- be not_yet ready_to divulge -PRON- strategygive that this pend litigation involve the obama_administration and congress -PRON- would be inappropriate to comment say phillip j. blando a spokesman_for the trump_transition effortupon take_office the trump_administration will evaluate this_case and all relate aspect of the affordable_care actin a potentially decision in 2015 judge rosemary m. collyer rule that house_republicans have the standing to sue the executive_branch over a spending dispute and that the obama_administration have be distribute the health_insurance subsidy in violation of the constitution without approval from congressthe justice_department confident that judge collyer ’s decision would be reverse quickly appeal and the subsidy have remain in place during the appealin successfully seek a temporary halt in the proceeding after mr._trump win house_republicans last_month tell the court that -PRON- and the 's transition_team currently be discuss potential option for resolution of this matter to take_effect after the 's inauguration on_January 20 2017the suspension of the case house lawyer say will provide the and -PRON- future administration time to consider whether to continue prosecute or to otherwise resolve this appealrepublican leadership official in the house acknowledge the possibility of cascading effect if the payment which have total an_estimate $_13 billion be suddenly stopinsurer that receive the subsidy in exchange for pay cost such_as deductible and for eligible consumer could race to drop coverage since -PRON- would be lose moneyover all the loss of the subsidy could destabilize the entire program and because a lack of confidence that lead other insurer to seek a quick exit as wellanticipate that the trump_administration may not be incline to mount a vigorous fight_against the house_republicans give the 's dim view of the health_care law a team of lawyer this_month seek to intervene in the case on_behalf of two participant in the health_care programin -PRON- request the lawyer predict_that a deal between house_republicans and the new_administration to dismiss or settle the case will produce devastating consequence for the individual who receive these reduction as_well as for the nation_’s health_insurance and health_care system generallyno matter_what happen house_republicans say -PRON- want_to prevail on two overarch concept the congressional power of the purse and the right of congress to sue the executive_branch if -PRON- violate the constitution regard that spend powerhouse republicans contend_that congress never appropriate the money for the subsidy as require by the constitutionin the suit which be initially champion by john a. boehner the house_speaker at the time and later in house committee report republicans assert_that the administration desperate for the funding have require the treasury_department to provide -PRON- despite widespread internal skepticism that the spending be properthe white_house say that the spending be a permanent part of the law pass in 2010 and that no annual appropriation be require even_though the administration initially seek onejust as important to house_republicans judge collyer find that congress have the standing to sue the white_house on this issue a ruling that many legal expert say be flaw and -PRON- want that precedent to be set to restore congressional leverage over the executive branchbut on spend power and standing the trump_administration may come_under pressure from advocate of presidential authority to fight the house no_matter -PRON- share view on health_care since those precedent could have broad repercussion-PRON- be a complicated set of dynamic illustrate how a quick legal victory for the house in the trump era may come with cost that republicans never anticipate when -PRON- take on the obama white houseafter the bullet shell get count the blood dry and the votive candle burn out people peer down from window and see crime scene go cold a band of yellow police tape blow in the breezethe south_bronx just across the harlem river from manhattan and once shorthand for urban dysfunction still suffer violence at level long_ago slash in many_other part of new_york cityand yet the city ’s effort to fight -PRON- remain splintered underfunded and burden by scandalin the 40th_precinct at the southern tip of the bronx as in other poor minority neighborhood across_the_country people long hound for infraction be cry out for more protection against grievous injury or deathby september four of every five shooting in the precinct this year be unsolvedout of the city ’s 77 precinct the 40th have the high murder_rate but the few detective per violent_crime reflect disparity in staffing that hit hardest in some neighborhood outside manhattan accord_to a new_york times analysis of police_department datuminvestigator in the precinct be saddle with twice the number of case the department recommend even as -PRON- boss be call to police headquarters to answer for the sharp crime rise in the city this yearand across the bronx investigative resource be squeeze-PRON- have the high_rate of the city’sfive borough but the thin detective staffingnine of the 14 precinct_detective squad for violent_crime in the city be therethe borough ’s robbery squad be small than manhattan ’s even_though the bronx have have 1_300 more case this yearand -PRON- homicide squad have one detective for every four murder compare with one detective for roughly every two murder in upper manhattan and more_than one detective per murder in lower manhattanin lobby and family apartment outside methadone clinic and art studio people take note of the inequity-PRON- hear police commander explain that -PRON- lack the resource to place a floodlight on a dangerous block or to post officer at a corner-PRON- watch witness cower behind door more fearful of a gunman ’s crew than confident in the police department’s ability_to protect -PRON-so though people see a lot -PRON- rarely testifyand in the south_bronx as in so_many predominantly black and hispanic neighborhood like -PRON- in the united_states the contract between the police and the community be in tattersome people have story of crime report that be ignore or 911 call that go unanswered for hourother tell of a 911 call for help end in the caller ’s arrest or of a minor charge lead to 12_hour in a fetid hold cellthis be the paradox of police in the 40th precinct-PRON- neighborhood have historically be prime target for aggressive tactic like that be design to ward_off disorderbut precinct_detective there have less time than anywhere else in the city to answer for the blood spill in violent crimegola white who be beside -PRON- daughter when -PRON- be shoot_and_kill in a playground this_summer four_year after -PRON- son be gun down in the same housing project tick off the public_safety resource that -PRON- say be scant in bronx neighborhood like -PRON- security camera light lock investigate police officerhere -PRON- have nothing -PRON- saywhen -PRON- come to family -PRON- say the authority do_not really care as muchthat ’ how -PRON- feelthe times have be document the murder log this year in the 40th_precinct one of a handful of neighborhood_where deadly violence remain a problem in an_era of crime in new_york citythe homicide 14 in the precinct this year up from nine in 2015 strain detective and when -PRON- go unsolved as half of -PRON- have this year some look to take the law into -PRON- own handfrom hundred of conversation with grieve relative and friend witness and police_officer the social force that flare into murder in a place like the 40th_precinct become_clear merciless gang code mental_illness drug and long memory of feud that simmer out of officers’ viewthe reason some murder will never be solve also emerge paralyze fear of retribution victim carry secret to -PRON- graf and relentless casework that force detective to move on in hope that a break will come laterfrustration build on all sidedetectives’ phone rarely ring with tip and officer grow embitter with witness who will not cooperatein the meantime a victim ’s friend conduct -PRON- own investigation and talk of grab a stash gun from a wheel well or a mother ’s apartment when -PRON- find -P"
     ]
    },
    {
     "data": {
      "text/html": [
       "<b>limit_output extension: Maximum message size of 10000 exceeded with 292136 characters</b>"
      ]
     },
     "metadata": {},
     "output_type": "display_data"
    }
   ],
   "source": [
    "for i, unigram_sentence in enumerate(linesent):\n",
    "    bigram_sentence = ' '.join(phrases[unigram_sentence])\n",
    "    print(bigram_sentence)\n",
    "    if i > 10:\n",
    "        break"
   ]
  },
  {
   "cell_type": "code",
   "execution_count": null,
   "metadata": {
    "collapsed": true
   },
   "outputs": [],
   "source": []
  },
  {
   "cell_type": "code",
   "execution_count": null,
   "metadata": {
    "collapsed": true
   },
   "outputs": [],
   "source": []
  },
  {
   "cell_type": "markdown",
   "metadata": {},
   "source": [
    "sense2vec"
   ]
  },
  {
   "cell_type": "code",
   "execution_count": 31,
   "metadata": {
    "collapsed": true
   },
   "outputs": [],
   "source": [
    "# def transform_texts(texts):\n",
    "#     # Load the annotation models\n",
    "# #     nlp = English()\n",
    "#     # Stream texts through the models. We accumulate a buffer and release\n",
    "#     # the GIL around the parser, for efficient multi-threading.\n",
    "#     for doc in nlp.pipe(texts, n_threads=4):\n",
    "#         # Iterate over base NPs, e.g. \"all their good ideas\"\n",
    "#         for np in doc.noun_chunks:\n",
    "#             # Only keep adjectives and nouns, e.g. \"good ideas\"\n",
    "#             while len(np) > 1 and np[0].dep_ not in ('amod', 'compound'):\n",
    "#                 np = np[1:]\n",
    "#             if len(np) > 1:\n",
    "#                 # Merge the tokens, e.g. good_ideas\n",
    "#                 np.merge(np.root.tag_, np.text, np.root.ent_type_)\n",
    "#             # Iterate over named entities\n",
    "#             for ent in doc.ents:\n",
    "#                 if len(ent) > 1:\n",
    "#                     # Merge them into single tokens\n",
    "#                     ent.merge(ent.root.tag_, ent.text, ent.label_)\n",
    "#         token_strings = []\n",
    "#         for token in tokens:\n",
    "#             text = token.text.replace(' ', '_')\n",
    "#             tag = token.ent_type_ or token.pos_\n",
    "#             token_strings.append('%s|%s' % (text, tag))\n",
    "#         yield ' '.join(token_strings)"
   ]
  },
  {
   "cell_type": "code",
   "execution_count": 32,
   "metadata": {
    "collapsed": true
   },
   "outputs": [],
   "source": [
    "# tt = list(transform_texts(texts))"
   ]
  },
  {
   "cell_type": "code",
   "execution_count": 35,
   "metadata": {},
   "outputs": [
    {
     "data": {
      "text/plain": [
       "57852"
      ]
     },
     "execution_count": 35,
     "metadata": {},
     "output_type": "execute_result"
    }
   ],
   "source": [
    "nlp.vocab.length"
   ]
  },
  {
   "cell_type": "code",
   "execution_count": 53,
   "metadata": {},
   "outputs": [
    {
     "name": "stdout",
     "output_type": "stream",
     "text": [
      "LEFT\n",
      "WASHINGTON  \n",
      "RIGHT\n",
      "WASHINGTON  —   Congressional Republicans have a new fear when it comes to their    health care lawsuit against the Obama administration: They might win.\n",
      "LEFT\n",
      "—   \n",
      "RIGHT\n",
      "The incoming Trump administration could choose to no longer defend the executive branch against the suit, which challenges the administration’s authority to spend billions of dollars on health insurance subsidies for   and   Americans, handing House Republicans a big victory on    issues.\n",
      "LEFT\n",
      "Congressional Republicans have a new fear when it comes to their    health care lawsuit against the Obama administration: They might win.\n",
      "RIGHT\n",
      "But a sudden loss of the disputed subsidies could conceivably cause the health care program to implode, leaving millions of people without access to health insurance before Republicans have prepared a replacement.\n",
      "LEFT\n",
      "The incoming Trump administration could choose to no longer defend the executive branch against the suit, which challenges the administration’s authority to spend billions of dollars on health insurance subsidies for   and   Americans, handing House Republicans a big victory on    issues.\n",
      "RIGHT\n",
      "That could lead to chaos in the insurance market and spur a political backlash just as Republicans gain full control of the government.\n",
      "LEFT\n",
      "But a sudden loss of the disputed subsidies could conceivably cause the health care program to implode, leaving millions of people without access to health insurance before Republicans have prepared a replacement.\n",
      "RIGHT\n",
      "To stave off that outcome, Republicans could find themselves in the awkward position of appropriating huge sums to temporarily prop up the Obama health care law, angering conservative voters who have been demanding an end to the law for years.\n",
      "LEFT\n",
      "That could lead to chaos in the insurance market and spur a political backlash just as Republicans gain full control of the government.\n",
      "RIGHT\n",
      "In another twist, Donald J. Trump’s administration, worried about preserving executive branch prerogatives, could choose to fight its Republican allies in the House on some central questions in the dispute.\n",
      "LEFT\n",
      "To stave off that outcome, Republicans could find themselves in the awkward position of appropriating huge sums to temporarily prop up the Obama health care law, angering conservative voters who have been demanding an end to the law for years.\n",
      "RIGHT\n",
      "Eager to avoid an ugly political pileup, Republicans on Capitol Hill and the Trump transition team are gaming out how to handle the lawsuit, which, after the election, has been put in limbo until at least late February by the United States Court of Appeals for the District of Columbia Circuit.\n",
      "LEFT\n",
      "In another twist, Donald J. Trump’s administration, worried about preserving executive branch prerogatives, could choose to fight its Republican allies in the House on some central questions in the dispute.\n",
      "RIGHT\n",
      "They are not yet ready to divulge their strategy. “\n",
      "LEFT\n",
      "Eager to avoid an ugly political pileup, Republicans on Capitol Hill and the Trump transition team are gaming out how to handle the lawsuit, which, after the election, has been put in limbo until at least late February by the United States Court of Appeals for the District of Columbia Circuit.\n",
      "RIGHT\n",
      "Given that this pending litigation involves the Obama administration and Congress, it would be inappropriate to comment,” said Phillip J. Blando, a spokesman for the Trump transition effort. “\n",
      "LEFT\n",
      "They are not yet ready to divulge their strategy.\n",
      "RIGHT\n",
      "Upon taking office, the Trump administration will evaluate this case and all related aspects of the Affordable Care Act. ”\n",
      "LEFT\n",
      "“\n",
      "RIGHT\n",
      "In a potentially   decision in 2015, Judge Rosemary M. Collyer ruled that House Republicans had the standing to sue the executive branch over a spending dispute and that the Obama administration had been distributing the health insurance subsidies, in violation of the Constitution, without approval from Congress.\n",
      "LEFT\n",
      "Given that this pending litigation involves the Obama administration and Congress, it would be inappropriate to comment,” said Phillip J. Blando, a spokesman for the Trump transition effort.\n",
      "RIGHT\n",
      "The Justice Department, confident that Judge Collyer’s decision would be reversed, quickly appealed, and the subsidies have remained in place during the appeal.\n",
      "LEFT\n",
      "“Upon taking office, the Trump administration will evaluate this case and all related aspects of the Affordable Care Act.\n",
      "RIGHT\n",
      "In successfully seeking a temporary halt in the proceedings after Mr. Trump won, House Republicans last month told the court that they “and the  ’s transition team currently are discussing potential options for resolution of this matter, to take effect after the  ’s inauguration on Jan. 20, 2017. ”\n",
      "LEFT\n",
      "”\n",
      "RIGHT\n",
      "The suspension of the case, House lawyers said, will “provide the   and his future administration time to consider whether to continue prosecuting or to otherwise resolve this appeal. ”\n",
      "LEFT\n",
      "In a potentially   decision in 2015, Judge Rosemary M. Collyer ruled that House Republicans had the standing to sue the executive branch over a spending dispute and that the Obama administration had been distributing the health insurance subsidies, in violation of the Constitution, without approval from Congress.\n",
      "RIGHT\n",
      "Republican leadership officials in the House acknowledge the possibility of “cascading effects” if the   payments, which have totaled an estimated $13 billion, are suddenly stopped.\n",
      "LEFT\n",
      "The Justice Department, confident that Judge Collyer’s decision would be reversed, quickly appealed, and the subsidies have remained in place during the appeal.\n",
      "RIGHT\n",
      "Insurers that receive the subsidies in exchange for paying    costs such as deductibles and   for eligible consumers could race to drop coverage since they would be losing money.\n",
      "LEFT\n",
      "In successfully seeking a temporary halt in the proceedings after Mr. Trump won, House Republicans last month told the court that they “and the  ’s transition team currently are discussing potential options for resolution of this matter, to take effect after the  ’s inauguration on Jan. 20, 2017.\n",
      "RIGHT\n",
      "Over all, the loss of the subsidies could destabilize the entire program and cause a lack of confidence that leads other insurers to seek a quick exit as well.\n",
      "LEFT\n",
      "”\n",
      "RIGHT\n",
      "Anticipating that the Trump administration might not be inclined to mount a vigorous fight against the House Republicans given the  ’s dim view of the health care law, a team of lawyers this month sought to intervene in the case on behalf of two participants in the health care program.\n",
      "LEFT\n",
      "The suspension of the case, House lawyers said, will “provide the   and his future administration time to consider whether to continue prosecuting or to otherwise resolve this appeal.\n",
      "RIGHT\n",
      "In their request, the lawyers predicted that a deal between House Republicans and the new administration to dismiss or settle the case “will produce devastating consequences for the individuals who receive these reductions, as well as for the nation’s health insurance and health care systems generally. ”\n",
      "LEFT\n",
      "”\n",
      "RIGHT\n",
      "No matter what happens, House Republicans say, they want to prevail on two overarching concepts: the congressional power of the purse, and the right of Congress to sue the executive branch if it violates the Constitution regarding that spending power.\n",
      "LEFT\n",
      "Republican leadership officials in the House acknowledge the possibility of “cascading effects” if the   payments, which have totaled an estimated $13 billion, are suddenly stopped.\n",
      "RIGHT\n",
      "House Republicans contend that Congress never appropriated the money for the subsidies, as required by the Constitution.\n",
      "LEFT\n",
      "Insurers that receive the subsidies in exchange for paying    costs such as deductibles and   for eligible consumers could race to drop coverage since they would be losing money.\n",
      "RIGHT\n",
      "In the suit, which was initially championed by John A. Boehner, the House speaker at the time, and later in House committee reports, Republicans asserted that the administration, desperate for the funding, had required the Treasury Department to provide it despite widespread internal skepticism that the spending was proper.\n",
      "LEFT\n",
      "Over all, the loss of the subsidies could destabilize the entire program and cause a lack of confidence that leads other insurers to seek a quick exit as well.\n",
      "RIGHT\n",
      "The White House said that the spending was a permanent part of the law passed in 2010, and that no annual appropriation was required  —   even though the administration initially sought one.\n",
      "LEFT\n",
      "Anticipating that the Trump administration might not be inclined to mount a vigorous fight against the House Republicans given the  ’s dim view of the health care law, a team of lawyers this month sought to intervene in the case on behalf of two participants in the health care program.\n",
      "RIGHT\n",
      "Just as important to House Republicans, Judge Collyer found that Congress had the standing to sue the White House on this issue  —   a ruling that many legal experts said was flawed  —   and they want that precedent to be set to restore congressional leverage over the executive branch.\n",
      "LEFT\n",
      "In their request, the lawyers predicted that a deal between House Republicans and the new administration to dismiss or settle the case “will produce devastating consequences for the individuals who receive these reductions, as well as for the nation’s health insurance and health care systems generally.\n",
      "RIGHT\n",
      "But on spending power and standing, the Trump administration may come under pressure from advocates of presidential authority to fight the House no matter their shared views on health care, since those precedents could have broad repercussions.\n",
      "LEFT\n",
      "”\n",
      "RIGHT\n",
      "It is a complicated set of dynamics illustrating how a quick legal victory for the House in the Trump era might come with costs that Republicans never anticipated when they took on the Obama White House.\n"
     ]
    }
   ],
   "source": [
    "text = \"Hi there, I think I saw a furry bear peeing over there. Help!\"\n",
    "\n",
    "enabled = nlp(news.content[0])\n",
    "disabled = my_nlp(news.content[0])\n",
    "\n",
    "get_lemma = lambda x: x.lemma_\n",
    "both_lemmas = list(\n",
    "    zip([get_lemma(t) for t in enabled],\n",
    "       [get_lemma(t) for t in disabled])\n",
    ")\n",
    "\n",
    "both_sents = list(\n",
    "    zip([s for s in enabled.sents],\n",
    "       [s for s in disabled.sents])\n",
    ")\n",
    "\n",
    "for left,right in both_lemmas:\n",
    "    assert(left == right)\n",
    "\n",
    "for left,right in both_sents:\n",
    "    try:\n",
    "        assert(left == right)\n",
    "    except:\n",
    "        print('LEFT')\n",
    "        print(left)\n",
    "        print('RIGHT')\n",
    "        print(right)"
   ]
  },
  {
   "cell_type": "code",
   "execution_count": 11,
   "metadata": {},
   "outputs": [
    {
     "name": "stdout",
     "output_type": "stream",
     "text": [
      "yay\n",
      "yay\n",
      "yay\n",
      "yay\n",
      "yay\n",
      "yay\n",
      "yay\n",
      "yay\n",
      "18.5 s ± 1.3 s per loop (mean ± std. dev. of 7 runs, 1 loop each)\n"
     ]
    }
   ],
   "source": [
    "%%timeit\n",
    "for parsed in [nlp(c) for c in news.content[:100]]:\n",
    "    for sent in parsed.sents:\n",
    "        1+1\n",
    "print('yay')"
   ]
  },
  {
   "cell_type": "code",
   "execution_count": 9,
   "metadata": {},
   "outputs": [
    {
     "name": "stdout",
     "output_type": "stream",
     "text": [
      "['tagger', 'sbd']\n"
     ]
    }
   ],
   "source": [
    "# pipeline = ['tagger', 'sentencizer']\n",
    "my_nlp = spacy.load('en', disable=['ner','parser'])\n",
    "my_nlp.add_pipe(nlp.create_pipe('sentencizer'))\n",
    "\n",
    "# disabled = nlp.disable_pipes('ner', 'parser')\n",
    "# disabled.add_pipe(disabled.create_pipe('sentencizer'))\n",
    "\n",
    "print(my_nlp.pipe_names)"
   ]
  },
  {
   "cell_type": "code",
   "execution_count": 10,
   "metadata": {},
   "outputs": [
    {
     "name": "stdout",
     "output_type": "stream",
     "text": [
      "yay\n",
      "yay\n",
      "yay\n",
      "yay\n",
      "yay\n",
      "yay\n",
      "yay\n",
      "yay\n",
      "7.23 s ± 657 ms per loop (mean ± std. dev. of 7 runs, 1 loop each)\n"
     ]
    }
   ],
   "source": [
    "%%timeit\n",
    "for parsed in [my_nlp(c) for c in news.content[:100]]:\n",
    "    for sent in parsed.sents:\n",
    "        1+1\n",
    "print('yay')\n"
   ]
  },
  {
   "cell_type": "code",
   "execution_count": null,
   "metadata": {
    "collapsed": true
   },
   "outputs": [],
   "source": []
  }
 ],
 "metadata": {
  "kernelspec": {
   "display_name": "Python 3 (tc3)",
   "language": "python",
   "name": "tc3"
  },
  "language_info": {
   "codemirror_mode": {
    "name": "ipython",
    "version": 3
   },
   "file_extension": ".py",
   "mimetype": "text/x-python",
   "name": "python",
   "nbconvert_exporter": "python",
   "pygments_lexer": "ipython3",
   "version": "3.6.5"
  },
  "varInspector": {
   "cols": {
    "lenName": 16,
    "lenType": 16,
    "lenVar": 40
   },
   "kernels_config": {
    "python": {
     "delete_cmd_postfix": "",
     "delete_cmd_prefix": "del ",
     "library": "var_list.py",
     "varRefreshCmd": "print(var_dic_list())"
    },
    "r": {
     "delete_cmd_postfix": ") ",
     "delete_cmd_prefix": "rm(",
     "library": "var_list.r",
     "varRefreshCmd": "cat(var_dic_list()) "
    }
   },
   "types_to_exclude": [
    "module",
    "function",
    "builtin_function_or_method",
    "instance",
    "_Feature"
   ],
   "window_display": false
  }
 },
 "nbformat": 4,
 "nbformat_minor": 2
}
